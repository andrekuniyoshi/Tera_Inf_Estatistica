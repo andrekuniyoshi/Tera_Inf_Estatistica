{
  "nbformat": 4,
  "nbformat_minor": 0,
  "metadata": {
    "colab": {
      "name": "Tera Desafio Inferencia Estatistica.ipynb",
      "provenance": [],
      "collapsed_sections": []
    },
    "kernelspec": {
      "name": "python3",
      "display_name": "Python 3"
    },
    "language_info": {
      "name": "python"
    }
  },
  "cells": [
    {
      "cell_type": "markdown",
      "metadata": {
        "id": "i6rUyQY42Tg7"
      },
      "source": [
        "# INTODUÇÃO"
      ]
    },
    {
      "cell_type": "markdown",
      "metadata": {
        "id": "aTq10C1eY68g"
      },
      "source": [
        "A análise de dados trazida aqui nesse estudo visa identificar a relação entre os hábitos alimentares e atividade física interferem no desenvolvimento de sintomas depressivos\n",
        "\n",
        "Para dados de sintomas depressivos, vamos utilizar dados do Patient Health Questionnaire-9 (PHQ-9).\n",
        "\n",
        "Para hábitos alimentares, vamos utilizar dados do Healthy Eating Index (HEI), enquanto atividades físicas são avaliadas pelos dados do Physical Activity Guidelines for Americans (PAGA).\n",
        "\n",
        "Os bancos de dados utilizados foram fornecidos e são:\n",
        " - PAG_HEI.csv: banco de dados contendo 9424 observações de crianças e adultos pesquisados no NHANES 2005-2006\n",
        " - DEMO_PHQ.csv: banco de dados contendo 5334 observações de adultos pesquisados no NHANES 2005-2006"
      ]
    },
    {
      "cell_type": "markdown",
      "metadata": {
        "id": "I-olICsLa_Xo"
      },
      "source": [
        "Para o banco de dados PAG_HEI.csv, que avalia o grau de sintomas depressivos dos indivíduos\n",
        "\n",
        "SEQN: Identificador único do respondente\n",
        "\n",
        "PAG_MINW: Tempo total semanal de atividade aeróbica moderada-vigorosa em minutos segundo o Physical Activity Guideline (PAG)\n",
        "\n",
        "ADHERENCE: Grupo de aderência ao Physical Activity Guideline (PAG)\n",
        "\n",
        "HEI2015C1_TOTALVEG: Healthy Eating Index - Componente 1 - Total de Vegetais\n",
        "\n",
        "HEI2015C2_GREEN_AND_BEAN: Healthy Eating Index - Componente 2 - Verduras verde-\n",
        "escuras e leguminosas\n",
        "\n",
        "HEI2015C3_TOTALFRUIT: Healthy Eating Index - Componente 3 - Frutas totais\n",
        "\n",
        "HEI2015C4_WHOLEFRUIT: Healthy Eating Index - Componente 4 - Frutas in natura\n",
        "\n",
        "HEI2015C5_WHOLEGRAIN: Healthy Eating Index - Componente 5 - Grãos integrais\n",
        "\n",
        "HEI2015C6_TOTALDAIRY: Healthy Eating Index - Componente 6 - Laticínios\n",
        "\n",
        "HEI2015C7_TOTPROT: Healthy Eating Index - Componente 7 - Proteínas\n",
        "\n",
        "HEI2015C8_SEAPLANT_PROT: Healthy Eating Index - Componente 8 - Plantas marinhas e proteínas vegetais\n",
        "\n",
        "HEI2015C9_FATTYACID: Healthy Eating Index - Componente 9 - Ácido-graxo\n",
        "\n",
        "HEI2015C10_SODIUM: Healthy Eating Index - Componente 10 - Sódio\n",
        "\n",
        "HEI2015C11_REFINEDGRAIN: Healthy Eating Index - Componente 11 - Grãos refinados\n",
        "\n",
        "HEI2015C12_SFAT: Healthy Eating Index - Componente 12 - Gordura saturada\n",
        "\n",
        "HEI2015C13_ADDSUG: Healthy Eating Index - Componente 13 - Açúcares adicionados\n",
        "\n",
        "HEI2015_TOTAL_SCORE: Healthy Eating Index - Escore total"
      ]
    },
    {
      "cell_type": "markdown",
      "metadata": {
        "id": "FrGeRK7tcg0L"
      },
      "source": [
        "DPQ010 Nas últimas 2 semanas, com que frequência você ficou incomodado por algum dos problemas a seguir:\n",
        "Pouco interesse ou pouco prazer em fazer as coisas\n",
        "\n",
        "DPQ020 Nas últimas 2 semanas, com que frequência você ficou incomodado por algum dos problemas a seguir:\n",
        "Se sentiu para baixo, deprimido(a) ou sem perspectiva\n",
        "\n",
        "DPQ030 Nas últimas 2 semanas, com que frequência você ficou incomodado por algum dos problemas a seguir:\n",
        "Dificuldade para pegar no sono ou permanecer dormindo ou dormiu mais do que o\n",
        "costume\n",
        "\n",
        "DPQ040 Nas últimas 2 semanas, com que frequência você ficou incomodado por algum dos problemas a seguir:\n",
        "Se sentiu cansado(a) ou com pouca energia\n",
        "\n",
        "DPQ050 Nas últimas 2 semanas, com que frequência você ficou incomodado por algum dos problemas a seguir:\n",
        "Falta de apetite ou comeu demais\n",
        "\n",
        "DPQ060 Nas últimas 2 semanas, com que frequência você ficou incomodado por algum dos problemas a seguir:\n",
        "Se sentiu mal consigo mesmo(a) ou achou que é um fracasso ou que decepcionou sua família ou a você mesmo(a)\n",
        "\n",
        "DPQ070 Nas últimas 2 semanas, com que frequência você ficou incomodado por algum dos problemas a seguir:\n",
        "Dificuldade para se concentrar nas coisas (como ler o jornal ou ver televisão)\n",
        "\n",
        "DPQ080 Nas últimas 2 semanas, com que frequência você ficou incomodado por algum dos problemas a seguir:\n",
        "Teve lentidão para se movimentar ou falar (a ponto de outras pessoas\n",
        "perceberem), ou ao contrário, esteve tão agitado(a) que você ficava andando de\n",
        "um lado para o outro mais do que costume\n",
        "\n",
        "DPQ090 Nas últimas 2 semanas, com que frequência você ficou incomodado por algum dos problemas a seguir:\n",
        "Pensou em se ferir de alguma maneira ou que seria melhor estar morto(a)\n",
        "\n",
        "RIDAGEYR Idade em anos\n",
        "\n",
        "RIDRETH1 Raça/Etnia\n",
        "\n",
        "DMDEDUC Escolaridade\n",
        "\n",
        "INDFMINC Renda anual familiar (US$)"
      ]
    },
    {
      "cell_type": "markdown",
      "metadata": {
        "id": "jjkk4sGOemPd"
      },
      "source": [
        "# Tratamento de Dados"
      ]
    },
    {
      "cell_type": "markdown",
      "metadata": {
        "id": "DGytGtHHepTv"
      },
      "source": [
        "## Importando os dados"
      ]
    },
    {
      "cell_type": "code",
      "metadata": {
        "id": "xKwgpbB98RQM"
      },
      "source": [
        "# importando as bibliotecas a serem utilizadas\n",
        "import pandas as pd\n",
        "import numpy as np\n",
        "import matplotlib.pyplot as plt\n",
        "import seaborn as sns\n",
        "import missingno as msno"
      ],
      "execution_count": null,
      "outputs": []
    },
    {
      "cell_type": "code",
      "metadata": {
        "id": "umLZz2Uqe8AQ",
        "outputId": "e8873d8a-ece2-4533-8aa6-835b2ecf9774",
        "colab": {
          "base_uri": "https://localhost:8080/",
          "height": 415
        }
      },
      "source": [
        "# importando os dados\n",
        "df_PHQ = pd.read_csv('DEMO_PHQ.csv')\n",
        "df_HEI = pd.read_csv('PAG_HEI.csv')"
      ],
      "execution_count": null,
      "outputs": [
        {
          "output_type": "error",
          "ename": "FileNotFoundError",
          "evalue": "ignored",
          "traceback": [
            "\u001b[0;31m---------------------------------------------------------------------------\u001b[0m",
            "\u001b[0;31mFileNotFoundError\u001b[0m                         Traceback (most recent call last)",
            "\u001b[0;32m<ipython-input-2-39e3afc6afb2>\u001b[0m in \u001b[0;36m<module>\u001b[0;34m()\u001b[0m\n\u001b[1;32m      1\u001b[0m \u001b[0;31m# importando os dados\u001b[0m\u001b[0;34m\u001b[0m\u001b[0;34m\u001b[0m\u001b[0;34m\u001b[0m\u001b[0m\n\u001b[0;32m----> 2\u001b[0;31m \u001b[0mdf_PHQ\u001b[0m \u001b[0;34m=\u001b[0m \u001b[0mpd\u001b[0m\u001b[0;34m.\u001b[0m\u001b[0mread_csv\u001b[0m\u001b[0;34m(\u001b[0m\u001b[0;34m'DEMO_PHQ.csv'\u001b[0m\u001b[0;34m)\u001b[0m\u001b[0;34m\u001b[0m\u001b[0;34m\u001b[0m\u001b[0m\n\u001b[0m\u001b[1;32m      3\u001b[0m \u001b[0mdf_HEI\u001b[0m \u001b[0;34m=\u001b[0m \u001b[0mpd\u001b[0m\u001b[0;34m.\u001b[0m\u001b[0mread_csv\u001b[0m\u001b[0;34m(\u001b[0m\u001b[0;34m'PAG_HEI.csv'\u001b[0m\u001b[0;34m)\u001b[0m\u001b[0;34m\u001b[0m\u001b[0;34m\u001b[0m\u001b[0m\n",
            "\u001b[0;32m/usr/local/lib/python3.7/dist-packages/pandas/io/parsers.py\u001b[0m in \u001b[0;36mread_csv\u001b[0;34m(filepath_or_buffer, sep, delimiter, header, names, index_col, usecols, squeeze, prefix, mangle_dupe_cols, dtype, engine, converters, true_values, false_values, skipinitialspace, skiprows, skipfooter, nrows, na_values, keep_default_na, na_filter, verbose, skip_blank_lines, parse_dates, infer_datetime_format, keep_date_col, date_parser, dayfirst, cache_dates, iterator, chunksize, compression, thousands, decimal, lineterminator, quotechar, quoting, doublequote, escapechar, comment, encoding, dialect, error_bad_lines, warn_bad_lines, delim_whitespace, low_memory, memory_map, float_precision)\u001b[0m\n\u001b[1;32m    686\u001b[0m     )\n\u001b[1;32m    687\u001b[0m \u001b[0;34m\u001b[0m\u001b[0m\n\u001b[0;32m--> 688\u001b[0;31m     \u001b[0;32mreturn\u001b[0m \u001b[0m_read\u001b[0m\u001b[0;34m(\u001b[0m\u001b[0mfilepath_or_buffer\u001b[0m\u001b[0;34m,\u001b[0m \u001b[0mkwds\u001b[0m\u001b[0;34m)\u001b[0m\u001b[0;34m\u001b[0m\u001b[0;34m\u001b[0m\u001b[0m\n\u001b[0m\u001b[1;32m    689\u001b[0m \u001b[0;34m\u001b[0m\u001b[0m\n\u001b[1;32m    690\u001b[0m \u001b[0;34m\u001b[0m\u001b[0m\n",
            "\u001b[0;32m/usr/local/lib/python3.7/dist-packages/pandas/io/parsers.py\u001b[0m in \u001b[0;36m_read\u001b[0;34m(filepath_or_buffer, kwds)\u001b[0m\n\u001b[1;32m    452\u001b[0m \u001b[0;34m\u001b[0m\u001b[0m\n\u001b[1;32m    453\u001b[0m     \u001b[0;31m# Create the parser.\u001b[0m\u001b[0;34m\u001b[0m\u001b[0;34m\u001b[0m\u001b[0;34m\u001b[0m\u001b[0m\n\u001b[0;32m--> 454\u001b[0;31m     \u001b[0mparser\u001b[0m \u001b[0;34m=\u001b[0m \u001b[0mTextFileReader\u001b[0m\u001b[0;34m(\u001b[0m\u001b[0mfp_or_buf\u001b[0m\u001b[0;34m,\u001b[0m \u001b[0;34m**\u001b[0m\u001b[0mkwds\u001b[0m\u001b[0;34m)\u001b[0m\u001b[0;34m\u001b[0m\u001b[0;34m\u001b[0m\u001b[0m\n\u001b[0m\u001b[1;32m    455\u001b[0m \u001b[0;34m\u001b[0m\u001b[0m\n\u001b[1;32m    456\u001b[0m     \u001b[0;32mif\u001b[0m \u001b[0mchunksize\u001b[0m \u001b[0;32mor\u001b[0m \u001b[0miterator\u001b[0m\u001b[0;34m:\u001b[0m\u001b[0;34m\u001b[0m\u001b[0;34m\u001b[0m\u001b[0m\n",
            "\u001b[0;32m/usr/local/lib/python3.7/dist-packages/pandas/io/parsers.py\u001b[0m in \u001b[0;36m__init__\u001b[0;34m(self, f, engine, **kwds)\u001b[0m\n\u001b[1;32m    946\u001b[0m             \u001b[0mself\u001b[0m\u001b[0;34m.\u001b[0m\u001b[0moptions\u001b[0m\u001b[0;34m[\u001b[0m\u001b[0;34m\"has_index_names\"\u001b[0m\u001b[0;34m]\u001b[0m \u001b[0;34m=\u001b[0m \u001b[0mkwds\u001b[0m\u001b[0;34m[\u001b[0m\u001b[0;34m\"has_index_names\"\u001b[0m\u001b[0;34m]\u001b[0m\u001b[0;34m\u001b[0m\u001b[0;34m\u001b[0m\u001b[0m\n\u001b[1;32m    947\u001b[0m \u001b[0;34m\u001b[0m\u001b[0m\n\u001b[0;32m--> 948\u001b[0;31m         \u001b[0mself\u001b[0m\u001b[0;34m.\u001b[0m\u001b[0m_make_engine\u001b[0m\u001b[0;34m(\u001b[0m\u001b[0mself\u001b[0m\u001b[0;34m.\u001b[0m\u001b[0mengine\u001b[0m\u001b[0;34m)\u001b[0m\u001b[0;34m\u001b[0m\u001b[0;34m\u001b[0m\u001b[0m\n\u001b[0m\u001b[1;32m    949\u001b[0m \u001b[0;34m\u001b[0m\u001b[0m\n\u001b[1;32m    950\u001b[0m     \u001b[0;32mdef\u001b[0m \u001b[0mclose\u001b[0m\u001b[0;34m(\u001b[0m\u001b[0mself\u001b[0m\u001b[0;34m)\u001b[0m\u001b[0;34m:\u001b[0m\u001b[0;34m\u001b[0m\u001b[0;34m\u001b[0m\u001b[0m\n",
            "\u001b[0;32m/usr/local/lib/python3.7/dist-packages/pandas/io/parsers.py\u001b[0m in \u001b[0;36m_make_engine\u001b[0;34m(self, engine)\u001b[0m\n\u001b[1;32m   1178\u001b[0m     \u001b[0;32mdef\u001b[0m \u001b[0m_make_engine\u001b[0m\u001b[0;34m(\u001b[0m\u001b[0mself\u001b[0m\u001b[0;34m,\u001b[0m \u001b[0mengine\u001b[0m\u001b[0;34m=\u001b[0m\u001b[0;34m\"c\"\u001b[0m\u001b[0;34m)\u001b[0m\u001b[0;34m:\u001b[0m\u001b[0;34m\u001b[0m\u001b[0;34m\u001b[0m\u001b[0m\n\u001b[1;32m   1179\u001b[0m         \u001b[0;32mif\u001b[0m \u001b[0mengine\u001b[0m \u001b[0;34m==\u001b[0m \u001b[0;34m\"c\"\u001b[0m\u001b[0;34m:\u001b[0m\u001b[0;34m\u001b[0m\u001b[0;34m\u001b[0m\u001b[0m\n\u001b[0;32m-> 1180\u001b[0;31m             \u001b[0mself\u001b[0m\u001b[0;34m.\u001b[0m\u001b[0m_engine\u001b[0m \u001b[0;34m=\u001b[0m \u001b[0mCParserWrapper\u001b[0m\u001b[0;34m(\u001b[0m\u001b[0mself\u001b[0m\u001b[0;34m.\u001b[0m\u001b[0mf\u001b[0m\u001b[0;34m,\u001b[0m \u001b[0;34m**\u001b[0m\u001b[0mself\u001b[0m\u001b[0;34m.\u001b[0m\u001b[0moptions\u001b[0m\u001b[0;34m)\u001b[0m\u001b[0;34m\u001b[0m\u001b[0;34m\u001b[0m\u001b[0m\n\u001b[0m\u001b[1;32m   1181\u001b[0m         \u001b[0;32melse\u001b[0m\u001b[0;34m:\u001b[0m\u001b[0;34m\u001b[0m\u001b[0;34m\u001b[0m\u001b[0m\n\u001b[1;32m   1182\u001b[0m             \u001b[0;32mif\u001b[0m \u001b[0mengine\u001b[0m \u001b[0;34m==\u001b[0m \u001b[0;34m\"python\"\u001b[0m\u001b[0;34m:\u001b[0m\u001b[0;34m\u001b[0m\u001b[0;34m\u001b[0m\u001b[0m\n",
            "\u001b[0;32m/usr/local/lib/python3.7/dist-packages/pandas/io/parsers.py\u001b[0m in \u001b[0;36m__init__\u001b[0;34m(self, src, **kwds)\u001b[0m\n\u001b[1;32m   2008\u001b[0m         \u001b[0mkwds\u001b[0m\u001b[0;34m[\u001b[0m\u001b[0;34m\"usecols\"\u001b[0m\u001b[0;34m]\u001b[0m \u001b[0;34m=\u001b[0m \u001b[0mself\u001b[0m\u001b[0;34m.\u001b[0m\u001b[0musecols\u001b[0m\u001b[0;34m\u001b[0m\u001b[0;34m\u001b[0m\u001b[0m\n\u001b[1;32m   2009\u001b[0m \u001b[0;34m\u001b[0m\u001b[0m\n\u001b[0;32m-> 2010\u001b[0;31m         \u001b[0mself\u001b[0m\u001b[0;34m.\u001b[0m\u001b[0m_reader\u001b[0m \u001b[0;34m=\u001b[0m \u001b[0mparsers\u001b[0m\u001b[0;34m.\u001b[0m\u001b[0mTextReader\u001b[0m\u001b[0;34m(\u001b[0m\u001b[0msrc\u001b[0m\u001b[0;34m,\u001b[0m \u001b[0;34m**\u001b[0m\u001b[0mkwds\u001b[0m\u001b[0;34m)\u001b[0m\u001b[0;34m\u001b[0m\u001b[0;34m\u001b[0m\u001b[0m\n\u001b[0m\u001b[1;32m   2011\u001b[0m         \u001b[0mself\u001b[0m\u001b[0;34m.\u001b[0m\u001b[0munnamed_cols\u001b[0m \u001b[0;34m=\u001b[0m \u001b[0mself\u001b[0m\u001b[0;34m.\u001b[0m\u001b[0m_reader\u001b[0m\u001b[0;34m.\u001b[0m\u001b[0munnamed_cols\u001b[0m\u001b[0;34m\u001b[0m\u001b[0;34m\u001b[0m\u001b[0m\n\u001b[1;32m   2012\u001b[0m \u001b[0;34m\u001b[0m\u001b[0m\n",
            "\u001b[0;32mpandas/_libs/parsers.pyx\u001b[0m in \u001b[0;36mpandas._libs.parsers.TextReader.__cinit__\u001b[0;34m()\u001b[0m\n",
            "\u001b[0;32mpandas/_libs/parsers.pyx\u001b[0m in \u001b[0;36mpandas._libs.parsers.TextReader._setup_parser_source\u001b[0;34m()\u001b[0m\n",
            "\u001b[0;31mFileNotFoundError\u001b[0m: [Errno 2] No such file or directory: 'DEMO_PHQ.csv'"
          ]
        }
      ]
    },
    {
      "cell_type": "code",
      "metadata": {
        "id": "m899IKGXf75N"
      },
      "source": [
        "df_PHQ.head()"
      ],
      "execution_count": null,
      "outputs": []
    },
    {
      "cell_type": "code",
      "metadata": {
        "id": "E-yRtjGHAN72"
      },
      "source": [
        "df_PHQ.shape"
      ],
      "execution_count": null,
      "outputs": []
    },
    {
      "cell_type": "code",
      "metadata": {
        "id": "WQgPKpyGf-RT"
      },
      "source": [
        "df_HEI.head(10)"
      ],
      "execution_count": null,
      "outputs": []
    },
    {
      "cell_type": "code",
      "metadata": {
        "id": "TSobpIsRASnh"
      },
      "source": [
        "df_HEI.shape"
      ],
      "execution_count": null,
      "outputs": []
    },
    {
      "cell_type": "markdown",
      "metadata": {
        "id": "hOWUAVBjjsiU"
      },
      "source": [
        "## Primeiro, vamos definir os datasets"
      ]
    },
    {
      "cell_type": "markdown",
      "metadata": {
        "id": "Gld5x5Am3mT9"
      },
      "source": [
        "Utilizando a chave SEQN, vamos deixar nos datasets somente os indivíduos que estiverem em ambos. Isso deve excluir as crianças dos dados de depressão (DEMO_PHQ.csv)"
      ]
    },
    {
      "cell_type": "code",
      "metadata": {
        "id": "vBE73NUdkTiY"
      },
      "source": [
        "# unindo os datasets pela chave SEQN, eliminando indivíduos que não estão em ambos\n",
        "df_comb = df_HEI.set_index('SEQN').join( df_PHQ.set_index('SEQN'), how='inner')"
      ],
      "execution_count": null,
      "outputs": []
    },
    {
      "cell_type": "code",
      "metadata": {
        "id": "VPoQMDFH8EvC"
      },
      "source": [
        "df_comb"
      ],
      "execution_count": null,
      "outputs": []
    },
    {
      "cell_type": "code",
      "metadata": {
        "id": "vZacN0bRA63e"
      },
      "source": [
        "# definindo os novos datasets, agora somente com adultos\n",
        "df_HEI_adultos = df_comb.iloc[:,:16]\n",
        "df_PHQ_adultos = df_comb.iloc[:,16:]"
      ],
      "execution_count": null,
      "outputs": []
    },
    {
      "cell_type": "code",
      "metadata": {
        "id": "CSc483XLAyYJ"
      },
      "source": [
        "df_HEI_adultos.shape"
      ],
      "execution_count": null,
      "outputs": []
    },
    {
      "cell_type": "code",
      "metadata": {
        "id": "AVChIFRuGD-Z"
      },
      "source": [
        "df_PHQ_adultos.shape"
      ],
      "execution_count": null,
      "outputs": []
    },
    {
      "cell_type": "markdown",
      "metadata": {
        "id": "5V-0MRmpGJSq"
      },
      "source": [
        "## Tratando os dados faltantes de NUTRIÇÃO"
      ]
    },
    {
      "cell_type": "code",
      "metadata": {
        "id": "7PPX8r7UGGLl"
      },
      "source": [
        "df_HEI_adultos.info()"
      ],
      "execution_count": null,
      "outputs": []
    },
    {
      "cell_type": "code",
      "metadata": {
        "id": "465ICvtXGP1L"
      },
      "source": [
        "# visualizando dados faltantes\n",
        "# Visualize missing values as a matrix\n",
        "msno.matrix(df_HEI_adultos)"
      ],
      "execution_count": null,
      "outputs": []
    },
    {
      "cell_type": "markdown",
      "metadata": {
        "id": "_-sMm0KhHXwd"
      },
      "source": [
        "Como podemos observar, todas as features apresentam 5060 dados não faltantes. Pela matrix, vimos que quando há um dados faltante de uma feature, as outras também estão faltantes. Nesse caso, podemos eliminar esses dados, pois não acrescentam na nossa análise"
      ]
    },
    {
      "cell_type": "code",
      "metadata": {
        "id": "yOgSFJjGHGsd"
      },
      "source": [
        "# eliminando os dados faltantes de df_HEI_adultos\n",
        "df_HEI_adultos.dropna(inplace=True)"
      ],
      "execution_count": null,
      "outputs": []
    },
    {
      "cell_type": "code",
      "metadata": {
        "id": "QbCAEHp3IGFZ"
      },
      "source": [
        "df_HEI_adultos.info()"
      ],
      "execution_count": null,
      "outputs": []
    },
    {
      "cell_type": "markdown",
      "metadata": {
        "id": "9Lpzix5TIZR2"
      },
      "source": [
        "## Tratando os dados faltantes de DEPRESSÃO"
      ]
    },
    {
      "cell_type": "code",
      "metadata": {
        "id": "bdb45TwIILXQ"
      },
      "source": [
        "df_PHQ_adultos.info()"
      ],
      "execution_count": null,
      "outputs": []
    },
    {
      "cell_type": "code",
      "metadata": {
        "id": "vbSTAzOOIhTg"
      },
      "source": [
        "msno.matrix(df_PHQ_adultos)"
      ],
      "execution_count": null,
      "outputs": []
    },
    {
      "cell_type": "code",
      "metadata": {
        "id": "Jn9LNup6Isgu"
      },
      "source": [
        "# eliminando os dados faltantes de df_PHQ_adultos\n",
        "# baseado na primeira coluna\n",
        "# pois vimos que a col INDFMINC também tem alguns dados faltantes,\n",
        "# porém, que podem ser preenchidos\n",
        "\n",
        "df_PHQ_adultos.dropna(subset=['DPQ010'], inplace = True)"
      ],
      "execution_count": null,
      "outputs": []
    },
    {
      "cell_type": "code",
      "metadata": {
        "id": "aQ_kEuWzJrZq"
      },
      "source": [
        "df_PHQ_adultos.info()"
      ],
      "execution_count": null,
      "outputs": []
    },
    {
      "cell_type": "code",
      "metadata": {
        "id": "5_5zRtvwJ1GO"
      },
      "source": [
        "# Como a col INDFMINC se refere à renda familiar,\n",
        "# primeiro vamos verificar como ela se comporta\n",
        "\n",
        "plt.figure(figsize = (10,6))\n",
        "sns.histplot(df_PHQ_adultos.INDFMINC)"
      ],
      "execution_count": null,
      "outputs": []
    },
    {
      "cell_type": "code",
      "metadata": {
        "id": "bGNgqJ7jKZb-"
      },
      "source": [
        "# Nesse caso, o melhor é preencher os dados faltantes com a mediana\n",
        "df_PHQ_adultos.INDFMINC.fillna(df_PHQ_adultos.INDFMINC.median(), inplace=True)"
      ],
      "execution_count": null,
      "outputs": []
    },
    {
      "cell_type": "code",
      "metadata": {
        "id": "rlpB76l1K9ac"
      },
      "source": [
        "df_PHQ_adultos.info()"
      ],
      "execution_count": null,
      "outputs": []
    },
    {
      "cell_type": "markdown",
      "metadata": {
        "id": "0gXWndveFRrj"
      },
      "source": [
        "## Avaliando Respostas 7 (não quis) e 9 (não soube) em df_PHQ_adultos"
      ]
    },
    {
      "cell_type": "code",
      "metadata": {
        "id": "pcAsR5mOFZ80"
      },
      "source": [
        "# vamos ver como estão os primeiros dados\n",
        "df_PHQ_adultos.head()"
      ],
      "execution_count": null,
      "outputs": []
    },
    {
      "cell_type": "code",
      "metadata": {
        "id": "wfpMhZ0ZGuFy"
      },
      "source": [
        "# printando alguns dados estatísticos de df_HEI_adultos\n",
        "df_PHQ_adultos.describe()"
      ],
      "execution_count": null,
      "outputs": []
    },
    {
      "cell_type": "code",
      "metadata": {
        "id": "iogNieo1Ih4W"
      },
      "source": [
        "# listando as colunas que possuem os valores 7 (não quis) e 9 (não soube)\n",
        "df_PHQ_adultos_colunas = df_PHQ_adultos.drop(columns=['RIAGENDR','RIDAGEYR','RIDRETH1','INDFMINC'], axis = 1).columns\n",
        "df_PHQ_adultos_colunas"
      ],
      "execution_count": null,
      "outputs": []
    },
    {
      "cell_type": "code",
      "metadata": {
        "id": "OAd1cSB2Obr7"
      },
      "source": [
        "# para cada feature, verificar % de respostas 7 e 9\n",
        "for coluna in df_PHQ_adultos_colunas:\n",
        "  soma_7 = (df_PHQ_adultos[coluna] == 7).sum()\n",
        "  total = len(df_PHQ_adultos[coluna])\n",
        "  porc_7 = round(soma_7/total*100, 2)\n",
        "\n",
        "  soma_9 = (df_PHQ_adultos[coluna] == 9).sum()\n",
        "  porc_9 = round(soma_9/total*100, 2)\n",
        "\n",
        "  print(f'{coluna} - resposta 7: {porc_7}%')\n",
        "  print(f'{coluna} - resposta 9: {porc_9}%\\n')"
      ],
      "execution_count": null,
      "outputs": []
    },
    {
      "cell_type": "markdown",
      "metadata": {
        "id": "f-ssKidng-CS"
      },
      "source": [
        "Como os valores 7 e 9 para cada feature são muito pequenos, decidi substitui-los pela mediana.\n",
        "\n",
        "Caso correspondessem a uma parcela maior, seria interessante investigar quem são esses indivíduos, e sua relação com alimentação e atividade física, para verificar algum padrão."
      ]
    },
    {
      "cell_type": "code",
      "metadata": {
        "id": "L6D4Ado9bHUe"
      },
      "source": [
        "for coluna in df_PHQ_adultos_colunas:\n",
        "  df_PHQ_adultos[coluna].replace(to_replace = 7,\n",
        "                         value = df_PHQ_adultos[coluna].median(),\n",
        "                         inplace = True)\n",
        "  df_PHQ_adultos[coluna].replace(to_replace = 9,\n",
        "                         value = df_PHQ_adultos[coluna].median(),\n",
        "                         inplace = True)\n",
        "  "
      ],
      "execution_count": null,
      "outputs": []
    },
    {
      "cell_type": "markdown",
      "metadata": {
        "id": "vdg_FpdWiNUw"
      },
      "source": [
        "Agora que os valores foram substituídos, vamos verificar se há ainda alguma resposta 7 ou 9 remanescente"
      ]
    },
    {
      "cell_type": "code",
      "metadata": {
        "id": "WOEohjOUgdnR"
      },
      "source": [
        "# para cada feature, verificar % de respostas 7 e 9\n",
        "for coluna in df_PHQ_adultos_colunas:\n",
        "  soma_7 = (df_PHQ_adultos[coluna] == 7).sum()\n",
        "  total = len(df_PHQ_adultos[coluna])\n",
        "  porc_7 = round(soma_7/total*100, 2)\n",
        "\n",
        "  soma_9 = (df_PHQ_adultos[coluna] == 9).sum()\n",
        "  porc_9 = round(soma_9/total*100, 2)\n",
        "\n",
        "  print(f'{coluna} - resposta 7: {porc_7}%')\n",
        "  print(f'{coluna} - resposta 9: {porc_9}%\\n')"
      ],
      "execution_count": null,
      "outputs": []
    },
    {
      "cell_type": "code",
      "metadata": {
        "id": "GU44-MjziXfQ"
      },
      "source": [
        "df_PHQ_adultos.head()"
      ],
      "execution_count": null,
      "outputs": []
    },
    {
      "cell_type": "code",
      "metadata": {
        "id": "WorxIFBZioBW"
      },
      "source": [
        "df_PHQ_adultos.shape"
      ],
      "execution_count": null,
      "outputs": []
    },
    {
      "cell_type": "markdown",
      "metadata": {
        "id": "6rEDBuf8oZiZ"
      },
      "source": [
        "A feature de Renda Familiar apresenta os valores 77 e 99 como opção de respostas. Vamos ver a proporção de cada uma no dataset"
      ]
    },
    {
      "cell_type": "code",
      "metadata": {
        "id": "JrW9RQ6loYUi"
      },
      "source": [
        "# para cada feature, verificar % de respostas 77 e 99\n",
        "soma_77 = (df_PHQ_adultos['INDFMINC'] == 77).sum()\n",
        "total = len(df_PHQ_adultos['INDFMINC'])\n",
        "porc_77 = round(soma_77/total*100, 2)\n",
        "\n",
        "soma_99 = (df_PHQ_adultos['INDFMINC'] == 99).sum()\n",
        "porc_99 = round(soma_99/total*100, 2)\n",
        "\n",
        "print(f'INDFMINC - resposta 77: {porc_77}%')\n",
        "print(f'INDFMINC - resposta 99: {porc_99}%\\n')"
      ],
      "execution_count": null,
      "outputs": []
    },
    {
      "cell_type": "markdown",
      "metadata": {
        "id": "5fVp2ClDsyaA"
      },
      "source": [
        "Como são poucos valores 77 e 99, vou substitui-los pela mediana da feature"
      ]
    },
    {
      "cell_type": "code",
      "metadata": {
        "id": "_WEehB_Js5N2"
      },
      "source": [
        "df_PHQ_adultos['INDFMINC'].replace(to_replace = 77,\n",
        "                                   value = df_PHQ_adultos['INDFMINC'].median(),\n",
        "                                   inplace = True)\n",
        "df_PHQ_adultos['INDFMINC'].replace(to_replace = 99,\n",
        "                                   value = df_PHQ_adultos[coluna].median(),\n",
        "                                   inplace = True)"
      ],
      "execution_count": null,
      "outputs": []
    },
    {
      "cell_type": "code",
      "metadata": {
        "id": "Ac5_cooRtK3C"
      },
      "source": [
        "# para cada feature, verificar % de respostas 77 e 99\n",
        "soma_77 = (df_PHQ_adultos['INDFMINC'] == 77).sum()\n",
        "total = len(df_PHQ_adultos['INDFMINC'])\n",
        "porc_77 = round(soma_77/total*100, 2)\n",
        "\n",
        "soma_99 = (df_PHQ_adultos['INDFMINC'] == 99).sum()\n",
        "porc_99 = round(soma_99/total*100, 2)\n",
        "\n",
        "print(f'INDFMINC - resposta 77: {porc_77}%')\n",
        "print(f'INDFMINC - resposta 99: {porc_99}%\\n')"
      ],
      "execution_count": null,
      "outputs": []
    },
    {
      "cell_type": "markdown",
      "metadata": {
        "id": "UQRhoYet8QyH"
      },
      "source": [
        "Agora, vamos criar a coluna 'phq9', que soma as colunas 'DPQ010', 'DPQ020', 'DPQ030', 'DPQ040', 'DPQ050', 'DPQ060', 'DPQ070', 'DPQ080', 'DPQ090'."
      ]
    },
    {
      "cell_type": "code",
      "metadata": {
        "id": "vNdeQrisl8BE"
      },
      "source": [
        "# listando as colunas que serão somadas\n",
        "df_PHQ_adultos_colunas = df_PHQ_adultos.drop(columns=['DMDEDUC','RIAGENDR','RIDAGEYR','RIDRETH1','INDFMINC'], axis = 1).columns\n",
        "df_PHQ_adultos_colunas"
      ],
      "execution_count": null,
      "outputs": []
    },
    {
      "cell_type": "code",
      "metadata": {
        "id": "zPyhQtfojIhR"
      },
      "source": [
        "df_PHQ_adultos['phq9'] = df_PHQ_adultos[df_PHQ_adultos_colunas].sum(axis=1)"
      ],
      "execution_count": null,
      "outputs": []
    },
    {
      "cell_type": "code",
      "metadata": {
        "id": "FOO7pFWVjz4U"
      },
      "source": [
        "df_PHQ_adultos"
      ],
      "execution_count": null,
      "outputs": []
    },
    {
      "cell_type": "markdown",
      "metadata": {
        "id": "qX0B-5aJ8jNt"
      },
      "source": [
        "Agora, o próximo passo é criar a coluna phq_grp, que classifica o resultado da coluna phq9"
      ]
    },
    {
      "cell_type": "code",
      "metadata": {
        "id": "pSFT0DHFlScu"
      },
      "source": [
        "# definindo valores da coluna 'phq_grp' segundo classificação dada\n",
        "\n",
        "df_PHQ_adultos.loc[df_PHQ_adultos['phq9'] < 5, 'phq_grp'] = 0\n",
        "df_PHQ_adultos.loc[(df_PHQ_adultos['phq9'] >= 5) & (df_PHQ_adultos['phq9'] < 10), 'phq_grp'] = 1\n",
        "df_PHQ_adultos.loc[(df_PHQ_adultos['phq9'] >= 10) & (df_PHQ_adultos['phq9'] < 15), 'phq_grp'] = 2\n",
        "df_PHQ_adultos.loc[(df_PHQ_adultos['phq9'] >= 15) & (df_PHQ_adultos['phq9'] < 19), 'phq_grp'] = 3\n",
        "df_PHQ_adultos.loc[df_PHQ_adultos['phq9'] >= 19, 'phq_grp'] = 4"
      ],
      "execution_count": null,
      "outputs": []
    },
    {
      "cell_type": "code",
      "metadata": {
        "id": "b3REtiml8DmJ"
      },
      "source": [
        "df_PHQ_adultos"
      ],
      "execution_count": null,
      "outputs": []
    },
    {
      "cell_type": "markdown",
      "metadata": {
        "id": "BrnvIlZ7ZP67"
      },
      "source": [
        "# EDA: ANÁLISE UNIVARIADA"
      ]
    },
    {
      "cell_type": "markdown",
      "metadata": {
        "id": "ze9oc1Kneiqv"
      },
      "source": [
        "## Definindo os datasets para análise univariada"
      ]
    },
    {
      "cell_type": "code",
      "metadata": {
        "colab": {
          "base_uri": "https://localhost:8080/"
        },
        "id": "Z-EZgy3b8FWU",
        "outputId": "cc9e6ab0-ddec-4ea3-c44d-45637e0f8514"
      },
      "source": [
        "print('linhas e colunas dos dados de nutrição:', df_HEI_adultos.shape)\n",
        "print('linhas e colunas dos dados de depressão:', df_PHQ_adultos.shape)"
      ],
      "execution_count": null,
      "outputs": [
        {
          "output_type": "stream",
          "name": "stdout",
          "text": [
            "linhas e colunas dos dados de nutrição: (5060, 16)\n",
            "linhas e colunas dos dados de depressão: (4836, 16)\n"
          ]
        }
      ]
    },
    {
      "cell_type": "markdown",
      "metadata": {
        "id": "27-iiKRidd-t"
      },
      "source": [
        "Para ficarmos somente com dados de quem está em ambas os datasets, novamente,\n",
        "\n",
        "Vamos uni-los, para eliminarmos os não coincidentes."
      ]
    },
    {
      "cell_type": "code",
      "metadata": {
        "id": "i73yd6AEdZ8b"
      },
      "source": [
        "# unindo os datasets pela chave SEQN, eliminando indivíduos que não estão em ambos\n",
        "df_comb2 = df_HEI_adultos.join(df_PHQ_adultos, how='inner')"
      ],
      "execution_count": null,
      "outputs": []
    },
    {
      "cell_type": "code",
      "metadata": {
        "colab": {
          "base_uri": "https://localhost:8080/"
        },
        "id": "a7JmBsNSdeqp",
        "outputId": "f4a50d75-7459-438a-a88f-9da6a80ba2da"
      },
      "source": [
        "df_comb2.shape"
      ],
      "execution_count": null,
      "outputs": [
        {
          "output_type": "execute_result",
          "data": {
            "text/plain": [
              "(4737, 32)"
            ]
          },
          "metadata": {},
          "execution_count": 41
        }
      ]
    },
    {
      "cell_type": "code",
      "metadata": {
        "colab": {
          "base_uri": "https://localhost:8080/",
          "height": 258
        },
        "id": "jkQcqvYPd3YZ",
        "outputId": "1d14e3e7-ab72-4452-edfc-d8f210cd1de3"
      },
      "source": [
        "df_comb2.head()"
      ],
      "execution_count": null,
      "outputs": [
        {
          "output_type": "execute_result",
          "data": {
            "text/html": [
              "<div>\n",
              "<style scoped>\n",
              "    .dataframe tbody tr th:only-of-type {\n",
              "        vertical-align: middle;\n",
              "    }\n",
              "\n",
              "    .dataframe tbody tr th {\n",
              "        vertical-align: top;\n",
              "    }\n",
              "\n",
              "    .dataframe thead th {\n",
              "        text-align: right;\n",
              "    }\n",
              "</style>\n",
              "<table border=\"1\" class=\"dataframe\">\n",
              "  <thead>\n",
              "    <tr style=\"text-align: right;\">\n",
              "      <th></th>\n",
              "      <th>PAG_MINW</th>\n",
              "      <th>ADHERENCE</th>\n",
              "      <th>HEI2015C1_TOTALVEG</th>\n",
              "      <th>HEI2015C2_GREEN_AND_BEAN</th>\n",
              "      <th>HEI2015C3_TOTALFRUIT</th>\n",
              "      <th>HEI2015C4_WHOLEFRUIT</th>\n",
              "      <th>HEI2015C5_WHOLEGRAIN</th>\n",
              "      <th>HEI2015C6_TOTALDAIRY</th>\n",
              "      <th>HEI2015C7_TOTPROT</th>\n",
              "      <th>HEI2015C8_SEAPLANT_PROT</th>\n",
              "      <th>HEI2015C9_FATTYACID</th>\n",
              "      <th>HEI2015C10_SODIUM</th>\n",
              "      <th>HEI2015C11_REFINEDGRAIN</th>\n",
              "      <th>HEI2015C12_SFAT</th>\n",
              "      <th>HEI2015C13_ADDSUG</th>\n",
              "      <th>HEI2015_TOTAL_SCORE</th>\n",
              "      <th>DPQ010</th>\n",
              "      <th>DPQ020</th>\n",
              "      <th>DPQ030</th>\n",
              "      <th>DPQ040</th>\n",
              "      <th>DPQ050</th>\n",
              "      <th>DPQ060</th>\n",
              "      <th>DPQ070</th>\n",
              "      <th>DPQ080</th>\n",
              "      <th>DPQ090</th>\n",
              "      <th>RIAGENDR</th>\n",
              "      <th>RIDAGEYR</th>\n",
              "      <th>RIDRETH1</th>\n",
              "      <th>DMDEDUC</th>\n",
              "      <th>INDFMINC</th>\n",
              "      <th>phq9</th>\n",
              "      <th>phq_grp</th>\n",
              "    </tr>\n",
              "    <tr>\n",
              "      <th>SEQN</th>\n",
              "      <th></th>\n",
              "      <th></th>\n",
              "      <th></th>\n",
              "      <th></th>\n",
              "      <th></th>\n",
              "      <th></th>\n",
              "      <th></th>\n",
              "      <th></th>\n",
              "      <th></th>\n",
              "      <th></th>\n",
              "      <th></th>\n",
              "      <th></th>\n",
              "      <th></th>\n",
              "      <th></th>\n",
              "      <th></th>\n",
              "      <th></th>\n",
              "      <th></th>\n",
              "      <th></th>\n",
              "      <th></th>\n",
              "      <th></th>\n",
              "      <th></th>\n",
              "      <th></th>\n",
              "      <th></th>\n",
              "      <th></th>\n",
              "      <th></th>\n",
              "      <th></th>\n",
              "      <th></th>\n",
              "      <th></th>\n",
              "      <th></th>\n",
              "      <th></th>\n",
              "      <th></th>\n",
              "      <th></th>\n",
              "    </tr>\n",
              "  </thead>\n",
              "  <tbody>\n",
              "    <tr>\n",
              "      <th>31131</th>\n",
              "      <td>264.711316</td>\n",
              "      <td>2.0</td>\n",
              "      <td>3.115103</td>\n",
              "      <td>0.000000</td>\n",
              "      <td>5.000000</td>\n",
              "      <td>1.320674</td>\n",
              "      <td>0.000000</td>\n",
              "      <td>3.141062</td>\n",
              "      <td>4.071959</td>\n",
              "      <td>2.052399</td>\n",
              "      <td>0.684985</td>\n",
              "      <td>2.297100</td>\n",
              "      <td>9.512964</td>\n",
              "      <td>0.438428</td>\n",
              "      <td>3.919226</td>\n",
              "      <td>35.553899</td>\n",
              "      <td>0.0</td>\n",
              "      <td>0.0</td>\n",
              "      <td>0.0</td>\n",
              "      <td>0.0</td>\n",
              "      <td>0.0</td>\n",
              "      <td>0.0</td>\n",
              "      <td>0.0</td>\n",
              "      <td>0.0</td>\n",
              "      <td>0.0</td>\n",
              "      <td>2</td>\n",
              "      <td>44</td>\n",
              "      <td>4</td>\n",
              "      <td>4</td>\n",
              "      <td>11.0</td>\n",
              "      <td>0.0</td>\n",
              "      <td>0.0</td>\n",
              "    </tr>\n",
              "    <tr>\n",
              "      <th>31132</th>\n",
              "      <td>1353.348730</td>\n",
              "      <td>3.0</td>\n",
              "      <td>3.509081</td>\n",
              "      <td>0.000000</td>\n",
              "      <td>5.000000</td>\n",
              "      <td>5.000000</td>\n",
              "      <td>5.000000</td>\n",
              "      <td>4.448512</td>\n",
              "      <td>5.000000</td>\n",
              "      <td>0.000000</td>\n",
              "      <td>2.050769</td>\n",
              "      <td>7.369489</td>\n",
              "      <td>8.887880</td>\n",
              "      <td>8.186877</td>\n",
              "      <td>9.099088</td>\n",
              "      <td>63.551696</td>\n",
              "      <td>0.0</td>\n",
              "      <td>0.0</td>\n",
              "      <td>0.0</td>\n",
              "      <td>0.0</td>\n",
              "      <td>0.0</td>\n",
              "      <td>0.0</td>\n",
              "      <td>0.0</td>\n",
              "      <td>0.0</td>\n",
              "      <td>0.0</td>\n",
              "      <td>1</td>\n",
              "      <td>70</td>\n",
              "      <td>3</td>\n",
              "      <td>5</td>\n",
              "      <td>11.0</td>\n",
              "      <td>0.0</td>\n",
              "      <td>0.0</td>\n",
              "    </tr>\n",
              "    <tr>\n",
              "      <th>31134</th>\n",
              "      <td>1011.478060</td>\n",
              "      <td>3.0</td>\n",
              "      <td>2.845772</td>\n",
              "      <td>1.283933</td>\n",
              "      <td>2.629005</td>\n",
              "      <td>5.000000</td>\n",
              "      <td>2.217331</td>\n",
              "      <td>2.313900</td>\n",
              "      <td>5.000000</td>\n",
              "      <td>1.268648</td>\n",
              "      <td>2.958985</td>\n",
              "      <td>0.000000</td>\n",
              "      <td>5.627488</td>\n",
              "      <td>5.863078</td>\n",
              "      <td>5.878686</td>\n",
              "      <td>42.886826</td>\n",
              "      <td>0.0</td>\n",
              "      <td>0.0</td>\n",
              "      <td>0.0</td>\n",
              "      <td>0.0</td>\n",
              "      <td>0.0</td>\n",
              "      <td>0.0</td>\n",
              "      <td>0.0</td>\n",
              "      <td>0.0</td>\n",
              "      <td>0.0</td>\n",
              "      <td>1</td>\n",
              "      <td>73</td>\n",
              "      <td>3</td>\n",
              "      <td>3</td>\n",
              "      <td>12.0</td>\n",
              "      <td>0.0</td>\n",
              "      <td>0.0</td>\n",
              "    </tr>\n",
              "    <tr>\n",
              "      <th>31139</th>\n",
              "      <td>1729.145497</td>\n",
              "      <td>3.0</td>\n",
              "      <td>5.000000</td>\n",
              "      <td>0.000000</td>\n",
              "      <td>0.991614</td>\n",
              "      <td>0.056664</td>\n",
              "      <td>0.211544</td>\n",
              "      <td>0.000000</td>\n",
              "      <td>4.088849</td>\n",
              "      <td>4.221442</td>\n",
              "      <td>10.000000</td>\n",
              "      <td>2.845774</td>\n",
              "      <td>0.000000</td>\n",
              "      <td>10.000000</td>\n",
              "      <td>9.658507</td>\n",
              "      <td>47.074393</td>\n",
              "      <td>0.0</td>\n",
              "      <td>0.0</td>\n",
              "      <td>0.0</td>\n",
              "      <td>0.0</td>\n",
              "      <td>3.0</td>\n",
              "      <td>1.0</td>\n",
              "      <td>0.0</td>\n",
              "      <td>0.0</td>\n",
              "      <td>0.0</td>\n",
              "      <td>2</td>\n",
              "      <td>18</td>\n",
              "      <td>2</td>\n",
              "      <td>3</td>\n",
              "      <td>11.0</td>\n",
              "      <td>4.0</td>\n",
              "      <td>0.0</td>\n",
              "    </tr>\n",
              "    <tr>\n",
              "      <th>31143</th>\n",
              "      <td>3768.083141</td>\n",
              "      <td>3.0</td>\n",
              "      <td>2.867000</td>\n",
              "      <td>0.389880</td>\n",
              "      <td>5.000000</td>\n",
              "      <td>5.000000</td>\n",
              "      <td>1.444002</td>\n",
              "      <td>5.000000</td>\n",
              "      <td>3.372033</td>\n",
              "      <td>0.000000</td>\n",
              "      <td>0.002362</td>\n",
              "      <td>5.223435</td>\n",
              "      <td>7.787420</td>\n",
              "      <td>0.000000</td>\n",
              "      <td>10.000000</td>\n",
              "      <td>46.086131</td>\n",
              "      <td>0.0</td>\n",
              "      <td>1.0</td>\n",
              "      <td>1.0</td>\n",
              "      <td>1.0</td>\n",
              "      <td>1.0</td>\n",
              "      <td>1.0</td>\n",
              "      <td>1.0</td>\n",
              "      <td>0.0</td>\n",
              "      <td>0.0</td>\n",
              "      <td>1</td>\n",
              "      <td>19</td>\n",
              "      <td>3</td>\n",
              "      <td>4</td>\n",
              "      <td>11.0</td>\n",
              "      <td>6.0</td>\n",
              "      <td>1.0</td>\n",
              "    </tr>\n",
              "  </tbody>\n",
              "</table>\n",
              "</div>"
            ],
            "text/plain": [
              "          PAG_MINW  ADHERENCE  HEI2015C1_TOTALVEG  ...  INDFMINC  phq9  phq_grp\n",
              "SEQN                                               ...                         \n",
              "31131   264.711316        2.0            3.115103  ...      11.0   0.0      0.0\n",
              "31132  1353.348730        3.0            3.509081  ...      11.0   0.0      0.0\n",
              "31134  1011.478060        3.0            2.845772  ...      12.0   0.0      0.0\n",
              "31139  1729.145497        3.0            5.000000  ...      11.0   4.0      0.0\n",
              "31143  3768.083141        3.0            2.867000  ...      11.0   6.0      1.0\n",
              "\n",
              "[5 rows x 32 columns]"
            ]
          },
          "metadata": {},
          "execution_count": 42
        }
      ]
    },
    {
      "cell_type": "markdown",
      "metadata": {
        "id": "8b__ndsAeN8g"
      },
      "source": [
        "Para facilitar nessa primeira análise, vamos separar os datasets novamente"
      ]
    },
    {
      "cell_type": "code",
      "metadata": {
        "id": "BUEV-Az6eBiB"
      },
      "source": [
        "# definindo os novos datasets\n",
        "df_HEI_adultos = df_comb2.iloc[:,:16]\n",
        "df_PHQ_adultos = df_comb2.iloc[:,16:]"
      ],
      "execution_count": null,
      "outputs": []
    },
    {
      "cell_type": "code",
      "metadata": {
        "colab": {
          "base_uri": "https://localhost:8080/",
          "height": 475
        },
        "id": "yzgaKcMReYif",
        "outputId": "7d1ed6ba-0040-4197-921f-55eb08aa7d82"
      },
      "source": [
        "df_HEI_adultos"
      ],
      "execution_count": null,
      "outputs": [
        {
          "output_type": "execute_result",
          "data": {
            "text/html": [
              "<div>\n",
              "<style scoped>\n",
              "    .dataframe tbody tr th:only-of-type {\n",
              "        vertical-align: middle;\n",
              "    }\n",
              "\n",
              "    .dataframe tbody tr th {\n",
              "        vertical-align: top;\n",
              "    }\n",
              "\n",
              "    .dataframe thead th {\n",
              "        text-align: right;\n",
              "    }\n",
              "</style>\n",
              "<table border=\"1\" class=\"dataframe\">\n",
              "  <thead>\n",
              "    <tr style=\"text-align: right;\">\n",
              "      <th></th>\n",
              "      <th>PAG_MINW</th>\n",
              "      <th>ADHERENCE</th>\n",
              "      <th>HEI2015C1_TOTALVEG</th>\n",
              "      <th>HEI2015C2_GREEN_AND_BEAN</th>\n",
              "      <th>HEI2015C3_TOTALFRUIT</th>\n",
              "      <th>HEI2015C4_WHOLEFRUIT</th>\n",
              "      <th>HEI2015C5_WHOLEGRAIN</th>\n",
              "      <th>HEI2015C6_TOTALDAIRY</th>\n",
              "      <th>HEI2015C7_TOTPROT</th>\n",
              "      <th>HEI2015C8_SEAPLANT_PROT</th>\n",
              "      <th>HEI2015C9_FATTYACID</th>\n",
              "      <th>HEI2015C10_SODIUM</th>\n",
              "      <th>HEI2015C11_REFINEDGRAIN</th>\n",
              "      <th>HEI2015C12_SFAT</th>\n",
              "      <th>HEI2015C13_ADDSUG</th>\n",
              "      <th>HEI2015_TOTAL_SCORE</th>\n",
              "    </tr>\n",
              "    <tr>\n",
              "      <th>SEQN</th>\n",
              "      <th></th>\n",
              "      <th></th>\n",
              "      <th></th>\n",
              "      <th></th>\n",
              "      <th></th>\n",
              "      <th></th>\n",
              "      <th></th>\n",
              "      <th></th>\n",
              "      <th></th>\n",
              "      <th></th>\n",
              "      <th></th>\n",
              "      <th></th>\n",
              "      <th></th>\n",
              "      <th></th>\n",
              "      <th></th>\n",
              "      <th></th>\n",
              "    </tr>\n",
              "  </thead>\n",
              "  <tbody>\n",
              "    <tr>\n",
              "      <th>31131</th>\n",
              "      <td>264.711316</td>\n",
              "      <td>2.0</td>\n",
              "      <td>3.115103</td>\n",
              "      <td>0.000000</td>\n",
              "      <td>5.000000</td>\n",
              "      <td>1.320674</td>\n",
              "      <td>0.000000</td>\n",
              "      <td>3.141062</td>\n",
              "      <td>4.071959</td>\n",
              "      <td>2.052399</td>\n",
              "      <td>0.684985</td>\n",
              "      <td>2.297100</td>\n",
              "      <td>9.512964</td>\n",
              "      <td>0.438428</td>\n",
              "      <td>3.919226</td>\n",
              "      <td>35.553899</td>\n",
              "    </tr>\n",
              "    <tr>\n",
              "      <th>31132</th>\n",
              "      <td>1353.348730</td>\n",
              "      <td>3.0</td>\n",
              "      <td>3.509081</td>\n",
              "      <td>0.000000</td>\n",
              "      <td>5.000000</td>\n",
              "      <td>5.000000</td>\n",
              "      <td>5.000000</td>\n",
              "      <td>4.448512</td>\n",
              "      <td>5.000000</td>\n",
              "      <td>0.000000</td>\n",
              "      <td>2.050769</td>\n",
              "      <td>7.369489</td>\n",
              "      <td>8.887880</td>\n",
              "      <td>8.186877</td>\n",
              "      <td>9.099088</td>\n",
              "      <td>63.551696</td>\n",
              "    </tr>\n",
              "    <tr>\n",
              "      <th>31134</th>\n",
              "      <td>1011.478060</td>\n",
              "      <td>3.0</td>\n",
              "      <td>2.845772</td>\n",
              "      <td>1.283933</td>\n",
              "      <td>2.629005</td>\n",
              "      <td>5.000000</td>\n",
              "      <td>2.217331</td>\n",
              "      <td>2.313900</td>\n",
              "      <td>5.000000</td>\n",
              "      <td>1.268648</td>\n",
              "      <td>2.958985</td>\n",
              "      <td>0.000000</td>\n",
              "      <td>5.627488</td>\n",
              "      <td>5.863078</td>\n",
              "      <td>5.878686</td>\n",
              "      <td>42.886826</td>\n",
              "    </tr>\n",
              "    <tr>\n",
              "      <th>31139</th>\n",
              "      <td>1729.145497</td>\n",
              "      <td>3.0</td>\n",
              "      <td>5.000000</td>\n",
              "      <td>0.000000</td>\n",
              "      <td>0.991614</td>\n",
              "      <td>0.056664</td>\n",
              "      <td>0.211544</td>\n",
              "      <td>0.000000</td>\n",
              "      <td>4.088849</td>\n",
              "      <td>4.221442</td>\n",
              "      <td>10.000000</td>\n",
              "      <td>2.845774</td>\n",
              "      <td>0.000000</td>\n",
              "      <td>10.000000</td>\n",
              "      <td>9.658507</td>\n",
              "      <td>47.074393</td>\n",
              "    </tr>\n",
              "    <tr>\n",
              "      <th>31143</th>\n",
              "      <td>3768.083141</td>\n",
              "      <td>3.0</td>\n",
              "      <td>2.867000</td>\n",
              "      <td>0.389880</td>\n",
              "      <td>5.000000</td>\n",
              "      <td>5.000000</td>\n",
              "      <td>1.444002</td>\n",
              "      <td>5.000000</td>\n",
              "      <td>3.372033</td>\n",
              "      <td>0.000000</td>\n",
              "      <td>0.002362</td>\n",
              "      <td>5.223435</td>\n",
              "      <td>7.787420</td>\n",
              "      <td>0.000000</td>\n",
              "      <td>10.000000</td>\n",
              "      <td>46.086131</td>\n",
              "    </tr>\n",
              "    <tr>\n",
              "      <th>...</th>\n",
              "      <td>...</td>\n",
              "      <td>...</td>\n",
              "      <td>...</td>\n",
              "      <td>...</td>\n",
              "      <td>...</td>\n",
              "      <td>...</td>\n",
              "      <td>...</td>\n",
              "      <td>...</td>\n",
              "      <td>...</td>\n",
              "      <td>...</td>\n",
              "      <td>...</td>\n",
              "      <td>...</td>\n",
              "      <td>...</td>\n",
              "      <td>...</td>\n",
              "      <td>...</td>\n",
              "      <td>...</td>\n",
              "    </tr>\n",
              "    <tr>\n",
              "      <th>41466</th>\n",
              "      <td>9.237875</td>\n",
              "      <td>1.0</td>\n",
              "      <td>2.885575</td>\n",
              "      <td>1.260753</td>\n",
              "      <td>5.000000</td>\n",
              "      <td>5.000000</td>\n",
              "      <td>4.607930</td>\n",
              "      <td>2.555736</td>\n",
              "      <td>5.000000</td>\n",
              "      <td>4.672204</td>\n",
              "      <td>4.633477</td>\n",
              "      <td>0.000000</td>\n",
              "      <td>6.580006</td>\n",
              "      <td>8.393244</td>\n",
              "      <td>9.360990</td>\n",
              "      <td>59.949915</td>\n",
              "    </tr>\n",
              "    <tr>\n",
              "      <th>41468</th>\n",
              "      <td>173.210162</td>\n",
              "      <td>2.0</td>\n",
              "      <td>5.000000</td>\n",
              "      <td>2.851503</td>\n",
              "      <td>5.000000</td>\n",
              "      <td>5.000000</td>\n",
              "      <td>3.041603</td>\n",
              "      <td>5.000000</td>\n",
              "      <td>3.759596</td>\n",
              "      <td>2.344264</td>\n",
              "      <td>4.780282</td>\n",
              "      <td>3.134216</td>\n",
              "      <td>1.986137</td>\n",
              "      <td>5.850269</td>\n",
              "      <td>10.000000</td>\n",
              "      <td>57.747869</td>\n",
              "    </tr>\n",
              "    <tr>\n",
              "      <th>41469</th>\n",
              "      <td>184.711316</td>\n",
              "      <td>2.0</td>\n",
              "      <td>2.555935</td>\n",
              "      <td>0.000000</td>\n",
              "      <td>2.613733</td>\n",
              "      <td>0.000000</td>\n",
              "      <td>0.000000</td>\n",
              "      <td>2.151846</td>\n",
              "      <td>5.000000</td>\n",
              "      <td>0.000000</td>\n",
              "      <td>9.344947</td>\n",
              "      <td>3.535211</td>\n",
              "      <td>4.326307</td>\n",
              "      <td>5.269780</td>\n",
              "      <td>8.195564</td>\n",
              "      <td>42.993323</td>\n",
              "    </tr>\n",
              "    <tr>\n",
              "      <th>41472</th>\n",
              "      <td>27.713626</td>\n",
              "      <td>1.0</td>\n",
              "      <td>2.457422</td>\n",
              "      <td>2.930799</td>\n",
              "      <td>2.311917</td>\n",
              "      <td>0.000000</td>\n",
              "      <td>0.933303</td>\n",
              "      <td>5.000000</td>\n",
              "      <td>5.000000</td>\n",
              "      <td>5.000000</td>\n",
              "      <td>2.090534</td>\n",
              "      <td>8.409844</td>\n",
              "      <td>8.936854</td>\n",
              "      <td>3.063795</td>\n",
              "      <td>0.000000</td>\n",
              "      <td>46.134467</td>\n",
              "    </tr>\n",
              "    <tr>\n",
              "      <th>41473</th>\n",
              "      <td>685.912240</td>\n",
              "      <td>3.0</td>\n",
              "      <td>3.907340</td>\n",
              "      <td>5.000000</td>\n",
              "      <td>0.000000</td>\n",
              "      <td>0.000000</td>\n",
              "      <td>0.000000</td>\n",
              "      <td>5.000000</td>\n",
              "      <td>5.000000</td>\n",
              "      <td>5.000000</td>\n",
              "      <td>0.000000</td>\n",
              "      <td>7.458058</td>\n",
              "      <td>10.000000</td>\n",
              "      <td>1.676912</td>\n",
              "      <td>2.751168</td>\n",
              "      <td>45.793478</td>\n",
              "    </tr>\n",
              "  </tbody>\n",
              "</table>\n",
              "<p>4737 rows × 16 columns</p>\n",
              "</div>"
            ],
            "text/plain": [
              "          PAG_MINW  ADHERENCE  ...  HEI2015C13_ADDSUG  HEI2015_TOTAL_SCORE\n",
              "SEQN                           ...                                        \n",
              "31131   264.711316        2.0  ...           3.919226            35.553899\n",
              "31132  1353.348730        3.0  ...           9.099088            63.551696\n",
              "31134  1011.478060        3.0  ...           5.878686            42.886826\n",
              "31139  1729.145497        3.0  ...           9.658507            47.074393\n",
              "31143  3768.083141        3.0  ...          10.000000            46.086131\n",
              "...            ...        ...  ...                ...                  ...\n",
              "41466     9.237875        1.0  ...           9.360990            59.949915\n",
              "41468   173.210162        2.0  ...          10.000000            57.747869\n",
              "41469   184.711316        2.0  ...           8.195564            42.993323\n",
              "41472    27.713626        1.0  ...           0.000000            46.134467\n",
              "41473   685.912240        3.0  ...           2.751168            45.793478\n",
              "\n",
              "[4737 rows x 16 columns]"
            ]
          },
          "metadata": {},
          "execution_count": 44
        }
      ]
    },
    {
      "cell_type": "code",
      "metadata": {
        "colab": {
          "base_uri": "https://localhost:8080/",
          "height": 475
        },
        "id": "H2nlb4Feeae2",
        "outputId": "338d5830-3fe5-4f11-8378-3454161f1f6f"
      },
      "source": [
        "df_PHQ_adultos"
      ],
      "execution_count": null,
      "outputs": [
        {
          "output_type": "execute_result",
          "data": {
            "text/html": [
              "<div>\n",
              "<style scoped>\n",
              "    .dataframe tbody tr th:only-of-type {\n",
              "        vertical-align: middle;\n",
              "    }\n",
              "\n",
              "    .dataframe tbody tr th {\n",
              "        vertical-align: top;\n",
              "    }\n",
              "\n",
              "    .dataframe thead th {\n",
              "        text-align: right;\n",
              "    }\n",
              "</style>\n",
              "<table border=\"1\" class=\"dataframe\">\n",
              "  <thead>\n",
              "    <tr style=\"text-align: right;\">\n",
              "      <th></th>\n",
              "      <th>DPQ010</th>\n",
              "      <th>DPQ020</th>\n",
              "      <th>DPQ030</th>\n",
              "      <th>DPQ040</th>\n",
              "      <th>DPQ050</th>\n",
              "      <th>DPQ060</th>\n",
              "      <th>DPQ070</th>\n",
              "      <th>DPQ080</th>\n",
              "      <th>DPQ090</th>\n",
              "      <th>RIAGENDR</th>\n",
              "      <th>RIDAGEYR</th>\n",
              "      <th>RIDRETH1</th>\n",
              "      <th>DMDEDUC</th>\n",
              "      <th>INDFMINC</th>\n",
              "      <th>phq9</th>\n",
              "      <th>phq_grp</th>\n",
              "    </tr>\n",
              "    <tr>\n",
              "      <th>SEQN</th>\n",
              "      <th></th>\n",
              "      <th></th>\n",
              "      <th></th>\n",
              "      <th></th>\n",
              "      <th></th>\n",
              "      <th></th>\n",
              "      <th></th>\n",
              "      <th></th>\n",
              "      <th></th>\n",
              "      <th></th>\n",
              "      <th></th>\n",
              "      <th></th>\n",
              "      <th></th>\n",
              "      <th></th>\n",
              "      <th></th>\n",
              "      <th></th>\n",
              "    </tr>\n",
              "  </thead>\n",
              "  <tbody>\n",
              "    <tr>\n",
              "      <th>31131</th>\n",
              "      <td>0.0</td>\n",
              "      <td>0.0</td>\n",
              "      <td>0.0</td>\n",
              "      <td>0.0</td>\n",
              "      <td>0.0</td>\n",
              "      <td>0.0</td>\n",
              "      <td>0.0</td>\n",
              "      <td>0.0</td>\n",
              "      <td>0.0</td>\n",
              "      <td>2</td>\n",
              "      <td>44</td>\n",
              "      <td>4</td>\n",
              "      <td>4</td>\n",
              "      <td>11.0</td>\n",
              "      <td>0.0</td>\n",
              "      <td>0.0</td>\n",
              "    </tr>\n",
              "    <tr>\n",
              "      <th>31132</th>\n",
              "      <td>0.0</td>\n",
              "      <td>0.0</td>\n",
              "      <td>0.0</td>\n",
              "      <td>0.0</td>\n",
              "      <td>0.0</td>\n",
              "      <td>0.0</td>\n",
              "      <td>0.0</td>\n",
              "      <td>0.0</td>\n",
              "      <td>0.0</td>\n",
              "      <td>1</td>\n",
              "      <td>70</td>\n",
              "      <td>3</td>\n",
              "      <td>5</td>\n",
              "      <td>11.0</td>\n",
              "      <td>0.0</td>\n",
              "      <td>0.0</td>\n",
              "    </tr>\n",
              "    <tr>\n",
              "      <th>31134</th>\n",
              "      <td>0.0</td>\n",
              "      <td>0.0</td>\n",
              "      <td>0.0</td>\n",
              "      <td>0.0</td>\n",
              "      <td>0.0</td>\n",
              "      <td>0.0</td>\n",
              "      <td>0.0</td>\n",
              "      <td>0.0</td>\n",
              "      <td>0.0</td>\n",
              "      <td>1</td>\n",
              "      <td>73</td>\n",
              "      <td>3</td>\n",
              "      <td>3</td>\n",
              "      <td>12.0</td>\n",
              "      <td>0.0</td>\n",
              "      <td>0.0</td>\n",
              "    </tr>\n",
              "    <tr>\n",
              "      <th>31139</th>\n",
              "      <td>0.0</td>\n",
              "      <td>0.0</td>\n",
              "      <td>0.0</td>\n",
              "      <td>0.0</td>\n",
              "      <td>3.0</td>\n",
              "      <td>1.0</td>\n",
              "      <td>0.0</td>\n",
              "      <td>0.0</td>\n",
              "      <td>0.0</td>\n",
              "      <td>2</td>\n",
              "      <td>18</td>\n",
              "      <td>2</td>\n",
              "      <td>3</td>\n",
              "      <td>11.0</td>\n",
              "      <td>4.0</td>\n",
              "      <td>0.0</td>\n",
              "    </tr>\n",
              "    <tr>\n",
              "      <th>31143</th>\n",
              "      <td>0.0</td>\n",
              "      <td>1.0</td>\n",
              "      <td>1.0</td>\n",
              "      <td>1.0</td>\n",
              "      <td>1.0</td>\n",
              "      <td>1.0</td>\n",
              "      <td>1.0</td>\n",
              "      <td>0.0</td>\n",
              "      <td>0.0</td>\n",
              "      <td>1</td>\n",
              "      <td>19</td>\n",
              "      <td>3</td>\n",
              "      <td>4</td>\n",
              "      <td>11.0</td>\n",
              "      <td>6.0</td>\n",
              "      <td>1.0</td>\n",
              "    </tr>\n",
              "    <tr>\n",
              "      <th>...</th>\n",
              "      <td>...</td>\n",
              "      <td>...</td>\n",
              "      <td>...</td>\n",
              "      <td>...</td>\n",
              "      <td>...</td>\n",
              "      <td>...</td>\n",
              "      <td>...</td>\n",
              "      <td>...</td>\n",
              "      <td>...</td>\n",
              "      <td>...</td>\n",
              "      <td>...</td>\n",
              "      <td>...</td>\n",
              "      <td>...</td>\n",
              "      <td>...</td>\n",
              "      <td>...</td>\n",
              "      <td>...</td>\n",
              "    </tr>\n",
              "    <tr>\n",
              "      <th>41466</th>\n",
              "      <td>0.0</td>\n",
              "      <td>0.0</td>\n",
              "      <td>1.0</td>\n",
              "      <td>1.0</td>\n",
              "      <td>0.0</td>\n",
              "      <td>0.0</td>\n",
              "      <td>0.0</td>\n",
              "      <td>0.0</td>\n",
              "      <td>0.0</td>\n",
              "      <td>2</td>\n",
              "      <td>58</td>\n",
              "      <td>5</td>\n",
              "      <td>2</td>\n",
              "      <td>3.0</td>\n",
              "      <td>2.0</td>\n",
              "      <td>0.0</td>\n",
              "    </tr>\n",
              "    <tr>\n",
              "      <th>41468</th>\n",
              "      <td>0.0</td>\n",
              "      <td>2.0</td>\n",
              "      <td>0.0</td>\n",
              "      <td>1.0</td>\n",
              "      <td>1.0</td>\n",
              "      <td>2.0</td>\n",
              "      <td>1.0</td>\n",
              "      <td>3.0</td>\n",
              "      <td>0.0</td>\n",
              "      <td>2</td>\n",
              "      <td>66</td>\n",
              "      <td>1</td>\n",
              "      <td>1</td>\n",
              "      <td>8.0</td>\n",
              "      <td>10.0</td>\n",
              "      <td>2.0</td>\n",
              "    </tr>\n",
              "    <tr>\n",
              "      <th>41469</th>\n",
              "      <td>1.0</td>\n",
              "      <td>0.0</td>\n",
              "      <td>0.0</td>\n",
              "      <td>1.0</td>\n",
              "      <td>0.0</td>\n",
              "      <td>0.0</td>\n",
              "      <td>0.0</td>\n",
              "      <td>0.0</td>\n",
              "      <td>0.0</td>\n",
              "      <td>1</td>\n",
              "      <td>19</td>\n",
              "      <td>4</td>\n",
              "      <td>4</td>\n",
              "      <td>2.0</td>\n",
              "      <td>2.0</td>\n",
              "      <td>0.0</td>\n",
              "    </tr>\n",
              "    <tr>\n",
              "      <th>41472</th>\n",
              "      <td>0.0</td>\n",
              "      <td>0.0</td>\n",
              "      <td>0.0</td>\n",
              "      <td>0.0</td>\n",
              "      <td>0.0</td>\n",
              "      <td>0.0</td>\n",
              "      <td>0.0</td>\n",
              "      <td>0.0</td>\n",
              "      <td>0.0</td>\n",
              "      <td>1</td>\n",
              "      <td>34</td>\n",
              "      <td>3</td>\n",
              "      <td>4</td>\n",
              "      <td>7.0</td>\n",
              "      <td>0.0</td>\n",
              "      <td>0.0</td>\n",
              "    </tr>\n",
              "    <tr>\n",
              "      <th>41473</th>\n",
              "      <td>0.0</td>\n",
              "      <td>0.0</td>\n",
              "      <td>2.0</td>\n",
              "      <td>1.0</td>\n",
              "      <td>0.0</td>\n",
              "      <td>1.0</td>\n",
              "      <td>0.0</td>\n",
              "      <td>0.0</td>\n",
              "      <td>0.0</td>\n",
              "      <td>1</td>\n",
              "      <td>21</td>\n",
              "      <td>1</td>\n",
              "      <td>2</td>\n",
              "      <td>6.0</td>\n",
              "      <td>4.0</td>\n",
              "      <td>0.0</td>\n",
              "    </tr>\n",
              "  </tbody>\n",
              "</table>\n",
              "<p>4737 rows × 16 columns</p>\n",
              "</div>"
            ],
            "text/plain": [
              "       DPQ010  DPQ020  DPQ030  DPQ040  ...  DMDEDUC  INDFMINC  phq9  phq_grp\n",
              "SEQN                                   ...                                  \n",
              "31131     0.0     0.0     0.0     0.0  ...        4      11.0   0.0      0.0\n",
              "31132     0.0     0.0     0.0     0.0  ...        5      11.0   0.0      0.0\n",
              "31134     0.0     0.0     0.0     0.0  ...        3      12.0   0.0      0.0\n",
              "31139     0.0     0.0     0.0     0.0  ...        3      11.0   4.0      0.0\n",
              "31143     0.0     1.0     1.0     1.0  ...        4      11.0   6.0      1.0\n",
              "...       ...     ...     ...     ...  ...      ...       ...   ...      ...\n",
              "41466     0.0     0.0     1.0     1.0  ...        2       3.0   2.0      0.0\n",
              "41468     0.0     2.0     0.0     1.0  ...        1       8.0  10.0      2.0\n",
              "41469     1.0     0.0     0.0     1.0  ...        4       2.0   2.0      0.0\n",
              "41472     0.0     0.0     0.0     0.0  ...        4       7.0   0.0      0.0\n",
              "41473     0.0     0.0     2.0     1.0  ...        2       6.0   4.0      0.0\n",
              "\n",
              "[4737 rows x 16 columns]"
            ]
          },
          "metadata": {},
          "execution_count": 45
        }
      ]
    },
    {
      "cell_type": "markdown",
      "metadata": {
        "id": "mEg6OnwKeteO"
      },
      "source": [
        "## Análise Univariada de Nutrição"
      ]
    },
    {
      "cell_type": "code",
      "metadata": {
        "colab": {
          "base_uri": "https://localhost:8080/"
        },
        "id": "zcoLIRVNiVnC",
        "outputId": "43903fbe-2e8a-4ac5-d1db-8694e0db8048"
      },
      "source": [
        "df_HEI_adultos.info()"
      ],
      "execution_count": null,
      "outputs": [
        {
          "output_type": "stream",
          "name": "stdout",
          "text": [
            "<class 'pandas.core.frame.DataFrame'>\n",
            "Int64Index: 4737 entries, 31131 to 41473\n",
            "Data columns (total 16 columns):\n",
            " #   Column                    Non-Null Count  Dtype  \n",
            "---  ------                    --------------  -----  \n",
            " 0   PAG_MINW                  4737 non-null   float64\n",
            " 1   ADHERENCE                 4737 non-null   float64\n",
            " 2   HEI2015C1_TOTALVEG        4737 non-null   float64\n",
            " 3   HEI2015C2_GREEN_AND_BEAN  4737 non-null   float64\n",
            " 4   HEI2015C3_TOTALFRUIT      4737 non-null   float64\n",
            " 5   HEI2015C4_WHOLEFRUIT      4737 non-null   float64\n",
            " 6   HEI2015C5_WHOLEGRAIN      4737 non-null   float64\n",
            " 7   HEI2015C6_TOTALDAIRY      4737 non-null   float64\n",
            " 8   HEI2015C7_TOTPROT         4737 non-null   float64\n",
            " 9   HEI2015C8_SEAPLANT_PROT   4737 non-null   float64\n",
            " 10  HEI2015C9_FATTYACID       4737 non-null   float64\n",
            " 11  HEI2015C10_SODIUM         4737 non-null   float64\n",
            " 12  HEI2015C11_REFINEDGRAIN   4737 non-null   float64\n",
            " 13  HEI2015C12_SFAT           4737 non-null   float64\n",
            " 14  HEI2015C13_ADDSUG         4737 non-null   float64\n",
            " 15  HEI2015_TOTAL_SCORE       4737 non-null   float64\n",
            "dtypes: float64(16)\n",
            "memory usage: 629.1 KB\n"
          ]
        }
      ]
    },
    {
      "cell_type": "code",
      "metadata": {
        "colab": {
          "base_uri": "https://localhost:8080/"
        },
        "id": "RYjEx3SEiaA_",
        "outputId": "01655f88-c074-42a7-c709-0d63262af848"
      },
      "source": [
        "df_HEI_adultos.describe()"
      ],
      "execution_count": null,
      "outputs": [
        {
          "output_type": "execute_result",
          "data": {
            "text/html": [
              "<div>\n",
              "<style scoped>\n",
              "    .dataframe tbody tr th:only-of-type {\n",
              "        vertical-align: middle;\n",
              "    }\n",
              "\n",
              "    .dataframe tbody tr th {\n",
              "        vertical-align: top;\n",
              "    }\n",
              "\n",
              "    .dataframe thead th {\n",
              "        text-align: right;\n",
              "    }\n",
              "</style>\n",
              "<table border=\"1\" class=\"dataframe\">\n",
              "  <thead>\n",
              "    <tr style=\"text-align: right;\">\n",
              "      <th></th>\n",
              "      <th>PAG_MINW</th>\n",
              "      <th>ADHERENCE</th>\n",
              "      <th>HEI2015C1_TOTALVEG</th>\n",
              "      <th>HEI2015C2_GREEN_AND_BEAN</th>\n",
              "      <th>HEI2015C3_TOTALFRUIT</th>\n",
              "      <th>HEI2015C4_WHOLEFRUIT</th>\n",
              "      <th>HEI2015C5_WHOLEGRAIN</th>\n",
              "      <th>HEI2015C6_TOTALDAIRY</th>\n",
              "      <th>HEI2015C7_TOTPROT</th>\n",
              "      <th>HEI2015C8_SEAPLANT_PROT</th>\n",
              "      <th>HEI2015C9_FATTYACID</th>\n",
              "      <th>HEI2015C10_SODIUM</th>\n",
              "      <th>HEI2015C11_REFINEDGRAIN</th>\n",
              "      <th>HEI2015C12_SFAT</th>\n",
              "      <th>HEI2015C13_ADDSUG</th>\n",
              "      <th>HEI2015_TOTAL_SCORE</th>\n",
              "    </tr>\n",
              "  </thead>\n",
              "  <tbody>\n",
              "    <tr>\n",
              "      <th>count</th>\n",
              "      <td>4737.000000</td>\n",
              "      <td>4737.000000</td>\n",
              "      <td>4737.000000</td>\n",
              "      <td>4737.000000</td>\n",
              "      <td>4737.000000</td>\n",
              "      <td>4737.000000</td>\n",
              "      <td>4737.000000</td>\n",
              "      <td>4737.000000</td>\n",
              "      <td>4737.000000</td>\n",
              "      <td>4737.000000</td>\n",
              "      <td>4737.000000</td>\n",
              "      <td>4737.000000</td>\n",
              "      <td>4737.000000</td>\n",
              "      <td>4737.000000</td>\n",
              "      <td>4737.000000</td>\n",
              "      <td>4737.000000</td>\n",
              "    </tr>\n",
              "    <tr>\n",
              "      <th>mean</th>\n",
              "      <td>484.863490</td>\n",
              "      <td>2.004433</td>\n",
              "      <td>3.202517</td>\n",
              "      <td>1.794534</td>\n",
              "      <td>2.489617</td>\n",
              "      <td>2.364610</td>\n",
              "      <td>1.770618</td>\n",
              "      <td>3.769826</td>\n",
              "      <td>4.432712</td>\n",
              "      <td>2.586972</td>\n",
              "      <td>4.700483</td>\n",
              "      <td>4.751217</td>\n",
              "      <td>5.821063</td>\n",
              "      <td>6.036239</td>\n",
              "      <td>6.203522</td>\n",
              "      <td>49.923931</td>\n",
              "    </tr>\n",
              "    <tr>\n",
              "      <th>std</th>\n",
              "      <td>797.653077</td>\n",
              "      <td>0.918433</td>\n",
              "      <td>1.460227</td>\n",
              "      <td>2.134834</td>\n",
              "      <td>1.949546</td>\n",
              "      <td>2.171624</td>\n",
              "      <td>1.911844</td>\n",
              "      <td>1.593342</td>\n",
              "      <td>1.006482</td>\n",
              "      <td>2.169018</td>\n",
              "      <td>3.234156</td>\n",
              "      <td>3.412203</td>\n",
              "      <td>3.484264</td>\n",
              "      <td>3.182964</td>\n",
              "      <td>3.336104</td>\n",
              "      <td>12.342940</td>\n",
              "    </tr>\n",
              "    <tr>\n",
              "      <th>min</th>\n",
              "      <td>0.000000</td>\n",
              "      <td>1.000000</td>\n",
              "      <td>0.000000</td>\n",
              "      <td>0.000000</td>\n",
              "      <td>0.000000</td>\n",
              "      <td>0.000000</td>\n",
              "      <td>0.000000</td>\n",
              "      <td>0.000000</td>\n",
              "      <td>0.000000</td>\n",
              "      <td>0.000000</td>\n",
              "      <td>0.000000</td>\n",
              "      <td>0.000000</td>\n",
              "      <td>0.000000</td>\n",
              "      <td>0.000000</td>\n",
              "      <td>0.000000</td>\n",
              "      <td>16.059212</td>\n",
              "    </tr>\n",
              "    <tr>\n",
              "      <th>25%</th>\n",
              "      <td>41.570439</td>\n",
              "      <td>1.000000</td>\n",
              "      <td>2.064762</td>\n",
              "      <td>0.000000</td>\n",
              "      <td>0.448681</td>\n",
              "      <td>0.000000</td>\n",
              "      <td>0.000000</td>\n",
              "      <td>2.622205</td>\n",
              "      <td>4.164134</td>\n",
              "      <td>0.000000</td>\n",
              "      <td>2.002189</td>\n",
              "      <td>1.586873</td>\n",
              "      <td>2.974336</td>\n",
              "      <td>3.653210</td>\n",
              "      <td>3.716599</td>\n",
              "      <td>40.929704</td>\n",
              "    </tr>\n",
              "    <tr>\n",
              "      <th>50%</th>\n",
              "      <td>221.709007</td>\n",
              "      <td>2.000000</td>\n",
              "      <td>3.209060</td>\n",
              "      <td>0.041508</td>\n",
              "      <td>2.318754</td>\n",
              "      <td>2.087721</td>\n",
              "      <td>1.038915</td>\n",
              "      <td>4.944149</td>\n",
              "      <td>5.000000</td>\n",
              "      <td>2.571318</td>\n",
              "      <td>4.429780</td>\n",
              "      <td>4.820850</td>\n",
              "      <td>6.245713</td>\n",
              "      <td>6.377305</td>\n",
              "      <td>6.846888</td>\n",
              "      <td>49.478433</td>\n",
              "    </tr>\n",
              "    <tr>\n",
              "      <th>75%</th>\n",
              "      <td>581.986143</td>\n",
              "      <td>3.000000</td>\n",
              "      <td>4.796827</td>\n",
              "      <td>4.435851</td>\n",
              "      <td>4.938134</td>\n",
              "      <td>5.000000</td>\n",
              "      <td>3.397186</td>\n",
              "      <td>5.000000</td>\n",
              "      <td>5.000000</td>\n",
              "      <td>5.000000</td>\n",
              "      <td>7.248504</td>\n",
              "      <td>7.638021</td>\n",
              "      <td>9.270773</td>\n",
              "      <td>8.960351</td>\n",
              "      <td>9.403905</td>\n",
              "      <td>58.062142</td>\n",
              "    </tr>\n",
              "    <tr>\n",
              "      <th>max</th>\n",
              "      <td>10777.829099</td>\n",
              "      <td>3.000000</td>\n",
              "      <td>5.000000</td>\n",
              "      <td>5.000000</td>\n",
              "      <td>5.000000</td>\n",
              "      <td>5.000000</td>\n",
              "      <td>5.000000</td>\n",
              "      <td>5.000000</td>\n",
              "      <td>5.000000</td>\n",
              "      <td>5.000000</td>\n",
              "      <td>10.000000</td>\n",
              "      <td>10.000000</td>\n",
              "      <td>10.000000</td>\n",
              "      <td>10.000000</td>\n",
              "      <td>10.000000</td>\n",
              "      <td>89.529383</td>\n",
              "    </tr>\n",
              "  </tbody>\n",
              "</table>\n",
              "</div>"
            ],
            "text/plain": [
              "           PAG_MINW    ADHERENCE  ...  HEI2015C13_ADDSUG  HEI2015_TOTAL_SCORE\n",
              "count   4737.000000  4737.000000  ...        4737.000000          4737.000000\n",
              "mean     484.863490     2.004433  ...           6.203522            49.923931\n",
              "std      797.653077     0.918433  ...           3.336104            12.342940\n",
              "min        0.000000     1.000000  ...           0.000000            16.059212\n",
              "25%       41.570439     1.000000  ...           3.716599            40.929704\n",
              "50%      221.709007     2.000000  ...           6.846888            49.478433\n",
              "75%      581.986143     3.000000  ...           9.403905            58.062142\n",
              "max    10777.829099     3.000000  ...          10.000000            89.529383\n",
              "\n",
              "[8 rows x 16 columns]"
            ]
          },
          "metadata": {},
          "execution_count": 47
        }
      ]
    },
    {
      "cell_type": "code",
      "metadata": {
        "id": "m322vz33eedJ"
      },
      "source": [
        "features_HEI_adultos = df_HEI_adultos.columns.to_list()"
      ],
      "execution_count": null,
      "outputs": []
    },
    {
      "cell_type": "code",
      "metadata": {
        "colab": {
          "base_uri": "https://localhost:8080/"
        },
        "id": "hodBh5QYevGz",
        "outputId": "08afa083-d56b-4a23-8c13-26ca7e620c31"
      },
      "source": [
        "df_HEI_adultos[features_HEI_adultos].hist(figsize = (15, 10))"
      ],
      "execution_count": null,
      "outputs": [
        {
          "output_type": "execute_result",
          "data": {
            "text/plain": [
              "array([[<matplotlib.axes._subplots.AxesSubplot object at 0x7fda00068250>,\n",
              "        <matplotlib.axes._subplots.AxesSubplot object at 0x7fda00016850>,\n",
              "        <matplotlib.axes._subplots.AxesSubplot object at 0x7fd9fffc8e50>,\n",
              "        <matplotlib.axes._subplots.AxesSubplot object at 0x7fd9fff85490>],\n",
              "       [<matplotlib.axes._subplots.AxesSubplot object at 0x7fd9fffbaa90>,\n",
              "        <matplotlib.axes._subplots.AxesSubplot object at 0x7fd9fff7e0d0>,\n",
              "        <matplotlib.axes._subplots.AxesSubplot object at 0x7fd9fff36750>,\n",
              "        <matplotlib.axes._subplots.AxesSubplot object at 0x7fd9ffeebc90>],\n",
              "       [<matplotlib.axes._subplots.AxesSubplot object at 0x7fd9ffeebcd0>,\n",
              "        <matplotlib.axes._subplots.AxesSubplot object at 0x7fd9ffead350>,\n",
              "        <matplotlib.axes._subplots.AxesSubplot object at 0x7fd9ffe1ae90>,\n",
              "        <matplotlib.axes._subplots.AxesSubplot object at 0x7fd9ffddc4d0>],\n",
              "       [<matplotlib.axes._subplots.AxesSubplot object at 0x7fd9ffd93ad0>,\n",
              "        <matplotlib.axes._subplots.AxesSubplot object at 0x7fd9ffd56110>,\n",
              "        <matplotlib.axes._subplots.AxesSubplot object at 0x7fd9ffd0a710>,\n",
              "        <matplotlib.axes._subplots.AxesSubplot object at 0x7fd9ffd43d10>]],\n",
              "      dtype=object)"
            ]
          },
          "metadata": {},
          "execution_count": 49
        },
        {
          "output_type": "display_data",
          "data": {
            "image/png": "[encoded data removed]",
            "text/plain": [
              "<Figure size 1080x720 with 16 Axes>"
            ]
          },
          "metadata": {
            "needs_background": "light"
          }
        }
      ]
    },
    {
      "cell_type": "code",
      "metadata": {
        "id": "ebGwhwszi7WH"
      },
      "source": [
        "# Separando as features em duas categorias,\n",
        "# primeiro a de notas de 0 a 5,\n",
        "# depois de 0 a 10\n",
        "features_HEI_0_5 = ['HEI2015C1_TOTALVEG', 'HEI2015C2_GREEN_AND_BEAN', 'HEI2015C3_TOTALFRUIT',\n",
        "                     'HEI2015C4_WHOLEFRUIT', 'HEI2015C5_WHOLEGRAIN', 'HEI2015C6_TOTALDAIRY',\n",
        "                     'HEI2015C7_TOTPROT', 'HEI2015C8_SEAPLANT_PROT']\n",
        "features_HEI_0_10 = ['HEI2015C9_FATTYACID', 'HEI2015C10_SODIUM', 'HEI2015C11_REFINEDGRAIN',\n",
        "                      'HEI2015C12_SFAT', 'HEI2015C13_ADDSUG']"
      ],
      "execution_count": null,
      "outputs": []
    },
    {
      "cell_type": "code",
      "metadata": {
        "id": "9RDxfjRp9-Hr"
      },
      "source": [
        "def outliers(df, feature):\n",
        "\n",
        "    FIQ = df[feature].quantile(0.75) - df[feature].quantile(0.25)\n",
        "    outliers_sup = df[feature].quantile(0.75) + FIQ\n",
        "    outliers_inf = df[feature].quantile(0.25) - FIQ\n",
        "    return print(f'outliers de {feature}:',\n",
        "                 round((df[feature] > outliers_sup).sum()/len(df[feature])*100,2),'%'),print(f'outliers de {feature}:',\n",
        "                 round((df[feature] < outliers_inf).sum()/len(df[feature])*100,2),'%')"
      ],
      "execution_count": null,
      "outputs": []
    },
    {
      "cell_type": "markdown",
      "metadata": {
        "id": "gLIvH08t-6fu"
      },
      "source": [
        "### Verificando outiliers para PAG_MINW"
      ]
    },
    {
      "cell_type": "code",
      "metadata": {
        "colab": {
          "base_uri": "https://localhost:8080/"
        },
        "id": "lyKb02gj8cxg",
        "outputId": "bf09d5d7-81cc-4259-e7d9-016b05a9e663"
      },
      "source": [
        "sns.boxplot(data = df_HEI_adultos,\n",
        "            y = 'PAG_MINW')"
      ],
      "execution_count": null,
      "outputs": [
        {
          "output_type": "execute_result",
          "data": {
            "text/plain": [
              "<matplotlib.axes._subplots.AxesSubplot at 0x7fda00255350>"
            ]
          },
          "metadata": {},
          "execution_count": 52
        },
        {
          "output_type": "display_data",
          "data": {
            "image/png": "[encoded data removed]",
            "text/plain": [
              "<Figure size 432x288 with 1 Axes>"
            ]
          },
          "metadata": {
            "needs_background": "light"
          }
        }
      ]
    },
    {
      "cell_type": "code",
      "metadata": {
        "colab": {
          "base_uri": "https://localhost:8080/"
        },
        "id": "4vsHF00D9hHu",
        "outputId": "d405425f-30ba-463d-ab1a-c05ec0cde898"
      },
      "source": [
        "outliers(df_HEI_adultos, 'PAG_MINW')"
      ],
      "execution_count": null,
      "outputs": [
        {
          "output_type": "stream",
          "name": "stdout",
          "text": [
            "outliers de PAG_MINW: 11.42 %\n",
            "outliers de PAG_MINW: 0.0 %\n"
          ]
        },
        {
          "output_type": "execute_result",
          "data": {
            "text/plain": [
              "(None, None)"
            ]
          },
          "metadata": {},
          "execution_count": 53
        }
      ]
    },
    {
      "cell_type": "code",
      "metadata": {
        "colab": {
          "base_uri": "https://localhost:8080/"
        },
        "id": "S0zr7O--Ggxg",
        "outputId": "df9054a3-2155-4b11-d0b8-5f9080016bff"
      },
      "source": [
        "plt.figure(figsize = (10,3))\n",
        "ax = sns.displot(data = df_HEI_adultos,\n",
        "                 x = 'PAG_MINW',\n",
        "                 kind = 'kde',\n",
        "                 height = 5,\n",
        "                 aspect = 1.5)"
      ],
      "execution_count": null,
      "outputs": [
        {
          "output_type": "display_data",
          "data": {
            "text/plain": [
              "<Figure size 720x216 with 0 Axes>"
            ]
          },
          "metadata": {}
        },
        {
          "output_type": "display_data",
          "data": {
            "image/png": "[encoded data removed]",
            "text/plain": [
              "<Figure size 540x360 with 1 Axes>"
            ]
          },
          "metadata": {
            "needs_background": "light"
          }
        }
      ]
    },
    {
      "cell_type": "markdown",
      "metadata": {
        "id": "gvMayS6iAUXG"
      },
      "source": [
        "Como os dados apresentam uma assimetria positiva, vou eliminar somente 2% dos dados, ao invés de todos os 11% dos outliers encontrados."
      ]
    },
    {
      "cell_type": "code",
      "metadata": {
        "id": "1v8_q9c4J09R"
      },
      "source": [
        "limite_superior = df_HEI_adultos['PAG_MINW'].quantile(.98)\n",
        "df_HEI_adultos = df_HEI_adultos[df_HEI_adultos['PAG_MINW'] < limite_superior]"
      ],
      "execution_count": null,
      "outputs": []
    },
    {
      "cell_type": "code",
      "metadata": {
        "colab": {
          "base_uri": "https://localhost:8080/"
        },
        "id": "4EtPIEsPM9Ea",
        "outputId": "76b0b8e8-6ac7-43d2-fd05-c3c33b94bf73"
      },
      "source": [
        "df_HEI_adultos.shape"
      ],
      "execution_count": null,
      "outputs": [
        {
          "output_type": "execute_result",
          "data": {
            "text/plain": [
              "(4642, 16)"
            ]
          },
          "metadata": {},
          "execution_count": 56
        }
      ]
    },
    {
      "cell_type": "code",
      "metadata": {
        "colab": {
          "base_uri": "https://localhost:8080/"
        },
        "id": "VKEVoc9iLSrB",
        "outputId": "78b37d25-19f2-4a09-89a0-1a61125a8721"
      },
      "source": [
        "df_HEI_adultos.head()"
      ],
      "execution_count": null,
      "outputs": [
        {
          "output_type": "execute_result",
          "data": {
            "text/html": [
              "<div>\n",
              "<style scoped>\n",
              "    .dataframe tbody tr th:only-of-type {\n",
              "        vertical-align: middle;\n",
              "    }\n",
              "\n",
              "    .dataframe tbody tr th {\n",
              "        vertical-align: top;\n",
              "    }\n",
              "\n",
              "    .dataframe thead th {\n",
              "        text-align: right;\n",
              "    }\n",
              "</style>\n",
              "<table border=\"1\" class=\"dataframe\">\n",
              "  <thead>\n",
              "    <tr style=\"text-align: right;\">\n",
              "      <th></th>\n",
              "      <th>PAG_MINW</th>\n",
              "      <th>ADHERENCE</th>\n",
              "      <th>HEI2015C1_TOTALVEG</th>\n",
              "      <th>HEI2015C2_GREEN_AND_BEAN</th>\n",
              "      <th>HEI2015C3_TOTALFRUIT</th>\n",
              "      <th>HEI2015C4_WHOLEFRUIT</th>\n",
              "      <th>HEI2015C5_WHOLEGRAIN</th>\n",
              "      <th>HEI2015C6_TOTALDAIRY</th>\n",
              "      <th>HEI2015C7_TOTPROT</th>\n",
              "      <th>HEI2015C8_SEAPLANT_PROT</th>\n",
              "      <th>HEI2015C9_FATTYACID</th>\n",
              "      <th>HEI2015C10_SODIUM</th>\n",
              "      <th>HEI2015C11_REFINEDGRAIN</th>\n",
              "      <th>HEI2015C12_SFAT</th>\n",
              "      <th>HEI2015C13_ADDSUG</th>\n",
              "      <th>HEI2015_TOTAL_SCORE</th>\n",
              "    </tr>\n",
              "    <tr>\n",
              "      <th>SEQN</th>\n",
              "      <th></th>\n",
              "      <th></th>\n",
              "      <th></th>\n",
              "      <th></th>\n",
              "      <th></th>\n",
              "      <th></th>\n",
              "      <th></th>\n",
              "      <th></th>\n",
              "      <th></th>\n",
              "      <th></th>\n",
              "      <th></th>\n",
              "      <th></th>\n",
              "      <th></th>\n",
              "      <th></th>\n",
              "      <th></th>\n",
              "      <th></th>\n",
              "    </tr>\n",
              "  </thead>\n",
              "  <tbody>\n",
              "    <tr>\n",
              "      <th>31131</th>\n",
              "      <td>264.711316</td>\n",
              "      <td>2.0</td>\n",
              "      <td>3.115103</td>\n",
              "      <td>0.000000</td>\n",
              "      <td>5.000000</td>\n",
              "      <td>1.320674</td>\n",
              "      <td>0.000000</td>\n",
              "      <td>3.141062</td>\n",
              "      <td>4.071959</td>\n",
              "      <td>2.052399</td>\n",
              "      <td>0.684985</td>\n",
              "      <td>2.297100</td>\n",
              "      <td>9.512964</td>\n",
              "      <td>0.438428</td>\n",
              "      <td>3.919226</td>\n",
              "      <td>35.553899</td>\n",
              "    </tr>\n",
              "    <tr>\n",
              "      <th>31132</th>\n",
              "      <td>1353.348730</td>\n",
              "      <td>3.0</td>\n",
              "      <td>3.509081</td>\n",
              "      <td>0.000000</td>\n",
              "      <td>5.000000</td>\n",
              "      <td>5.000000</td>\n",
              "      <td>5.000000</td>\n",
              "      <td>4.448512</td>\n",
              "      <td>5.000000</td>\n",
              "      <td>0.000000</td>\n",
              "      <td>2.050769</td>\n",
              "      <td>7.369489</td>\n",
              "      <td>8.887880</td>\n",
              "      <td>8.186877</td>\n",
              "      <td>9.099088</td>\n",
              "      <td>63.551696</td>\n",
              "    </tr>\n",
              "    <tr>\n",
              "      <th>31134</th>\n",
              "      <td>1011.478060</td>\n",
              "      <td>3.0</td>\n",
              "      <td>2.845772</td>\n",
              "      <td>1.283933</td>\n",
              "      <td>2.629005</td>\n",
              "      <td>5.000000</td>\n",
              "      <td>2.217331</td>\n",
              "      <td>2.313900</td>\n",
              "      <td>5.000000</td>\n",
              "      <td>1.268648</td>\n",
              "      <td>2.958985</td>\n",
              "      <td>0.000000</td>\n",
              "      <td>5.627488</td>\n",
              "      <td>5.863078</td>\n",
              "      <td>5.878686</td>\n",
              "      <td>42.886826</td>\n",
              "    </tr>\n",
              "    <tr>\n",
              "      <th>31139</th>\n",
              "      <td>1729.145497</td>\n",
              "      <td>3.0</td>\n",
              "      <td>5.000000</td>\n",
              "      <td>0.000000</td>\n",
              "      <td>0.991614</td>\n",
              "      <td>0.056664</td>\n",
              "      <td>0.211544</td>\n",
              "      <td>0.000000</td>\n",
              "      <td>4.088849</td>\n",
              "      <td>4.221442</td>\n",
              "      <td>10.000000</td>\n",
              "      <td>2.845774</td>\n",
              "      <td>0.000000</td>\n",
              "      <td>10.000000</td>\n",
              "      <td>9.658507</td>\n",
              "      <td>47.074393</td>\n",
              "    </tr>\n",
              "    <tr>\n",
              "      <th>31144</th>\n",
              "      <td>1720.554273</td>\n",
              "      <td>3.0</td>\n",
              "      <td>2.025145</td>\n",
              "      <td>0.000000</td>\n",
              "      <td>2.205125</td>\n",
              "      <td>0.000000</td>\n",
              "      <td>0.000000</td>\n",
              "      <td>5.000000</td>\n",
              "      <td>1.153747</td>\n",
              "      <td>0.000000</td>\n",
              "      <td>6.209888</td>\n",
              "      <td>6.747360</td>\n",
              "      <td>0.000000</td>\n",
              "      <td>7.473184</td>\n",
              "      <td>6.573559</td>\n",
              "      <td>37.388008</td>\n",
              "    </tr>\n",
              "  </tbody>\n",
              "</table>\n",
              "</div>"
            ],
            "text/plain": [
              "          PAG_MINW  ADHERENCE  ...  HEI2015C13_ADDSUG  HEI2015_TOTAL_SCORE\n",
              "SEQN                           ...                                        \n",
              "31131   264.711316        2.0  ...           3.919226            35.553899\n",
              "31132  1353.348730        3.0  ...           9.099088            63.551696\n",
              "31134  1011.478060        3.0  ...           5.878686            42.886826\n",
              "31139  1729.145497        3.0  ...           9.658507            47.074393\n",
              "31144  1720.554273        3.0  ...           6.573559            37.388008\n",
              "\n",
              "[5 rows x 16 columns]"
            ]
          },
          "metadata": {},
          "execution_count": 57
        }
      ]
    },
    {
      "cell_type": "markdown",
      "metadata": {
        "id": "Bbrzbbk7A0cF"
      },
      "source": [
        "### Avaliando as features com notas de 0 a 5"
      ]
    },
    {
      "cell_type": "code",
      "metadata": {
        "colab": {
          "base_uri": "https://localhost:8080/"
        },
        "id": "pAywItGz_Rb0",
        "outputId": "902a2a69-e601-4dbf-86fe-8ff2488785a1"
      },
      "source": [
        "plt.figure(figsize = (13,8))\n",
        "ax = sns.boxplot(data = df_HEI_adultos[features_HEI_0_5])\n",
        "ax.tick_params(axis='x', rotation=30)"
      ],
      "execution_count": null,
      "outputs": [
        {
          "output_type": "display_data",
          "data": {
            "image/png": "[encoded data removed]",
            "text/plain": [
              "<Figure size 936x576 with 1 Axes>"
            ]
          },
          "metadata": {
            "needs_background": "light"
          }
        }
      ]
    },
    {
      "cell_type": "markdown",
      "metadata": {
        "id": "R_TDIKGFDpwl"
      },
      "source": [
        "A unica feature que precisa de atenção quanto aos outliiers é a TOTPROT"
      ]
    },
    {
      "cell_type": "code",
      "metadata": {
        "colab": {
          "base_uri": "https://localhost:8080/"
        },
        "id": "RTtMCfRhNMJN",
        "outputId": "25c314ec-d253-4994-f1ec-ee35b4b65d05"
      },
      "source": [
        "sns.displot(data = df_HEI_adultos['HEI2015C7_TOTPROT'],\n",
        "            kind='kde')"
      ],
      "execution_count": null,
      "outputs": [
        {
          "output_type": "execute_result",
          "data": {
            "text/plain": [
              "<seaborn.axisgrid.FacetGrid at 0x7fd9ff8b0c90>"
            ]
          },
          "metadata": {},
          "execution_count": 59
        },
        {
          "output_type": "display_data",
          "data": {
            "image/png": "[encoded data removed]",
            "text/plain": [
              "<Figure size 360x360 with 1 Axes>"
            ]
          },
          "metadata": {
            "needs_background": "light"
          }
        }
      ]
    },
    {
      "cell_type": "code",
      "metadata": {
        "colab": {
          "base_uri": "https://localhost:8080/"
        },
        "id": "m-fH9ItyBB3M",
        "outputId": "a4c21c1f-8793-4fc4-dee6-ce65262bca45"
      },
      "source": [
        "outliers(df_HEI_adultos, 'HEI2015C7_TOTPROT')"
      ],
      "execution_count": null,
      "outputs": [
        {
          "output_type": "stream",
          "name": "stdout",
          "text": [
            "outliers de HEI2015C7_TOTPROT: 0.0 %\n",
            "outliers de HEI2015C7_TOTPROT: 15.04 %\n"
          ]
        },
        {
          "output_type": "execute_result",
          "data": {
            "text/plain": [
              "(None, None)"
            ]
          },
          "metadata": {},
          "execution_count": 60
        }
      ]
    },
    {
      "cell_type": "markdown",
      "metadata": {
        "id": "Ywq6qftoOFDo"
      },
      "source": [
        "Como a distribuição é assimétrrica negativa, vou eliminar os 2% dos dados, referentes aos outliers"
      ]
    },
    {
      "cell_type": "code",
      "metadata": {
        "id": "ASD3CyFZObr8"
      },
      "source": [
        "limite_inferior = df_HEI_adultos['HEI2015C7_TOTPROT'].quantile(.02)\n",
        "df_HEI_adultos = df_HEI_adultos[df_HEI_adultos['HEI2015C7_TOTPROT'] > limite_inferior]"
      ],
      "execution_count": null,
      "outputs": []
    },
    {
      "cell_type": "code",
      "metadata": {
        "colab": {
          "base_uri": "https://localhost:8080/"
        },
        "id": "ZpMvfasrOspj",
        "outputId": "4360eeda-8041-4141-d067-6eda09edab64"
      },
      "source": [
        "df_HEI_adultos.shape"
      ],
      "execution_count": null,
      "outputs": [
        {
          "output_type": "execute_result",
          "data": {
            "text/plain": [
              "(4549, 16)"
            ]
          },
          "metadata": {},
          "execution_count": 62
        }
      ]
    },
    {
      "cell_type": "markdown",
      "metadata": {
        "id": "90Beq8d3EWN0"
      },
      "source": [
        "### Avaliando as features com notas de 0 a 10"
      ]
    },
    {
      "cell_type": "code",
      "metadata": {
        "colab": {
          "base_uri": "https://localhost:8080/"
        },
        "id": "txl-EQIWD02m",
        "outputId": "06880f3f-ae16-4cb3-bf27-5a82eb53f9ba"
      },
      "source": [
        "plt.figure(figsize = (13,8))\n",
        "ax = sns.boxplot(data = df_HEI_adultos[features_HEI_0_10])\n",
        "ax.tick_params(axis='x', rotation=30)"
      ],
      "execution_count": null,
      "outputs": [
        {
          "output_type": "display_data",
          "data": {
            "image/png": "[encoded data removed]",
            "text/plain": [
              "<Figure size 936x576 with 1 Axes>"
            ]
          },
          "metadata": {
            "needs_background": "light"
          }
        }
      ]
    },
    {
      "cell_type": "markdown",
      "metadata": {
        "id": "4vjYRdLGFC_h"
      },
      "source": [
        "Para notas de 0 a 10, não há outliers"
      ]
    },
    {
      "cell_type": "markdown",
      "metadata": {
        "id": "iggFhRK1FHEo"
      },
      "source": [
        "### Verificando outiliers para SCORE TOTAL"
      ]
    },
    {
      "cell_type": "code",
      "metadata": {
        "colab": {
          "base_uri": "https://localhost:8080/"
        },
        "id": "HJ39XH49Eadr",
        "outputId": "1453ac96-dfb8-4752-d7f4-8c76296cc687"
      },
      "source": [
        "sns.boxplot(data = df_HEI_adultos,\n",
        "            y = 'HEI2015_TOTAL_SCORE')"
      ],
      "execution_count": null,
      "outputs": [
        {
          "output_type": "execute_result",
          "data": {
            "text/plain": [
              "<matplotlib.axes._subplots.AxesSubplot at 0x7fd9fd6081d0>"
            ]
          },
          "metadata": {},
          "execution_count": 64
        },
        {
          "output_type": "display_data",
          "data": {
            "image/png": "[encoded data removed]",
            "text/plain": [
              "<Figure size 432x288 with 1 Axes>"
            ]
          },
          "metadata": {
            "needs_background": "light"
          }
        }
      ]
    },
    {
      "cell_type": "code",
      "metadata": {
        "id": "UdbKAV2uFSHV",
        "colab": {
          "base_uri": "https://localhost:8080/"
        },
        "outputId": "bf890234-b043-490e-97cc-6c7fd1e76b15"
      },
      "source": [
        "outliers(df_HEI_adultos, 'HEI2015_TOTAL_SCORE')"
      ],
      "execution_count": null,
      "outputs": [
        {
          "output_type": "stream",
          "name": "stdout",
          "text": [
            "outliers de HEI2015_TOTAL_SCORE: 2.33 %\n",
            "outliers de HEI2015_TOTAL_SCORE: 0.75 %\n"
          ]
        },
        {
          "output_type": "execute_result",
          "data": {
            "text/plain": [
              "(None, None)"
            ]
          },
          "metadata": {},
          "execution_count": 65
        }
      ]
    },
    {
      "cell_type": "markdown",
      "metadata": {
        "id": "_Y5mTlKpJMOM"
      },
      "source": [
        "Nesse caso, como o Total Score é a soma das features anteriores, que já foram tratadas, acredito que podemos manter os dados como estão. Caso em avaliação futura venha a apresentar algum problema para nossa análise, voltamos para ajustar."
      ]
    },
    {
      "cell_type": "markdown",
      "metadata": {
        "id": "8By63StOSFRY"
      },
      "source": [
        "## Análise Univariada de Depressão"
      ]
    },
    {
      "cell_type": "code",
      "metadata": {
        "colab": {
          "base_uri": "https://localhost:8080/"
        },
        "id": "BbWkHqSLI9Y1",
        "outputId": "14efd439-83d0-4f63-9874-4426703adb8f"
      },
      "source": [
        "df_PHQ_adultos.info()"
      ],
      "execution_count": null,
      "outputs": [
        {
          "output_type": "stream",
          "name": "stdout",
          "text": [
            "<class 'pandas.core.frame.DataFrame'>\n",
            "Int64Index: 4737 entries, 31131 to 41473\n",
            "Data columns (total 16 columns):\n",
            " #   Column    Non-Null Count  Dtype  \n",
            "---  ------    --------------  -----  \n",
            " 0   DPQ010    4737 non-null   float64\n",
            " 1   DPQ020    4737 non-null   float64\n",
            " 2   DPQ030    4737 non-null   float64\n",
            " 3   DPQ040    4737 non-null   float64\n",
            " 4   DPQ050    4737 non-null   float64\n",
            " 5   DPQ060    4737 non-null   float64\n",
            " 6   DPQ070    4737 non-null   float64\n",
            " 7   DPQ080    4737 non-null   float64\n",
            " 8   DPQ090    4737 non-null   float64\n",
            " 9   RIAGENDR  4737 non-null   int64  \n",
            " 10  RIDAGEYR  4737 non-null   int64  \n",
            " 11  RIDRETH1  4737 non-null   int64  \n",
            " 12  DMDEDUC   4737 non-null   int64  \n",
            " 13  INDFMINC  4737 non-null   float64\n",
            " 14  phq9      4737 non-null   float64\n",
            " 15  phq_grp   4737 non-null   float64\n",
            "dtypes: float64(12), int64(4)\n",
            "memory usage: 789.1 KB\n"
          ]
        }
      ]
    },
    {
      "cell_type": "code",
      "metadata": {
        "colab": {
          "base_uri": "https://localhost:8080/",
          "height": 320
        },
        "id": "hKpj3PItSDG8",
        "outputId": "94385d8b-6d2e-49e6-e10d-f58e76bcd779"
      },
      "source": [
        "df_PHQ_adultos.describe()"
      ],
      "execution_count": null,
      "outputs": [
        {
          "output_type": "execute_result",
          "data": {
            "text/html": [
              "<div>\n",
              "<style scoped>\n",
              "    .dataframe tbody tr th:only-of-type {\n",
              "        vertical-align: middle;\n",
              "    }\n",
              "\n",
              "    .dataframe tbody tr th {\n",
              "        vertical-align: top;\n",
              "    }\n",
              "\n",
              "    .dataframe thead th {\n",
              "        text-align: right;\n",
              "    }\n",
              "</style>\n",
              "<table border=\"1\" class=\"dataframe\">\n",
              "  <thead>\n",
              "    <tr style=\"text-align: right;\">\n",
              "      <th></th>\n",
              "      <th>DPQ010</th>\n",
              "      <th>DPQ020</th>\n",
              "      <th>DPQ030</th>\n",
              "      <th>DPQ040</th>\n",
              "      <th>DPQ050</th>\n",
              "      <th>DPQ060</th>\n",
              "      <th>DPQ070</th>\n",
              "      <th>DPQ080</th>\n",
              "      <th>DPQ090</th>\n",
              "      <th>RIAGENDR</th>\n",
              "      <th>RIDAGEYR</th>\n",
              "      <th>RIDRETH1</th>\n",
              "      <th>DMDEDUC</th>\n",
              "      <th>INDFMINC</th>\n",
              "      <th>phq9</th>\n",
              "      <th>phq_grp</th>\n",
              "    </tr>\n",
              "  </thead>\n",
              "  <tbody>\n",
              "    <tr>\n",
              "      <th>count</th>\n",
              "      <td>4737.000000</td>\n",
              "      <td>4737.000000</td>\n",
              "      <td>4737.000000</td>\n",
              "      <td>4737.000000</td>\n",
              "      <td>4737.000000</td>\n",
              "      <td>4737.000000</td>\n",
              "      <td>4737.000000</td>\n",
              "      <td>4737.000000</td>\n",
              "      <td>4737.000000</td>\n",
              "      <td>4737.000000</td>\n",
              "      <td>4737.00000</td>\n",
              "      <td>4737.000000</td>\n",
              "      <td>4737.000000</td>\n",
              "      <td>4737.000000</td>\n",
              "      <td>4737.000000</td>\n",
              "      <td>4737.000000</td>\n",
              "    </tr>\n",
              "    <tr>\n",
              "      <th>mean</th>\n",
              "      <td>0.290690</td>\n",
              "      <td>0.300823</td>\n",
              "      <td>0.534093</td>\n",
              "      <td>0.705088</td>\n",
              "      <td>0.311167</td>\n",
              "      <td>0.199704</td>\n",
              "      <td>0.221659</td>\n",
              "      <td>0.130040</td>\n",
              "      <td>0.046654</td>\n",
              "      <td>1.518683</td>\n",
              "      <td>44.84315</td>\n",
              "      <td>2.860460</td>\n",
              "      <td>3.264513</td>\n",
              "      <td>6.931813</td>\n",
              "      <td>2.739920</td>\n",
              "      <td>0.298501</td>\n",
              "    </tr>\n",
              "    <tr>\n",
              "      <th>std</th>\n",
              "      <td>0.660914</td>\n",
              "      <td>0.648596</td>\n",
              "      <td>0.868307</td>\n",
              "      <td>0.870040</td>\n",
              "      <td>0.696477</td>\n",
              "      <td>0.554291</td>\n",
              "      <td>0.586528</td>\n",
              "      <td>0.449731</td>\n",
              "      <td>0.272117</td>\n",
              "      <td>0.499704</td>\n",
              "      <td>19.85118</td>\n",
              "      <td>1.114702</td>\n",
              "      <td>1.242678</td>\n",
              "      <td>3.131917</td>\n",
              "      <td>3.743451</td>\n",
              "      <td>0.677822</td>\n",
              "    </tr>\n",
              "    <tr>\n",
              "      <th>min</th>\n",
              "      <td>0.000000</td>\n",
              "      <td>0.000000</td>\n",
              "      <td>0.000000</td>\n",
              "      <td>0.000000</td>\n",
              "      <td>0.000000</td>\n",
              "      <td>0.000000</td>\n",
              "      <td>0.000000</td>\n",
              "      <td>0.000000</td>\n",
              "      <td>0.000000</td>\n",
              "      <td>1.000000</td>\n",
              "      <td>18.00000</td>\n",
              "      <td>1.000000</td>\n",
              "      <td>1.000000</td>\n",
              "      <td>1.000000</td>\n",
              "      <td>0.000000</td>\n",
              "      <td>0.000000</td>\n",
              "    </tr>\n",
              "    <tr>\n",
              "      <th>25%</th>\n",
              "      <td>0.000000</td>\n",
              "      <td>0.000000</td>\n",
              "      <td>0.000000</td>\n",
              "      <td>0.000000</td>\n",
              "      <td>0.000000</td>\n",
              "      <td>0.000000</td>\n",
              "      <td>0.000000</td>\n",
              "      <td>0.000000</td>\n",
              "      <td>0.000000</td>\n",
              "      <td>1.000000</td>\n",
              "      <td>27.00000</td>\n",
              "      <td>3.000000</td>\n",
              "      <td>2.000000</td>\n",
              "      <td>4.000000</td>\n",
              "      <td>0.000000</td>\n",
              "      <td>0.000000</td>\n",
              "    </tr>\n",
              "    <tr>\n",
              "      <th>50%</th>\n",
              "      <td>0.000000</td>\n",
              "      <td>0.000000</td>\n",
              "      <td>0.000000</td>\n",
              "      <td>0.000000</td>\n",
              "      <td>0.000000</td>\n",
              "      <td>0.000000</td>\n",
              "      <td>0.000000</td>\n",
              "      <td>0.000000</td>\n",
              "      <td>0.000000</td>\n",
              "      <td>2.000000</td>\n",
              "      <td>43.00000</td>\n",
              "      <td>3.000000</td>\n",
              "      <td>3.000000</td>\n",
              "      <td>7.000000</td>\n",
              "      <td>1.000000</td>\n",
              "      <td>0.000000</td>\n",
              "    </tr>\n",
              "    <tr>\n",
              "      <th>75%</th>\n",
              "      <td>0.000000</td>\n",
              "      <td>0.000000</td>\n",
              "      <td>1.000000</td>\n",
              "      <td>1.000000</td>\n",
              "      <td>0.000000</td>\n",
              "      <td>0.000000</td>\n",
              "      <td>0.000000</td>\n",
              "      <td>0.000000</td>\n",
              "      <td>0.000000</td>\n",
              "      <td>2.000000</td>\n",
              "      <td>61.00000</td>\n",
              "      <td>4.000000</td>\n",
              "      <td>4.000000</td>\n",
              "      <td>10.000000</td>\n",
              "      <td>4.000000</td>\n",
              "      <td>0.000000</td>\n",
              "    </tr>\n",
              "    <tr>\n",
              "      <th>max</th>\n",
              "      <td>3.000000</td>\n",
              "      <td>3.000000</td>\n",
              "      <td>3.000000</td>\n",
              "      <td>3.000000</td>\n",
              "      <td>3.000000</td>\n",
              "      <td>3.000000</td>\n",
              "      <td>3.000000</td>\n",
              "      <td>3.000000</td>\n",
              "      <td>3.000000</td>\n",
              "      <td>2.000000</td>\n",
              "      <td>85.00000</td>\n",
              "      <td>5.000000</td>\n",
              "      <td>5.000000</td>\n",
              "      <td>13.000000</td>\n",
              "      <td>27.000000</td>\n",
              "      <td>4.000000</td>\n",
              "    </tr>\n",
              "  </tbody>\n",
              "</table>\n",
              "</div>"
            ],
            "text/plain": [
              "            DPQ010       DPQ020  ...         phq9      phq_grp\n",
              "count  4737.000000  4737.000000  ...  4737.000000  4737.000000\n",
              "mean      0.290690     0.300823  ...     2.739920     0.298501\n",
              "std       0.660914     0.648596  ...     3.743451     0.677822\n",
              "min       0.000000     0.000000  ...     0.000000     0.000000\n",
              "25%       0.000000     0.000000  ...     0.000000     0.000000\n",
              "50%       0.000000     0.000000  ...     1.000000     0.000000\n",
              "75%       0.000000     0.000000  ...     4.000000     0.000000\n",
              "max       3.000000     3.000000  ...    27.000000     4.000000\n",
              "\n",
              "[8 rows x 16 columns]"
            ]
          },
          "metadata": {},
          "execution_count": 67
        }
      ]
    },
    {
      "cell_type": "code",
      "metadata": {
        "colab": {
          "base_uri": "https://localhost:8080/",
          "height": 258
        },
        "id": "wcf_iOD_nmDH",
        "outputId": "e251af53-b2fa-4fc3-dea1-5597480ecf26"
      },
      "source": [
        "df_PHQ_adultos.head()"
      ],
      "execution_count": null,
      "outputs": [
        {
          "output_type": "execute_result",
          "data": {
            "text/html": [
              "<div>\n",
              "<style scoped>\n",
              "    .dataframe tbody tr th:only-of-type {\n",
              "        vertical-align: middle;\n",
              "    }\n",
              "\n",
              "    .dataframe tbody tr th {\n",
              "        vertical-align: top;\n",
              "    }\n",
              "\n",
              "    .dataframe thead th {\n",
              "        text-align: right;\n",
              "    }\n",
              "</style>\n",
              "<table border=\"1\" class=\"dataframe\">\n",
              "  <thead>\n",
              "    <tr style=\"text-align: right;\">\n",
              "      <th></th>\n",
              "      <th>DPQ010</th>\n",
              "      <th>DPQ020</th>\n",
              "      <th>DPQ030</th>\n",
              "      <th>DPQ040</th>\n",
              "      <th>DPQ050</th>\n",
              "      <th>DPQ060</th>\n",
              "      <th>DPQ070</th>\n",
              "      <th>DPQ080</th>\n",
              "      <th>DPQ090</th>\n",
              "      <th>RIAGENDR</th>\n",
              "      <th>RIDAGEYR</th>\n",
              "      <th>RIDRETH1</th>\n",
              "      <th>DMDEDUC</th>\n",
              "      <th>INDFMINC</th>\n",
              "      <th>phq9</th>\n",
              "      <th>phq_grp</th>\n",
              "    </tr>\n",
              "    <tr>\n",
              "      <th>SEQN</th>\n",
              "      <th></th>\n",
              "      <th></th>\n",
              "      <th></th>\n",
              "      <th></th>\n",
              "      <th></th>\n",
              "      <th></th>\n",
              "      <th></th>\n",
              "      <th></th>\n",
              "      <th></th>\n",
              "      <th></th>\n",
              "      <th></th>\n",
              "      <th></th>\n",
              "      <th></th>\n",
              "      <th></th>\n",
              "      <th></th>\n",
              "      <th></th>\n",
              "    </tr>\n",
              "  </thead>\n",
              "  <tbody>\n",
              "    <tr>\n",
              "      <th>31131</th>\n",
              "      <td>0.0</td>\n",
              "      <td>0.0</td>\n",
              "      <td>0.0</td>\n",
              "      <td>0.0</td>\n",
              "      <td>0.0</td>\n",
              "      <td>0.0</td>\n",
              "      <td>0.0</td>\n",
              "      <td>0.0</td>\n",
              "      <td>0.0</td>\n",
              "      <td>2</td>\n",
              "      <td>44</td>\n",
              "      <td>4</td>\n",
              "      <td>4</td>\n",
              "      <td>11.0</td>\n",
              "      <td>0.0</td>\n",
              "      <td>0.0</td>\n",
              "    </tr>\n",
              "    <tr>\n",
              "      <th>31132</th>\n",
              "      <td>0.0</td>\n",
              "      <td>0.0</td>\n",
              "      <td>0.0</td>\n",
              "      <td>0.0</td>\n",
              "      <td>0.0</td>\n",
              "      <td>0.0</td>\n",
              "      <td>0.0</td>\n",
              "      <td>0.0</td>\n",
              "      <td>0.0</td>\n",
              "      <td>1</td>\n",
              "      <td>70</td>\n",
              "      <td>3</td>\n",
              "      <td>5</td>\n",
              "      <td>11.0</td>\n",
              "      <td>0.0</td>\n",
              "      <td>0.0</td>\n",
              "    </tr>\n",
              "    <tr>\n",
              "      <th>31134</th>\n",
              "      <td>0.0</td>\n",
              "      <td>0.0</td>\n",
              "      <td>0.0</td>\n",
              "      <td>0.0</td>\n",
              "      <td>0.0</td>\n",
              "      <td>0.0</td>\n",
              "      <td>0.0</td>\n",
              "      <td>0.0</td>\n",
              "      <td>0.0</td>\n",
              "      <td>1</td>\n",
              "      <td>73</td>\n",
              "      <td>3</td>\n",
              "      <td>3</td>\n",
              "      <td>12.0</td>\n",
              "      <td>0.0</td>\n",
              "      <td>0.0</td>\n",
              "    </tr>\n",
              "    <tr>\n",
              "      <th>31139</th>\n",
              "      <td>0.0</td>\n",
              "      <td>0.0</td>\n",
              "      <td>0.0</td>\n",
              "      <td>0.0</td>\n",
              "      <td>3.0</td>\n",
              "      <td>1.0</td>\n",
              "      <td>0.0</td>\n",
              "      <td>0.0</td>\n",
              "      <td>0.0</td>\n",
              "      <td>2</td>\n",
              "      <td>18</td>\n",
              "      <td>2</td>\n",
              "      <td>3</td>\n",
              "      <td>11.0</td>\n",
              "      <td>4.0</td>\n",
              "      <td>0.0</td>\n",
              "    </tr>\n",
              "    <tr>\n",
              "      <th>31143</th>\n",
              "      <td>0.0</td>\n",
              "      <td>1.0</td>\n",
              "      <td>1.0</td>\n",
              "      <td>1.0</td>\n",
              "      <td>1.0</td>\n",
              "      <td>1.0</td>\n",
              "      <td>1.0</td>\n",
              "      <td>0.0</td>\n",
              "      <td>0.0</td>\n",
              "      <td>1</td>\n",
              "      <td>19</td>\n",
              "      <td>3</td>\n",
              "      <td>4</td>\n",
              "      <td>11.0</td>\n",
              "      <td>6.0</td>\n",
              "      <td>1.0</td>\n",
              "    </tr>\n",
              "  </tbody>\n",
              "</table>\n",
              "</div>"
            ],
            "text/plain": [
              "       DPQ010  DPQ020  DPQ030  DPQ040  ...  DMDEDUC  INDFMINC  phq9  phq_grp\n",
              "SEQN                                   ...                                  \n",
              "31131     0.0     0.0     0.0     0.0  ...        4      11.0   0.0      0.0\n",
              "31132     0.0     0.0     0.0     0.0  ...        5      11.0   0.0      0.0\n",
              "31134     0.0     0.0     0.0     0.0  ...        3      12.0   0.0      0.0\n",
              "31139     0.0     0.0     0.0     0.0  ...        3      11.0   4.0      0.0\n",
              "31143     0.0     1.0     1.0     1.0  ...        4      11.0   6.0      1.0\n",
              "\n",
              "[5 rows x 16 columns]"
            ]
          },
          "metadata": {},
          "execution_count": 68
        }
      ]
    },
    {
      "cell_type": "code",
      "metadata": {
        "id": "4ZqwU1AJn2mN"
      },
      "source": [
        "columns_DPQ = df_PHQ_adultos.columns.drop(['RIAGENDR', 'RIDAGEYR', 'RIDRETH1', 'DMDEDUC',\n",
        "                             'INDFMINC', 'phq9', 'phq_grp'])"
      ],
      "execution_count": null,
      "outputs": []
    },
    {
      "cell_type": "code",
      "metadata": {
        "colab": {
          "base_uri": "https://localhost:8080/"
        },
        "id": "l0S2r-QAy0a8",
        "outputId": "b7f4ea9f-e3f7-4a77-b805-ad05152ce3b0"
      },
      "source": [
        "columns_DPQ"
      ],
      "execution_count": null,
      "outputs": [
        {
          "output_type": "execute_result",
          "data": {
            "text/plain": [
              "Index(['DPQ010', 'DPQ020', 'DPQ030', 'DPQ040', 'DPQ050', 'DPQ060', 'DPQ070',\n",
              "       'DPQ080', 'DPQ090'],\n",
              "      dtype='object')"
            ]
          },
          "metadata": {},
          "execution_count": 70
        }
      ]
    },
    {
      "cell_type": "code",
      "metadata": {
        "colab": {
          "base_uri": "https://localhost:8080/"
        },
        "id": "zHNKT-3d2ID9",
        "outputId": "19c835b5-1bd4-4ed3-bfbf-89baa7bad81f"
      },
      "source": [
        "columns_DPQ.get_loc('DPQ010')"
      ],
      "execution_count": null,
      "outputs": [
        {
          "output_type": "execute_result",
          "data": {
            "text/plain": [
              "0"
            ]
          },
          "metadata": {},
          "execution_count": 71
        }
      ]
    },
    {
      "cell_type": "code",
      "metadata": {
        "colab": {
          "base_uri": "https://localhost:8080/",
          "height": 877
        },
        "id": "QrwfzORhw9MA",
        "outputId": "8602952f-bb1c-4ee8-f81d-ffbcc4c8c50e"
      },
      "source": [
        "# criando espaços de subplots\n",
        "fig = plt.figure(figsize=(15, 15))\n",
        "\n",
        "for column in columns_DPQ:\n",
        "  ax = fig.add_subplot(3, 3, columns_DPQ.get_loc(column)+1)\n",
        "  sns.countplot(data = df_PHQ_adultos, x = column)\n",
        "  "
      ],
      "execution_count": null,
      "outputs": [
        {
          "output_type": "display_data",
          "data": {
            "image/png": "[encoded data removed]",
            "text/plain": [
              "<Figure size 1080x1080 with 9 Axes>"
            ]
          },
          "metadata": {
            "needs_background": "light"
          }
        }
      ]
    },
    {
      "cell_type": "markdown",
      "metadata": {
        "id": "IhHZGHeA6ABN"
      },
      "source": [
        "Observa-se que, para a maioria das features, há predominância de respostas 0 e 1.\n",
        "\n",
        "No entanto, para cada feature, há uma parcela da dos indivíduos que responderam 2 ou 3. "
      ]
    },
    {
      "cell_type": "markdown",
      "metadata": {
        "id": "n9MLfv_b6qSH"
      },
      "source": [
        "### Distribuição de Gênero"
      ]
    },
    {
      "cell_type": "code",
      "metadata": {
        "colab": {
          "base_uri": "https://localhost:8080/",
          "height": 351
        },
        "id": "yiFdVD9GykTp",
        "outputId": "0e9ccb76-a474-4cc1-a8b6-b8899333f144"
      },
      "source": [
        "sns.countplot(df_PHQ_adultos['RIAGENDR'])"
      ],
      "execution_count": null,
      "outputs": [
        {
          "output_type": "stream",
          "name": "stderr",
          "text": [
            "/usr/local/lib/python3.7/dist-packages/seaborn/_decorators.py:43: FutureWarning: Pass the following variable as a keyword arg: x. From version 0.12, the only valid positional argument will be `data`, and passing other arguments without an explicit keyword will result in an error or misinterpretation.\n",
            "  FutureWarning\n"
          ]
        },
        {
          "output_type": "execute_result",
          "data": {
            "text/plain": [
              "<matplotlib.axes._subplots.AxesSubplot at 0x7fd9ffe84990>"
            ]
          },
          "metadata": {},
          "execution_count": 73
        },
        {
          "output_type": "display_data",
          "data": {
            "image/png": "[encoded data removed]",
            "text/plain": [
              "<Figure size 432x288 with 1 Axes>"
            ]
          },
          "metadata": {
            "needs_background": "light"
          }
        }
      ]
    },
    {
      "cell_type": "code",
      "metadata": {
        "colab": {
          "base_uri": "https://localhost:8080/"
        },
        "id": "QrAczSzz64dz",
        "outputId": "6027d3aa-5a0f-47b1-9065-66dd69168150"
      },
      "source": [
        "df_PHQ_adultos['RIAGENDR'].value_counts(normalize = True)*100"
      ],
      "execution_count": null,
      "outputs": [
        {
          "output_type": "execute_result",
          "data": {
            "text/plain": [
              "2    51.868271\n",
              "1    48.131729\n",
              "Name: RIAGENDR, dtype: float64"
            ]
          },
          "metadata": {},
          "execution_count": 74
        }
      ]
    },
    {
      "cell_type": "markdown",
      "metadata": {
        "id": "6w-pv8OM7Inq"
      },
      "source": [
        "A distribuição de sexos é parecida"
      ]
    },
    {
      "cell_type": "markdown",
      "metadata": {
        "id": "1PUCkQjg7RCf"
      },
      "source": [
        "### Idade"
      ]
    },
    {
      "cell_type": "code",
      "metadata": {
        "colab": {
          "base_uri": "https://localhost:8080/",
          "height": 386
        },
        "id": "nZgHc8I57BSA",
        "outputId": "b72a417f-69a0-4283-954b-78d4e316e77f"
      },
      "source": [
        "sns.displot(df_PHQ_adultos['RIDAGEYR'],\n",
        "            kind = 'kde')"
      ],
      "execution_count": null,
      "outputs": [
        {
          "output_type": "execute_result",
          "data": {
            "text/plain": [
              "<seaborn.axisgrid.FacetGrid at 0x7fd9fd6a6cd0>"
            ]
          },
          "metadata": {},
          "execution_count": 75
        },
        {
          "output_type": "display_data",
          "data": {
            "image/png": "[encoded data removed]",
            "text/plain": [
              "<Figure size 360x360 with 1 Axes>"
            ]
          },
          "metadata": {
            "needs_background": "light"
          }
        }
      ]
    },
    {
      "cell_type": "markdown",
      "metadata": {
        "id": "iWVnmouJtM1-"
      },
      "source": [
        "Observa-se uma maior densidade de idades entre 20 e 30 anos, aproximadamente."
      ]
    },
    {
      "cell_type": "markdown",
      "metadata": {
        "id": "yNsHRys_u_4F"
      },
      "source": [
        "### Etnia"
      ]
    },
    {
      "cell_type": "markdown",
      "metadata": {
        "id": "mmYvqrcRvCXP"
      },
      "source": [
        "1 = Branco não-hispânico\n",
        "\n",
        "2 = Negro não-hispânico\n",
        "\n",
        "3 = Mexicano-americano\n",
        "\n",
        "4 = Outro\n",
        "\n",
        "5 = Outro - Hispânico"
      ]
    },
    {
      "cell_type": "code",
      "metadata": {
        "colab": {
          "base_uri": "https://localhost:8080/",
          "height": 351
        },
        "id": "g6U032hgs0Id",
        "outputId": "73498571-f5a9-46c2-d9f8-0ed13f8e90c0"
      },
      "source": [
        "sns.countplot(df_PHQ_adultos['RIDRETH1'])"
      ],
      "execution_count": null,
      "outputs": [
        {
          "output_type": "stream",
          "name": "stderr",
          "text": [
            "/usr/local/lib/python3.7/dist-packages/seaborn/_decorators.py:43: FutureWarning: Pass the following variable as a keyword arg: x. From version 0.12, the only valid positional argument will be `data`, and passing other arguments without an explicit keyword will result in an error or misinterpretation.\n",
            "  FutureWarning\n"
          ]
        },
        {
          "output_type": "execute_result",
          "data": {
            "text/plain": [
              "<matplotlib.axes._subplots.AxesSubplot at 0x7fd9fd76f810>"
            ]
          },
          "metadata": {},
          "execution_count": 76
        },
        {
          "output_type": "display_data",
          "data": {
            "image/png": "[encoded data removed]",
            "text/plain": [
              "<Figure size 432x288 with 1 Axes>"
            ]
          },
          "metadata": {
            "needs_background": "light"
          }
        }
      ]
    },
    {
      "cell_type": "markdown",
      "metadata": {
        "id": "ubLKujaAvQld"
      },
      "source": [
        "Observa-se maior quantidade de Mexicanos-americanos (3)"
      ]
    },
    {
      "cell_type": "markdown",
      "metadata": {
        "id": "-Oy4sq0evdQi"
      },
      "source": [
        "### Escolaridade"
      ]
    },
    {
      "cell_type": "markdown",
      "metadata": {
        "id": "nDVX7IMSvjvC"
      },
      "source": [
        "1 = Menor que 9o ano\n",
        "\n",
        "2 = 9-12o ano\n",
        "\n",
        "3 = Ensino médio\n",
        "\n",
        "4 = Ensino superior incompleto\n",
        "\n",
        "5 = Superior completo ou maior"
      ]
    },
    {
      "cell_type": "code",
      "metadata": {
        "colab": {
          "base_uri": "https://localhost:8080/",
          "height": 353
        },
        "id": "_KhCpW60u9uR",
        "outputId": "42522f94-b7b6-4752-8510-29d330aefd18"
      },
      "source": [
        "sns.countplot(df_PHQ_adultos['DMDEDUC'])"
      ],
      "execution_count": null,
      "outputs": [
        {
          "output_type": "stream",
          "name": "stderr",
          "text": [
            "/usr/local/lib/python3.7/dist-packages/seaborn/_decorators.py:43: FutureWarning: Pass the following variable as a keyword arg: x. From version 0.12, the only valid positional argument will be `data`, and passing other arguments without an explicit keyword will result in an error or misinterpretation.\n",
            "  FutureWarning\n"
          ]
        },
        {
          "output_type": "execute_result",
          "data": {
            "text/plain": [
              "<matplotlib.axes._subplots.AxesSubplot at 0x7fd9ff86d790>"
            ]
          },
          "metadata": {},
          "execution_count": 77
        },
        {
          "output_type": "display_data",
          "data": {
            "image/png": "[encoded data removed]",
            "text/plain": [
              "<Figure size 432x288 with 1 Axes>"
            ]
          },
          "metadata": {
            "needs_background": "light"
          }
        }
      ]
    },
    {
      "cell_type": "markdown",
      "metadata": {
        "id": "dnkbaGc3vxt1"
      },
      "source": [
        "Observa-se maior concentração de pessoas com escolaridade de ensino médio e superior incompleto"
      ]
    },
    {
      "cell_type": "markdown",
      "metadata": {
        "id": "0i7-MIgPkKUY"
      },
      "source": [
        "### Sintomas de Depressão"
      ]
    },
    {
      "cell_type": "code",
      "metadata": {
        "colab": {
          "base_uri": "https://localhost:8080/",
          "height": 352
        },
        "id": "sUmrhvuxj5C9",
        "outputId": "d0a7d95c-8c41-41e0-cbe6-dfd55aba68b8"
      },
      "source": [
        "sns.countplot(df_PHQ_adultos['phq_grp'])"
      ],
      "execution_count": null,
      "outputs": [
        {
          "output_type": "stream",
          "name": "stderr",
          "text": [
            "/usr/local/lib/python3.7/dist-packages/seaborn/_decorators.py:43: FutureWarning: Pass the following variable as a keyword arg: x. From version 0.12, the only valid positional argument will be `data`, and passing other arguments without an explicit keyword will result in an error or misinterpretation.\n",
            "  FutureWarning\n"
          ]
        },
        {
          "output_type": "execute_result",
          "data": {
            "text/plain": [
              "<matplotlib.axes._subplots.AxesSubplot at 0x7fd9f781af90>"
            ]
          },
          "metadata": {},
          "execution_count": 93
        },
        {
          "output_type": "display_data",
          "data": {
            "image/png": "[encoded data removed]",
            "text/plain": [
              "<Figure size 432x288 with 1 Axes>"
            ]
          },
          "metadata": {
            "needs_background": "light"
          }
        }
      ]
    },
    {
      "cell_type": "code",
      "metadata": {
        "colab": {
          "base_uri": "https://localhost:8080/"
        },
        "id": "sZsdHN2GkOSE",
        "outputId": "0c97c952-387d-4acd-d3ee-3980a8445742"
      },
      "source": [
        "df_PHQ_adultos['phq_grp'].value_counts(normalize = True)*100"
      ],
      "execution_count": null,
      "outputs": [
        {
          "output_type": "execute_result",
          "data": {
            "text/plain": [
              "0.0    79.142917\n",
              "1.0    14.629512\n",
              "2.0     4.200971\n",
              "3.0     1.287735\n",
              "4.0     0.738864\n",
              "Name: phq_grp, dtype: float64"
            ]
          },
          "metadata": {},
          "execution_count": 96
        }
      ]
    },
    {
      "cell_type": "markdown",
      "metadata": {
        "id": "X3mIUWGdwf5W"
      },
      "source": [
        "### Renda anual"
      ]
    },
    {
      "cell_type": "code",
      "metadata": {
        "colab": {
          "base_uri": "https://localhost:8080/",
          "height": 351
        },
        "id": "XVSTo3R2vioD",
        "outputId": "afa6c231-02af-4bdb-a18b-66a49ec0bebd"
      },
      "source": [
        "sns.countplot(df_PHQ_adultos['INDFMINC'])"
      ],
      "execution_count": null,
      "outputs": [
        {
          "output_type": "stream",
          "name": "stderr",
          "text": [
            "/usr/local/lib/python3.7/dist-packages/seaborn/_decorators.py:43: FutureWarning: Pass the following variable as a keyword arg: x. From version 0.12, the only valid positional argument will be `data`, and passing other arguments without an explicit keyword will result in an error or misinterpretation.\n",
            "  FutureWarning\n"
          ]
        },
        {
          "output_type": "execute_result",
          "data": {
            "text/plain": [
              "<matplotlib.axes._subplots.AxesSubplot at 0x7fd9ff935390>"
            ]
          },
          "metadata": {},
          "execution_count": 78
        },
        {
          "output_type": "display_data",
          "data": {
            "image/png": "[encoded data removed]",
            "text/plain": [
              "<Figure size 432x288 with 1 Axes>"
            ]
          },
          "metadata": {
            "needs_background": "light"
          }
        }
      ]
    },
    {
      "cell_type": "markdown",
      "metadata": {
        "id": "AGJvL0DuxW4A"
      },
      "source": [
        "Observa-se uma discrepância nos dados. Há muito mais famílias com renda maior que 75 mil dólares anuais."
      ]
    },
    {
      "cell_type": "markdown",
      "metadata": {
        "id": "4-kwW0PFxy1A"
      },
      "source": [
        "# Análise Bivariada"
      ]
    },
    {
      "cell_type": "markdown",
      "metadata": {
        "id": "wC1rCQDyx7o8"
      },
      "source": [
        "Vamos começar, unindo nossos datasets"
      ]
    },
    {
      "cell_type": "code",
      "metadata": {
        "id": "8s67X_TrwyK-"
      },
      "source": [
        "# unindo os datasets pela chave SEQN, eliminando indivíduos que não estão em ambos\n",
        "df_total = df_HEI_adultos.join(df_PHQ_adultos, how='inner')"
      ],
      "execution_count": null,
      "outputs": []
    },
    {
      "cell_type": "code",
      "metadata": {
        "colab": {
          "base_uri": "https://localhost:8080/",
          "height": 258
        },
        "id": "9VrrER4SyKsd",
        "outputId": "3750fc4e-ef40-477f-92f1-782a141a7af2"
      },
      "source": [
        "df_total.head()"
      ],
      "execution_count": null,
      "outputs": [
        {
          "output_type": "execute_result",
          "data": {
            "text/html": [
              "<div>\n",
              "<style scoped>\n",
              "    .dataframe tbody tr th:only-of-type {\n",
              "        vertical-align: middle;\n",
              "    }\n",
              "\n",
              "    .dataframe tbody tr th {\n",
              "        vertical-align: top;\n",
              "    }\n",
              "\n",
              "    .dataframe thead th {\n",
              "        text-align: right;\n",
              "    }\n",
              "</style>\n",
              "<table border=\"1\" class=\"dataframe\">\n",
              "  <thead>\n",
              "    <tr style=\"text-align: right;\">\n",
              "      <th></th>\n",
              "      <th>PAG_MINW</th>\n",
              "      <th>ADHERENCE</th>\n",
              "      <th>HEI2015C1_TOTALVEG</th>\n",
              "      <th>HEI2015C2_GREEN_AND_BEAN</th>\n",
              "      <th>HEI2015C3_TOTALFRUIT</th>\n",
              "      <th>HEI2015C4_WHOLEFRUIT</th>\n",
              "      <th>HEI2015C5_WHOLEGRAIN</th>\n",
              "      <th>HEI2015C6_TOTALDAIRY</th>\n",
              "      <th>HEI2015C7_TOTPROT</th>\n",
              "      <th>HEI2015C8_SEAPLANT_PROT</th>\n",
              "      <th>HEI2015C9_FATTYACID</th>\n",
              "      <th>HEI2015C10_SODIUM</th>\n",
              "      <th>HEI2015C11_REFINEDGRAIN</th>\n",
              "      <th>HEI2015C12_SFAT</th>\n",
              "      <th>HEI2015C13_ADDSUG</th>\n",
              "      <th>HEI2015_TOTAL_SCORE</th>\n",
              "      <th>DPQ010</th>\n",
              "      <th>DPQ020</th>\n",
              "      <th>DPQ030</th>\n",
              "      <th>DPQ040</th>\n",
              "      <th>DPQ050</th>\n",
              "      <th>DPQ060</th>\n",
              "      <th>DPQ070</th>\n",
              "      <th>DPQ080</th>\n",
              "      <th>DPQ090</th>\n",
              "      <th>RIAGENDR</th>\n",
              "      <th>RIDAGEYR</th>\n",
              "      <th>RIDRETH1</th>\n",
              "      <th>DMDEDUC</th>\n",
              "      <th>INDFMINC</th>\n",
              "      <th>phq9</th>\n",
              "      <th>phq_grp</th>\n",
              "    </tr>\n",
              "    <tr>\n",
              "      <th>SEQN</th>\n",
              "      <th></th>\n",
              "      <th></th>\n",
              "      <th></th>\n",
              "      <th></th>\n",
              "      <th></th>\n",
              "      <th></th>\n",
              "      <th></th>\n",
              "      <th></th>\n",
              "      <th></th>\n",
              "      <th></th>\n",
              "      <th></th>\n",
              "      <th></th>\n",
              "      <th></th>\n",
              "      <th></th>\n",
              "      <th></th>\n",
              "      <th></th>\n",
              "      <th></th>\n",
              "      <th></th>\n",
              "      <th></th>\n",
              "      <th></th>\n",
              "      <th></th>\n",
              "      <th></th>\n",
              "      <th></th>\n",
              "      <th></th>\n",
              "      <th></th>\n",
              "      <th></th>\n",
              "      <th></th>\n",
              "      <th></th>\n",
              "      <th></th>\n",
              "      <th></th>\n",
              "      <th></th>\n",
              "      <th></th>\n",
              "    </tr>\n",
              "  </thead>\n",
              "  <tbody>\n",
              "    <tr>\n",
              "      <th>31131</th>\n",
              "      <td>264.711316</td>\n",
              "      <td>2.0</td>\n",
              "      <td>3.115103</td>\n",
              "      <td>0.000000</td>\n",
              "      <td>5.000000</td>\n",
              "      <td>1.320674</td>\n",
              "      <td>0.000000</td>\n",
              "      <td>3.141062</td>\n",
              "      <td>4.071959</td>\n",
              "      <td>2.052399</td>\n",
              "      <td>0.684985</td>\n",
              "      <td>2.297100</td>\n",
              "      <td>9.512964</td>\n",
              "      <td>0.438428</td>\n",
              "      <td>3.919226</td>\n",
              "      <td>35.553899</td>\n",
              "      <td>0.0</td>\n",
              "      <td>0.0</td>\n",
              "      <td>0.0</td>\n",
              "      <td>0.0</td>\n",
              "      <td>0.0</td>\n",
              "      <td>0.0</td>\n",
              "      <td>0.0</td>\n",
              "      <td>0.0</td>\n",
              "      <td>0.0</td>\n",
              "      <td>2</td>\n",
              "      <td>44</td>\n",
              "      <td>4</td>\n",
              "      <td>4</td>\n",
              "      <td>11.0</td>\n",
              "      <td>0.0</td>\n",
              "      <td>0.0</td>\n",
              "    </tr>\n",
              "    <tr>\n",
              "      <th>31132</th>\n",
              "      <td>1353.348730</td>\n",
              "      <td>3.0</td>\n",
              "      <td>3.509081</td>\n",
              "      <td>0.000000</td>\n",
              "      <td>5.000000</td>\n",
              "      <td>5.000000</td>\n",
              "      <td>5.000000</td>\n",
              "      <td>4.448512</td>\n",
              "      <td>5.000000</td>\n",
              "      <td>0.000000</td>\n",
              "      <td>2.050769</td>\n",
              "      <td>7.369489</td>\n",
              "      <td>8.887880</td>\n",
              "      <td>8.186877</td>\n",
              "      <td>9.099088</td>\n",
              "      <td>63.551696</td>\n",
              "      <td>0.0</td>\n",
              "      <td>0.0</td>\n",
              "      <td>0.0</td>\n",
              "      <td>0.0</td>\n",
              "      <td>0.0</td>\n",
              "      <td>0.0</td>\n",
              "      <td>0.0</td>\n",
              "      <td>0.0</td>\n",
              "      <td>0.0</td>\n",
              "      <td>1</td>\n",
              "      <td>70</td>\n",
              "      <td>3</td>\n",
              "      <td>5</td>\n",
              "      <td>11.0</td>\n",
              "      <td>0.0</td>\n",
              "      <td>0.0</td>\n",
              "    </tr>\n",
              "    <tr>\n",
              "      <th>31134</th>\n",
              "      <td>1011.478060</td>\n",
              "      <td>3.0</td>\n",
              "      <td>2.845772</td>\n",
              "      <td>1.283933</td>\n",
              "      <td>2.629005</td>\n",
              "      <td>5.000000</td>\n",
              "      <td>2.217331</td>\n",
              "      <td>2.313900</td>\n",
              "      <td>5.000000</td>\n",
              "      <td>1.268648</td>\n",
              "      <td>2.958985</td>\n",
              "      <td>0.000000</td>\n",
              "      <td>5.627488</td>\n",
              "      <td>5.863078</td>\n",
              "      <td>5.878686</td>\n",
              "      <td>42.886826</td>\n",
              "      <td>0.0</td>\n",
              "      <td>0.0</td>\n",
              "      <td>0.0</td>\n",
              "      <td>0.0</td>\n",
              "      <td>0.0</td>\n",
              "      <td>0.0</td>\n",
              "      <td>0.0</td>\n",
              "      <td>0.0</td>\n",
              "      <td>0.0</td>\n",
              "      <td>1</td>\n",
              "      <td>73</td>\n",
              "      <td>3</td>\n",
              "      <td>3</td>\n",
              "      <td>12.0</td>\n",
              "      <td>0.0</td>\n",
              "      <td>0.0</td>\n",
              "    </tr>\n",
              "    <tr>\n",
              "      <th>31139</th>\n",
              "      <td>1729.145497</td>\n",
              "      <td>3.0</td>\n",
              "      <td>5.000000</td>\n",
              "      <td>0.000000</td>\n",
              "      <td>0.991614</td>\n",
              "      <td>0.056664</td>\n",
              "      <td>0.211544</td>\n",
              "      <td>0.000000</td>\n",
              "      <td>4.088849</td>\n",
              "      <td>4.221442</td>\n",
              "      <td>10.000000</td>\n",
              "      <td>2.845774</td>\n",
              "      <td>0.000000</td>\n",
              "      <td>10.000000</td>\n",
              "      <td>9.658507</td>\n",
              "      <td>47.074393</td>\n",
              "      <td>0.0</td>\n",
              "      <td>0.0</td>\n",
              "      <td>0.0</td>\n",
              "      <td>0.0</td>\n",
              "      <td>3.0</td>\n",
              "      <td>1.0</td>\n",
              "      <td>0.0</td>\n",
              "      <td>0.0</td>\n",
              "      <td>0.0</td>\n",
              "      <td>2</td>\n",
              "      <td>18</td>\n",
              "      <td>2</td>\n",
              "      <td>3</td>\n",
              "      <td>11.0</td>\n",
              "      <td>4.0</td>\n",
              "      <td>0.0</td>\n",
              "    </tr>\n",
              "    <tr>\n",
              "      <th>31149</th>\n",
              "      <td>41.570439</td>\n",
              "      <td>1.0</td>\n",
              "      <td>5.000000</td>\n",
              "      <td>0.000000</td>\n",
              "      <td>2.147766</td>\n",
              "      <td>4.295533</td>\n",
              "      <td>0.000000</td>\n",
              "      <td>4.361618</td>\n",
              "      <td>5.000000</td>\n",
              "      <td>0.000000</td>\n",
              "      <td>4.780404</td>\n",
              "      <td>0.000000</td>\n",
              "      <td>5.138144</td>\n",
              "      <td>5.601160</td>\n",
              "      <td>4.677064</td>\n",
              "      <td>41.001689</td>\n",
              "      <td>0.0</td>\n",
              "      <td>0.0</td>\n",
              "      <td>0.0</td>\n",
              "      <td>0.0</td>\n",
              "      <td>0.0</td>\n",
              "      <td>0.0</td>\n",
              "      <td>0.0</td>\n",
              "      <td>0.0</td>\n",
              "      <td>0.0</td>\n",
              "      <td>2</td>\n",
              "      <td>85</td>\n",
              "      <td>3</td>\n",
              "      <td>2</td>\n",
              "      <td>1.0</td>\n",
              "      <td>0.0</td>\n",
              "      <td>0.0</td>\n",
              "    </tr>\n",
              "  </tbody>\n",
              "</table>\n",
              "</div>"
            ],
            "text/plain": [
              "          PAG_MINW  ADHERENCE  HEI2015C1_TOTALVEG  ...  INDFMINC  phq9  phq_grp\n",
              "SEQN                                               ...                         \n",
              "31131   264.711316        2.0            3.115103  ...      11.0   0.0      0.0\n",
              "31132  1353.348730        3.0            3.509081  ...      11.0   0.0      0.0\n",
              "31134  1011.478060        3.0            2.845772  ...      12.0   0.0      0.0\n",
              "31139  1729.145497        3.0            5.000000  ...      11.0   4.0      0.0\n",
              "31149    41.570439        1.0            5.000000  ...       1.0   0.0      0.0\n",
              "\n",
              "[5 rows x 32 columns]"
            ]
          },
          "metadata": {},
          "execution_count": 80
        }
      ]
    },
    {
      "cell_type": "code",
      "metadata": {
        "colab": {
          "base_uri": "https://localhost:8080/"
        },
        "id": "D_g4CMTWyM5y",
        "outputId": "b881ff1c-75ce-421e-bb92-49128764866a"
      },
      "source": [
        "df_total.shape"
      ],
      "execution_count": null,
      "outputs": [
        {
          "output_type": "execute_result",
          "data": {
            "text/plain": [
              "(4549, 32)"
            ]
          },
          "metadata": {},
          "execution_count": 81
        }
      ]
    },
    {
      "cell_type": "code",
      "metadata": {
        "colab": {
          "base_uri": "https://localhost:8080/"
        },
        "id": "JxecXS_PyUyl",
        "outputId": "83021ee4-0e68-46ad-b644-fcbe9a0b1627"
      },
      "source": [
        "df_total.info()"
      ],
      "execution_count": null,
      "outputs": [
        {
          "output_type": "stream",
          "name": "stdout",
          "text": [
            "<class 'pandas.core.frame.DataFrame'>\n",
            "Int64Index: 4549 entries, 31131 to 41473\n",
            "Data columns (total 32 columns):\n",
            " #   Column                    Non-Null Count  Dtype  \n",
            "---  ------                    --------------  -----  \n",
            " 0   PAG_MINW                  4549 non-null   float64\n",
            " 1   ADHERENCE                 4549 non-null   float64\n",
            " 2   HEI2015C1_TOTALVEG        4549 non-null   float64\n",
            " 3   HEI2015C2_GREEN_AND_BEAN  4549 non-null   float64\n",
            " 4   HEI2015C3_TOTALFRUIT      4549 non-null   float64\n",
            " 5   HEI2015C4_WHOLEFRUIT      4549 non-null   float64\n",
            " 6   HEI2015C5_WHOLEGRAIN      4549 non-null   float64\n",
            " 7   HEI2015C6_TOTALDAIRY      4549 non-null   float64\n",
            " 8   HEI2015C7_TOTPROT         4549 non-null   float64\n",
            " 9   HEI2015C8_SEAPLANT_PROT   4549 non-null   float64\n",
            " 10  HEI2015C9_FATTYACID       4549 non-null   float64\n",
            " 11  HEI2015C10_SODIUM         4549 non-null   float64\n",
            " 12  HEI2015C11_REFINEDGRAIN   4549 non-null   float64\n",
            " 13  HEI2015C12_SFAT           4549 non-null   float64\n",
            " 14  HEI2015C13_ADDSUG         4549 non-null   float64\n",
            " 15  HEI2015_TOTAL_SCORE       4549 non-null   float64\n",
            " 16  DPQ010                    4549 non-null   float64\n",
            " 17  DPQ020                    4549 non-null   float64\n",
            " 18  DPQ030                    4549 non-null   float64\n",
            " 19  DPQ040                    4549 non-null   float64\n",
            " 20  DPQ050                    4549 non-null   float64\n",
            " 21  DPQ060                    4549 non-null   float64\n",
            " 22  DPQ070                    4549 non-null   float64\n",
            " 23  DPQ080                    4549 non-null   float64\n",
            " 24  DPQ090                    4549 non-null   float64\n",
            " 25  RIAGENDR                  4549 non-null   int64  \n",
            " 26  RIDAGEYR                  4549 non-null   int64  \n",
            " 27  RIDRETH1                  4549 non-null   int64  \n",
            " 28  DMDEDUC                   4549 non-null   int64  \n",
            " 29  INDFMINC                  4549 non-null   float64\n",
            " 30  phq9                      4549 non-null   float64\n",
            " 31  phq_grp                   4549 non-null   float64\n",
            "dtypes: float64(28), int64(4)\n",
            "memory usage: 1.1 MB\n"
          ]
        }
      ]
    },
    {
      "cell_type": "code",
      "metadata": {
        "colab": {
          "base_uri": "https://localhost:8080/",
          "height": 320
        },
        "id": "k7k_mxCAyWbb",
        "outputId": "80e0c399-61e6-4843-aa2f-20cbb0856093"
      },
      "source": [
        "df_total.describe()"
      ],
      "execution_count": null,
      "outputs": [
        {
          "output_type": "execute_result",
          "data": {
            "text/html": [
              "<div>\n",
              "<style scoped>\n",
              "    .dataframe tbody tr th:only-of-type {\n",
              "        vertical-align: middle;\n",
              "    }\n",
              "\n",
              "    .dataframe tbody tr th {\n",
              "        vertical-align: top;\n",
              "    }\n",
              "\n",
              "    .dataframe thead th {\n",
              "        text-align: right;\n",
              "    }\n",
              "</style>\n",
              "<table border=\"1\" class=\"dataframe\">\n",
              "  <thead>\n",
              "    <tr style=\"text-align: right;\">\n",
              "      <th></th>\n",
              "      <th>PAG_MINW</th>\n",
              "      <th>ADHERENCE</th>\n",
              "      <th>HEI2015C1_TOTALVEG</th>\n",
              "      <th>HEI2015C2_GREEN_AND_BEAN</th>\n",
              "      <th>HEI2015C3_TOTALFRUIT</th>\n",
              "      <th>HEI2015C4_WHOLEFRUIT</th>\n",
              "      <th>HEI2015C5_WHOLEGRAIN</th>\n",
              "      <th>HEI2015C6_TOTALDAIRY</th>\n",
              "      <th>HEI2015C7_TOTPROT</th>\n",
              "      <th>HEI2015C8_SEAPLANT_PROT</th>\n",
              "      <th>HEI2015C9_FATTYACID</th>\n",
              "      <th>HEI2015C10_SODIUM</th>\n",
              "      <th>HEI2015C11_REFINEDGRAIN</th>\n",
              "      <th>HEI2015C12_SFAT</th>\n",
              "      <th>HEI2015C13_ADDSUG</th>\n",
              "      <th>HEI2015_TOTAL_SCORE</th>\n",
              "      <th>DPQ010</th>\n",
              "      <th>DPQ020</th>\n",
              "      <th>DPQ030</th>\n",
              "      <th>DPQ040</th>\n",
              "      <th>DPQ050</th>\n",
              "      <th>DPQ060</th>\n",
              "      <th>DPQ070</th>\n",
              "      <th>DPQ080</th>\n",
              "      <th>DPQ090</th>\n",
              "      <th>RIAGENDR</th>\n",
              "      <th>RIDAGEYR</th>\n",
              "      <th>RIDRETH1</th>\n",
              "      <th>DMDEDUC</th>\n",
              "      <th>INDFMINC</th>\n",
              "      <th>phq9</th>\n",
              "      <th>phq_grp</th>\n",
              "    </tr>\n",
              "  </thead>\n",
              "  <tbody>\n",
              "    <tr>\n",
              "      <th>count</th>\n",
              "      <td>4549.000000</td>\n",
              "      <td>4549.000000</td>\n",
              "      <td>4549.000000</td>\n",
              "      <td>4549.000000</td>\n",
              "      <td>4549.000000</td>\n",
              "      <td>4549.000000</td>\n",
              "      <td>4549.000000</td>\n",
              "      <td>4549.000000</td>\n",
              "      <td>4549.000000</td>\n",
              "      <td>4549.000000</td>\n",
              "      <td>4549.000000</td>\n",
              "      <td>4549.000000</td>\n",
              "      <td>4549.000000</td>\n",
              "      <td>4549.000000</td>\n",
              "      <td>4549.000000</td>\n",
              "      <td>4549.000000</td>\n",
              "      <td>4549.000000</td>\n",
              "      <td>4549.000000</td>\n",
              "      <td>4549.000000</td>\n",
              "      <td>4549.000000</td>\n",
              "      <td>4549.000000</td>\n",
              "      <td>4549.000000</td>\n",
              "      <td>4549.000000</td>\n",
              "      <td>4549.000000</td>\n",
              "      <td>4549.000000</td>\n",
              "      <td>4549.000000</td>\n",
              "      <td>4549.000000</td>\n",
              "      <td>4549.000000</td>\n",
              "      <td>4549.000000</td>\n",
              "      <td>4549.000000</td>\n",
              "      <td>4549.000000</td>\n",
              "      <td>4549.00000</td>\n",
              "    </tr>\n",
              "    <tr>\n",
              "      <th>mean</th>\n",
              "      <td>405.849654</td>\n",
              "      <td>1.985052</td>\n",
              "      <td>3.227358</td>\n",
              "      <td>1.827698</td>\n",
              "      <td>2.501962</td>\n",
              "      <td>2.389789</td>\n",
              "      <td>1.774255</td>\n",
              "      <td>3.765000</td>\n",
              "      <td>4.510538</td>\n",
              "      <td>2.641994</td>\n",
              "      <td>4.735811</td>\n",
              "      <td>4.726003</td>\n",
              "      <td>5.843128</td>\n",
              "      <td>6.013120</td>\n",
              "      <td>6.256679</td>\n",
              "      <td>50.213335</td>\n",
              "      <td>0.286656</td>\n",
              "      <td>0.299406</td>\n",
              "      <td>0.528468</td>\n",
              "      <td>0.701033</td>\n",
              "      <td>0.305122</td>\n",
              "      <td>0.198945</td>\n",
              "      <td>0.219389</td>\n",
              "      <td>0.131018</td>\n",
              "      <td>0.045505</td>\n",
              "      <td>1.517696</td>\n",
              "      <td>45.233458</td>\n",
              "      <td>2.852715</td>\n",
              "      <td>3.265773</td>\n",
              "      <td>6.962189</td>\n",
              "      <td>2.715542</td>\n",
              "      <td>0.29523</td>\n",
              "    </tr>\n",
              "    <tr>\n",
              "      <th>std</th>\n",
              "      <td>520.897124</td>\n",
              "      <td>0.916115</td>\n",
              "      <td>1.452498</td>\n",
              "      <td>2.141255</td>\n",
              "      <td>1.946619</td>\n",
              "      <td>2.169855</td>\n",
              "      <td>1.911489</td>\n",
              "      <td>1.593370</td>\n",
              "      <td>0.863922</td>\n",
              "      <td>2.163658</td>\n",
              "      <td>3.229177</td>\n",
              "      <td>3.408375</td>\n",
              "      <td>3.476399</td>\n",
              "      <td>3.180399</td>\n",
              "      <td>3.308737</td>\n",
              "      <td>12.267288</td>\n",
              "      <td>0.654831</td>\n",
              "      <td>0.647403</td>\n",
              "      <td>0.864318</td>\n",
              "      <td>0.866077</td>\n",
              "      <td>0.688595</td>\n",
              "      <td>0.551833</td>\n",
              "      <td>0.584363</td>\n",
              "      <td>0.450719</td>\n",
              "      <td>0.265910</td>\n",
              "      <td>0.499742</td>\n",
              "      <td>19.753851</td>\n",
              "      <td>1.119245</td>\n",
              "      <td>1.248542</td>\n",
              "      <td>3.117301</td>\n",
              "      <td>3.712571</td>\n",
              "      <td>0.67146</td>\n",
              "    </tr>\n",
              "    <tr>\n",
              "      <th>min</th>\n",
              "      <td>0.000000</td>\n",
              "      <td>1.000000</td>\n",
              "      <td>0.000000</td>\n",
              "      <td>0.000000</td>\n",
              "      <td>0.000000</td>\n",
              "      <td>0.000000</td>\n",
              "      <td>0.000000</td>\n",
              "      <td>0.000000</td>\n",
              "      <td>1.405498</td>\n",
              "      <td>0.000000</td>\n",
              "      <td>0.000000</td>\n",
              "      <td>0.000000</td>\n",
              "      <td>0.000000</td>\n",
              "      <td>0.000000</td>\n",
              "      <td>0.000000</td>\n",
              "      <td>16.059212</td>\n",
              "      <td>0.000000</td>\n",
              "      <td>0.000000</td>\n",
              "      <td>0.000000</td>\n",
              "      <td>0.000000</td>\n",
              "      <td>0.000000</td>\n",
              "      <td>0.000000</td>\n",
              "      <td>0.000000</td>\n",
              "      <td>0.000000</td>\n",
              "      <td>0.000000</td>\n",
              "      <td>1.000000</td>\n",
              "      <td>18.000000</td>\n",
              "      <td>1.000000</td>\n",
              "      <td>1.000000</td>\n",
              "      <td>1.000000</td>\n",
              "      <td>0.000000</td>\n",
              "      <td>0.00000</td>\n",
              "    </tr>\n",
              "    <tr>\n",
              "      <th>25%</th>\n",
              "      <td>41.570439</td>\n",
              "      <td>1.000000</td>\n",
              "      <td>2.092775</td>\n",
              "      <td>0.000000</td>\n",
              "      <td>0.460248</td>\n",
              "      <td>0.000000</td>\n",
              "      <td>0.000000</td>\n",
              "      <td>2.604662</td>\n",
              "      <td>4.307110</td>\n",
              "      <td>0.038571</td>\n",
              "      <td>2.048680</td>\n",
              "      <td>1.555812</td>\n",
              "      <td>3.001105</td>\n",
              "      <td>3.648229</td>\n",
              "      <td>3.802742</td>\n",
              "      <td>41.295334</td>\n",
              "      <td>0.000000</td>\n",
              "      <td>0.000000</td>\n",
              "      <td>0.000000</td>\n",
              "      <td>0.000000</td>\n",
              "      <td>0.000000</td>\n",
              "      <td>0.000000</td>\n",
              "      <td>0.000000</td>\n",
              "      <td>0.000000</td>\n",
              "      <td>0.000000</td>\n",
              "      <td>1.000000</td>\n",
              "      <td>28.000000</td>\n",
              "      <td>3.000000</td>\n",
              "      <td>2.000000</td>\n",
              "      <td>4.000000</td>\n",
              "      <td>0.000000</td>\n",
              "      <td>0.00000</td>\n",
              "    </tr>\n",
              "    <tr>\n",
              "      <th>50%</th>\n",
              "      <td>210.623557</td>\n",
              "      <td>2.000000</td>\n",
              "      <td>3.250298</td>\n",
              "      <td>0.184366</td>\n",
              "      <td>2.344290</td>\n",
              "      <td>2.159197</td>\n",
              "      <td>1.044826</td>\n",
              "      <td>4.930169</td>\n",
              "      <td>5.000000</td>\n",
              "      <td>2.731111</td>\n",
              "      <td>4.477321</td>\n",
              "      <td>4.806310</td>\n",
              "      <td>6.288191</td>\n",
              "      <td>6.320083</td>\n",
              "      <td>6.915702</td>\n",
              "      <td>49.762912</td>\n",
              "      <td>0.000000</td>\n",
              "      <td>0.000000</td>\n",
              "      <td>0.000000</td>\n",
              "      <td>0.000000</td>\n",
              "      <td>0.000000</td>\n",
              "      <td>0.000000</td>\n",
              "      <td>0.000000</td>\n",
              "      <td>0.000000</td>\n",
              "      <td>0.000000</td>\n",
              "      <td>2.000000</td>\n",
              "      <td>43.000000</td>\n",
              "      <td>3.000000</td>\n",
              "      <td>3.000000</td>\n",
              "      <td>7.000000</td>\n",
              "      <td>1.000000</td>\n",
              "      <td>0.00000</td>\n",
              "    </tr>\n",
              "    <tr>\n",
              "      <th>75%</th>\n",
              "      <td>554.272517</td>\n",
              "      <td>3.000000</td>\n",
              "      <td>4.833805</td>\n",
              "      <td>4.535865</td>\n",
              "      <td>4.940075</td>\n",
              "      <td>5.000000</td>\n",
              "      <td>3.428571</td>\n",
              "      <td>5.000000</td>\n",
              "      <td>5.000000</td>\n",
              "      <td>5.000000</td>\n",
              "      <td>7.289743</td>\n",
              "      <td>7.596956</td>\n",
              "      <td>9.279208</td>\n",
              "      <td>8.913873</td>\n",
              "      <td>9.461225</td>\n",
              "      <td>58.349553</td>\n",
              "      <td>0.000000</td>\n",
              "      <td>0.000000</td>\n",
              "      <td>1.000000</td>\n",
              "      <td>1.000000</td>\n",
              "      <td>0.000000</td>\n",
              "      <td>0.000000</td>\n",
              "      <td>0.000000</td>\n",
              "      <td>0.000000</td>\n",
              "      <td>0.000000</td>\n",
              "      <td>2.000000</td>\n",
              "      <td>61.000000</td>\n",
              "      <td>4.000000</td>\n",
              "      <td>4.000000</td>\n",
              "      <td>10.000000</td>\n",
              "      <td>4.000000</td>\n",
              "      <td>0.00000</td>\n",
              "    </tr>\n",
              "    <tr>\n",
              "      <th>max</th>\n",
              "      <td>2965.357968</td>\n",
              "      <td>3.000000</td>\n",
              "      <td>5.000000</td>\n",
              "      <td>5.000000</td>\n",
              "      <td>5.000000</td>\n",
              "      <td>5.000000</td>\n",
              "      <td>5.000000</td>\n",
              "      <td>5.000000</td>\n",
              "      <td>5.000000</td>\n",
              "      <td>5.000000</td>\n",
              "      <td>10.000000</td>\n",
              "      <td>10.000000</td>\n",
              "      <td>10.000000</td>\n",
              "      <td>10.000000</td>\n",
              "      <td>10.000000</td>\n",
              "      <td>89.529383</td>\n",
              "      <td>3.000000</td>\n",
              "      <td>3.000000</td>\n",
              "      <td>3.000000</td>\n",
              "      <td>3.000000</td>\n",
              "      <td>3.000000</td>\n",
              "      <td>3.000000</td>\n",
              "      <td>3.000000</td>\n",
              "      <td>3.000000</td>\n",
              "      <td>3.000000</td>\n",
              "      <td>2.000000</td>\n",
              "      <td>85.000000</td>\n",
              "      <td>5.000000</td>\n",
              "      <td>5.000000</td>\n",
              "      <td>13.000000</td>\n",
              "      <td>27.000000</td>\n",
              "      <td>4.00000</td>\n",
              "    </tr>\n",
              "  </tbody>\n",
              "</table>\n",
              "</div>"
            ],
            "text/plain": [
              "          PAG_MINW    ADHERENCE  ...         phq9     phq_grp\n",
              "count  4549.000000  4549.000000  ...  4549.000000  4549.00000\n",
              "mean    405.849654     1.985052  ...     2.715542     0.29523\n",
              "std     520.897124     0.916115  ...     3.712571     0.67146\n",
              "min       0.000000     1.000000  ...     0.000000     0.00000\n",
              "25%      41.570439     1.000000  ...     0.000000     0.00000\n",
              "50%     210.623557     2.000000  ...     1.000000     0.00000\n",
              "75%     554.272517     3.000000  ...     4.000000     0.00000\n",
              "max    2965.357968     3.000000  ...    27.000000     4.00000\n",
              "\n",
              "[8 rows x 32 columns]"
            ]
          },
          "metadata": {},
          "execution_count": 83
        }
      ]
    },
    {
      "cell_type": "markdown",
      "metadata": {
        "id": "3Y4AlnSsy00J"
      },
      "source": [
        "## phq9 vs variáveis demográficas"
      ]
    },
    {
      "cell_type": "code",
      "metadata": {
        "id": "KQDBaacoy6tC"
      },
      "source": [
        "var_demo = ['RIAGENDR', 'RIDAGEYR', 'RIDRETH1',\n",
        "            'DMDEDUC', 'INDFMINC']"
      ],
      "execution_count": null,
      "outputs": []
    },
    {
      "cell_type": "code",
      "metadata": {
        "id": "FXVz1BXXlRw4"
      },
      "source": [
        "df_demo = df_total[var_demo]"
      ],
      "execution_count": null,
      "outputs": []
    },
    {
      "cell_type": "code",
      "metadata": {
        "colab": {
          "base_uri": "https://localhost:8080/"
        },
        "id": "NwB5XshylWYc",
        "outputId": "a15ec02e-f047-4424-d802-54a27c4f8a8d"
      },
      "source": [
        "df_demo['phq_grp'] = df_total['phq_grp']"
      ],
      "execution_count": null,
      "outputs": [
        {
          "output_type": "stream",
          "name": "stderr",
          "text": [
            "/usr/local/lib/python3.7/dist-packages/ipykernel_launcher.py:1: SettingWithCopyWarning: \n",
            "A value is trying to be set on a copy of a slice from a DataFrame.\n",
            "Try using .loc[row_indexer,col_indexer] = value instead\n",
            "\n",
            "See the caveats in the documentation: https://pandas.pydata.org/pandas-docs/stable/user_guide/indexing.html#returning-a-view-versus-a-copy\n",
            "  \"\"\"Entry point for launching an IPython kernel.\n"
          ]
        }
      ]
    },
    {
      "cell_type": "code",
      "metadata": {
        "colab": {
          "base_uri": "https://localhost:8080/",
          "height": 455
        },
        "id": "m3QKDgOxlkfP",
        "outputId": "a783f35c-bdde-409e-dcab-fb6e91df3e07"
      },
      "source": [
        "df_demo"
      ],
      "execution_count": null,
      "outputs": [
        {
          "output_type": "execute_result",
          "data": {
            "text/html": [
              "<div>\n",
              "<style scoped>\n",
              "    .dataframe tbody tr th:only-of-type {\n",
              "        vertical-align: middle;\n",
              "    }\n",
              "\n",
              "    .dataframe tbody tr th {\n",
              "        vertical-align: top;\n",
              "    }\n",
              "\n",
              "    .dataframe thead th {\n",
              "        text-align: right;\n",
              "    }\n",
              "</style>\n",
              "<table border=\"1\" class=\"dataframe\">\n",
              "  <thead>\n",
              "    <tr style=\"text-align: right;\">\n",
              "      <th></th>\n",
              "      <th>RIAGENDR</th>\n",
              "      <th>RIDAGEYR</th>\n",
              "      <th>RIDRETH1</th>\n",
              "      <th>DMDEDUC</th>\n",
              "      <th>INDFMINC</th>\n",
              "      <th>phq_grp</th>\n",
              "    </tr>\n",
              "    <tr>\n",
              "      <th>SEQN</th>\n",
              "      <th></th>\n",
              "      <th></th>\n",
              "      <th></th>\n",
              "      <th></th>\n",
              "      <th></th>\n",
              "      <th></th>\n",
              "    </tr>\n",
              "  </thead>\n",
              "  <tbody>\n",
              "    <tr>\n",
              "      <th>31131</th>\n",
              "      <td>2</td>\n",
              "      <td>44</td>\n",
              "      <td>4</td>\n",
              "      <td>4</td>\n",
              "      <td>11.0</td>\n",
              "      <td>0.0</td>\n",
              "    </tr>\n",
              "    <tr>\n",
              "      <th>31132</th>\n",
              "      <td>1</td>\n",
              "      <td>70</td>\n",
              "      <td>3</td>\n",
              "      <td>5</td>\n",
              "      <td>11.0</td>\n",
              "      <td>0.0</td>\n",
              "    </tr>\n",
              "    <tr>\n",
              "      <th>31134</th>\n",
              "      <td>1</td>\n",
              "      <td>73</td>\n",
              "      <td>3</td>\n",
              "      <td>3</td>\n",
              "      <td>12.0</td>\n",
              "      <td>0.0</td>\n",
              "    </tr>\n",
              "    <tr>\n",
              "      <th>31139</th>\n",
              "      <td>2</td>\n",
              "      <td>18</td>\n",
              "      <td>2</td>\n",
              "      <td>3</td>\n",
              "      <td>11.0</td>\n",
              "      <td>0.0</td>\n",
              "    </tr>\n",
              "    <tr>\n",
              "      <th>31149</th>\n",
              "      <td>2</td>\n",
              "      <td>85</td>\n",
              "      <td>3</td>\n",
              "      <td>2</td>\n",
              "      <td>1.0</td>\n",
              "      <td>0.0</td>\n",
              "    </tr>\n",
              "    <tr>\n",
              "      <th>...</th>\n",
              "      <td>...</td>\n",
              "      <td>...</td>\n",
              "      <td>...</td>\n",
              "      <td>...</td>\n",
              "      <td>...</td>\n",
              "      <td>...</td>\n",
              "    </tr>\n",
              "    <tr>\n",
              "      <th>41466</th>\n",
              "      <td>2</td>\n",
              "      <td>58</td>\n",
              "      <td>5</td>\n",
              "      <td>2</td>\n",
              "      <td>3.0</td>\n",
              "      <td>0.0</td>\n",
              "    </tr>\n",
              "    <tr>\n",
              "      <th>41468</th>\n",
              "      <td>2</td>\n",
              "      <td>66</td>\n",
              "      <td>1</td>\n",
              "      <td>1</td>\n",
              "      <td>8.0</td>\n",
              "      <td>2.0</td>\n",
              "    </tr>\n",
              "    <tr>\n",
              "      <th>41469</th>\n",
              "      <td>1</td>\n",
              "      <td>19</td>\n",
              "      <td>4</td>\n",
              "      <td>4</td>\n",
              "      <td>2.0</td>\n",
              "      <td>0.0</td>\n",
              "    </tr>\n",
              "    <tr>\n",
              "      <th>41472</th>\n",
              "      <td>1</td>\n",
              "      <td>34</td>\n",
              "      <td>3</td>\n",
              "      <td>4</td>\n",
              "      <td>7.0</td>\n",
              "      <td>0.0</td>\n",
              "    </tr>\n",
              "    <tr>\n",
              "      <th>41473</th>\n",
              "      <td>1</td>\n",
              "      <td>21</td>\n",
              "      <td>1</td>\n",
              "      <td>2</td>\n",
              "      <td>6.0</td>\n",
              "      <td>0.0</td>\n",
              "    </tr>\n",
              "  </tbody>\n",
              "</table>\n",
              "<p>4549 rows × 6 columns</p>\n",
              "</div>"
            ],
            "text/plain": [
              "       RIAGENDR  RIDAGEYR  RIDRETH1  DMDEDUC  INDFMINC  phq_grp\n",
              "SEQN                                                           \n",
              "31131         2        44         4        4      11.0      0.0\n",
              "31132         1        70         3        5      11.0      0.0\n",
              "31134         1        73         3        3      12.0      0.0\n",
              "31139         2        18         2        3      11.0      0.0\n",
              "31149         2        85         3        2       1.0      0.0\n",
              "...         ...       ...       ...      ...       ...      ...\n",
              "41466         2        58         5        2       3.0      0.0\n",
              "41468         2        66         1        1       8.0      2.0\n",
              "41469         1        19         4        4       2.0      0.0\n",
              "41472         1        34         3        4       7.0      0.0\n",
              "41473         1        21         1        2       6.0      0.0\n",
              "\n",
              "[4549 rows x 6 columns]"
            ]
          },
          "metadata": {},
          "execution_count": 100
        }
      ]
    },
    {
      "cell_type": "code",
      "metadata": {
        "colab": {
          "base_uri": "https://localhost:8080/",
          "height": 329
        },
        "id": "6ViXnr-4gjsk",
        "outputId": "868566b4-1acb-4c15-8a6d-d0d7f15e00ab"
      },
      "source": [
        "sns.heatmap(df_demo.corr(),\n",
        "            annot = True)"
      ],
      "execution_count": null,
      "outputs": [
        {
          "output_type": "execute_result",
          "data": {
            "text/plain": [
              "<matplotlib.axes._subplots.AxesSubplot at 0x7fd9f7055550>"
            ]
          },
          "metadata": {},
          "execution_count": 103
        },
        {
          "output_type": "display_data",
          "data": {
            "image/png": "[encoded data removed]",
            "text/plain": [
              "<Figure size 432x288 with 2 Axes>"
            ]
          },
          "metadata": {
            "needs_background": "light"
          }
        }
      ]
    },
    {
      "cell_type": "markdown",
      "metadata": {
        "id": "kXP7M-MGmVVU"
      },
      "source": [
        "A feature que parece ter maior correlação com sintomas de depressão é a de renda familiar anual (INDFMINC)"
      ]
    },
    {
      "cell_type": "markdown",
      "metadata": {
        "id": "d6jQNLL2mxSu"
      },
      "source": [
        "Vamos ver como se comporta um gráfico de distribuição das rendas, separados por cada grrupo de sintomas de depressão"
      ]
    },
    {
      "cell_type": "code",
      "metadata": {
        "colab": {
          "base_uri": "https://localhost:8080/",
          "height": 351
        },
        "id": "whbCLKPUtLyP",
        "outputId": "e5c5a44b-5024-4658-c7b3-78a9f2fdc60b"
      },
      "source": [
        "sns.countplot(df_demo[df_demo.phq_grp.isin([2, 3, 4])]['RIAGENDR'],\n",
        "              hue = df_demo[df_demo.phq_grp.isin([2, 3, 4])]['phq_grp'])"
      ],
      "execution_count": null,
      "outputs": [
        {
          "output_type": "stream",
          "name": "stderr",
          "text": [
            "/usr/local/lib/python3.7/dist-packages/seaborn/_decorators.py:43: FutureWarning: Pass the following variable as a keyword arg: x. From version 0.12, the only valid positional argument will be `data`, and passing other arguments without an explicit keyword will result in an error or misinterpretation.\n",
            "  FutureWarning\n"
          ]
        },
        {
          "output_type": "execute_result",
          "data": {
            "text/plain": [
              "<matplotlib.axes._subplots.AxesSubplot at 0x7fd9f688e8d0>"
            ]
          },
          "metadata": {},
          "execution_count": 122
        },
        {
          "output_type": "display_data",
          "data": {
            "image/png": "[encoded data removed]",
            "text/plain": [
              "<Figure size 432x288 with 1 Axes>"
            ]
          },
          "metadata": {
            "needs_background": "light"
          }
        }
      ]
    },
    {
      "cell_type": "code",
      "metadata": {
        "colab": {
          "base_uri": "https://localhost:8080/",
          "height": 297
        },
        "id": "6F7Kv4yeuYdR",
        "outputId": "eddde4ee-5ef0-426a-bb01-4fef2b701037"
      },
      "source": [
        "sns.boxplot(x = 'phq_grp',\n",
        "            y = 'RIDAGEYR',\n",
        "            data = df_demo[df_demo.phq_grp.isin([2, 3, 4])])"
      ],
      "execution_count": null,
      "outputs": [
        {
          "output_type": "execute_result",
          "data": {
            "text/plain": [
              "<matplotlib.axes._subplots.AxesSubplot at 0x7fd9f7976e90>"
            ]
          },
          "metadata": {},
          "execution_count": 124
        },
        {
          "output_type": "display_data",
          "data": {
            "image/png": "[encoded data removed]",
            "text/plain": [
              "<Figure size 432x288 with 1 Axes>"
            ]
          },
          "metadata": {
            "needs_background": "light"
          }
        }
      ]
    },
    {
      "cell_type": "code",
      "metadata": {
        "colab": {
          "base_uri": "https://localhost:8080/",
          "height": 351
        },
        "id": "YqNJ1ueWu9gs",
        "outputId": "98a2569b-8616-4f91-c0f8-2b6ab5849c82"
      },
      "source": [
        "sns.countplot(df_demo[df_demo.phq_grp.isin([2, 3, 4])]['RIDRETH1'],\n",
        "              hue = df_demo[df_demo.phq_grp.isin([2, 3, 4])]['phq_grp'])"
      ],
      "execution_count": null,
      "outputs": [
        {
          "output_type": "stream",
          "name": "stderr",
          "text": [
            "/usr/local/lib/python3.7/dist-packages/seaborn/_decorators.py:43: FutureWarning: Pass the following variable as a keyword arg: x. From version 0.12, the only valid positional argument will be `data`, and passing other arguments without an explicit keyword will result in an error or misinterpretation.\n",
            "  FutureWarning\n"
          ]
        },
        {
          "output_type": "execute_result",
          "data": {
            "text/plain": [
              "<matplotlib.axes._subplots.AxesSubplot at 0x7fd9fd39a710>"
            ]
          },
          "metadata": {},
          "execution_count": 125
        },
        {
          "output_type": "display_data",
          "data": {
            "image/png": "[encoded data removed]",
            "text/plain": [
              "<Figure size 432x288 with 1 Axes>"
            ]
          },
          "metadata": {
            "needs_background": "light"
          }
        }
      ]
    },
    {
      "cell_type": "code",
      "metadata": {
        "colab": {
          "base_uri": "https://localhost:8080/",
          "height": 351
        },
        "id": "TIbjOKZovP9T",
        "outputId": "2b69cafc-b3c3-4b10-d57c-88ade4058704"
      },
      "source": [
        "sns.countplot(df_demo[df_demo.phq_grp.isin([2, 3, 4])]['DMDEDUC'],\n",
        "              hue = df_demo[df_demo.phq_grp.isin([2, 3, 4])]['phq_grp'])"
      ],
      "execution_count": null,
      "outputs": [
        {
          "output_type": "stream",
          "name": "stderr",
          "text": [
            "/usr/local/lib/python3.7/dist-packages/seaborn/_decorators.py:43: FutureWarning: Pass the following variable as a keyword arg: x. From version 0.12, the only valid positional argument will be `data`, and passing other arguments without an explicit keyword will result in an error or misinterpretation.\n",
            "  FutureWarning\n"
          ]
        },
        {
          "output_type": "execute_result",
          "data": {
            "text/plain": [
              "<matplotlib.axes._subplots.AxesSubplot at 0x7fd9f69c9610>"
            ]
          },
          "metadata": {},
          "execution_count": 126
        },
        {
          "output_type": "display_data",
          "data": {
            "image/png": "[encoded data removed]",
            "text/plain": [
              "<Figure size 432x288 with 1 Axes>"
            ]
          },
          "metadata": {
            "needs_background": "light"
          }
        }
      ]
    },
    {
      "cell_type": "code",
      "metadata": {
        "colab": {
          "base_uri": "https://localhost:8080/",
          "height": 297
        },
        "id": "_vt8d8gPvjgg",
        "outputId": "8123f46d-e340-4e49-8059-6a4fd68034bb"
      },
      "source": [
        "sns.boxplot(x = 'phq_grp',\n",
        "            y = 'INDFMINC',\n",
        "            data = df_demo[df_demo.phq_grp.isin([2, 3, 4])])"
      ],
      "execution_count": null,
      "outputs": [
        {
          "output_type": "execute_result",
          "data": {
            "text/plain": [
              "<matplotlib.axes._subplots.AxesSubplot at 0x7fd9f6a1ce90>"
            ]
          },
          "metadata": {},
          "execution_count": 127
        },
        {
          "output_type": "display_data",
          "data": {
            "image/png": "[encoded data removed]",
            "text/plain": [
              "<Figure size 432x288 with 1 Axes>"
            ]
          },
          "metadata": {
            "needs_background": "light"
          }
        }
      ]
    },
    {
      "cell_type": "markdown",
      "metadata": {
        "id": "h0-T0VKQu9PR"
      },
      "source": [
        "O perfil daqueles que apresentam sintomas mais graves de depressão é\n",
        "\n",
        "Renda familiar menor: de 10000 a 25000 dolares anuais\n",
        "\n",
        "Escolaridade de ensino médio e superior incompleto\n",
        "\n",
        "Gênero feminino"
      ]
    },
    {
      "cell_type": "markdown",
      "metadata": {
        "id": "2jbQ8tgbtLXo"
      },
      "source": [
        "## Análise Bivariada de hábitos saudáveis"
      ]
    },
    {
      "cell_type": "code",
      "metadata": {
        "id": "KoCUfmC7zit0"
      },
      "source": [
        "df_demo_saud = df_total[var_demo]"
      ],
      "execution_count": null,
      "outputs": []
    },
    {
      "cell_type": "code",
      "metadata": {
        "colab": {
          "base_uri": "https://localhost:8080/"
        },
        "id": "ju-2TGcbw_ee",
        "outputId": "e94a62df-2dbb-4f58-e290-bff3a29a30fa"
      },
      "source": [
        "df_demo_saud['HEI2015_TOTAL_SCORE'] = df_total['HEI2015_TOTAL_SCORE']"
      ],
      "execution_count": null,
      "outputs": [
        {
          "output_type": "stream",
          "name": "stderr",
          "text": [
            "/usr/local/lib/python3.7/dist-packages/ipykernel_launcher.py:1: SettingWithCopyWarning: \n",
            "A value is trying to be set on a copy of a slice from a DataFrame.\n",
            "Try using .loc[row_indexer,col_indexer] = value instead\n",
            "\n",
            "See the caveats in the documentation: https://pandas.pydata.org/pandas-docs/stable/user_guide/indexing.html#returning-a-view-versus-a-copy\n",
            "  \"\"\"Entry point for launching an IPython kernel.\n"
          ]
        }
      ]
    },
    {
      "cell_type": "code",
      "metadata": {
        "colab": {
          "base_uri": "https://localhost:8080/",
          "height": 238
        },
        "id": "E9qbSfTMxNWh",
        "outputId": "6ff5e600-990c-47cb-dc94-5f70936127b5"
      },
      "source": [
        "df_demo_saud.head()"
      ],
      "execution_count": null,
      "outputs": [
        {
          "output_type": "execute_result",
          "data": {
            "text/html": [
              "<div>\n",
              "<style scoped>\n",
              "    .dataframe tbody tr th:only-of-type {\n",
              "        vertical-align: middle;\n",
              "    }\n",
              "\n",
              "    .dataframe tbody tr th {\n",
              "        vertical-align: top;\n",
              "    }\n",
              "\n",
              "    .dataframe thead th {\n",
              "        text-align: right;\n",
              "    }\n",
              "</style>\n",
              "<table border=\"1\" class=\"dataframe\">\n",
              "  <thead>\n",
              "    <tr style=\"text-align: right;\">\n",
              "      <th></th>\n",
              "      <th>RIAGENDR</th>\n",
              "      <th>RIDAGEYR</th>\n",
              "      <th>RIDRETH1</th>\n",
              "      <th>DMDEDUC</th>\n",
              "      <th>INDFMINC</th>\n",
              "      <th>HEI2015_TOTAL_SCORE</th>\n",
              "    </tr>\n",
              "    <tr>\n",
              "      <th>SEQN</th>\n",
              "      <th></th>\n",
              "      <th></th>\n",
              "      <th></th>\n",
              "      <th></th>\n",
              "      <th></th>\n",
              "      <th></th>\n",
              "    </tr>\n",
              "  </thead>\n",
              "  <tbody>\n",
              "    <tr>\n",
              "      <th>31131</th>\n",
              "      <td>2</td>\n",
              "      <td>44</td>\n",
              "      <td>4</td>\n",
              "      <td>4</td>\n",
              "      <td>11.0</td>\n",
              "      <td>35.553899</td>\n",
              "    </tr>\n",
              "    <tr>\n",
              "      <th>31132</th>\n",
              "      <td>1</td>\n",
              "      <td>70</td>\n",
              "      <td>3</td>\n",
              "      <td>5</td>\n",
              "      <td>11.0</td>\n",
              "      <td>63.551696</td>\n",
              "    </tr>\n",
              "    <tr>\n",
              "      <th>31134</th>\n",
              "      <td>1</td>\n",
              "      <td>73</td>\n",
              "      <td>3</td>\n",
              "      <td>3</td>\n",
              "      <td>12.0</td>\n",
              "      <td>42.886826</td>\n",
              "    </tr>\n",
              "    <tr>\n",
              "      <th>31139</th>\n",
              "      <td>2</td>\n",
              "      <td>18</td>\n",
              "      <td>2</td>\n",
              "      <td>3</td>\n",
              "      <td>11.0</td>\n",
              "      <td>47.074393</td>\n",
              "    </tr>\n",
              "    <tr>\n",
              "      <th>31149</th>\n",
              "      <td>2</td>\n",
              "      <td>85</td>\n",
              "      <td>3</td>\n",
              "      <td>2</td>\n",
              "      <td>1.0</td>\n",
              "      <td>41.001689</td>\n",
              "    </tr>\n",
              "  </tbody>\n",
              "</table>\n",
              "</div>"
            ],
            "text/plain": [
              "       RIAGENDR  RIDAGEYR  RIDRETH1  DMDEDUC  INDFMINC  HEI2015_TOTAL_SCORE\n",
              "SEQN                                                                       \n",
              "31131         2        44         4        4      11.0            35.553899\n",
              "31132         1        70         3        5      11.0            63.551696\n",
              "31134         1        73         3        3      12.0            42.886826\n",
              "31139         2        18         2        3      11.0            47.074393\n",
              "31149         2        85         3        2       1.0            41.001689"
            ]
          },
          "metadata": {},
          "execution_count": 133
        }
      ]
    },
    {
      "cell_type": "code",
      "metadata": {
        "colab": {
          "base_uri": "https://localhost:8080/",
          "height": 394
        },
        "id": "E7jmFiBvyWO7",
        "outputId": "f765f2bf-73f3-4ffa-f778-f636aa06e022"
      },
      "source": [
        "sns.heatmap(df_demo_saud.corr(),\n",
        "            annot = True)"
      ],
      "execution_count": null,
      "outputs": [
        {
          "output_type": "execute_result",
          "data": {
            "text/plain": [
              "<matplotlib.axes._subplots.AxesSubplot at 0x7fd9f64244d0>"
            ]
          },
          "metadata": {},
          "execution_count": 136
        },
        {
          "output_type": "display_data",
          "data": {
            "image/png": "[encoded data removed]",
            "text/plain": [
              "<Figure size 432x288 with 2 Axes>"
            ]
          },
          "metadata": {
            "needs_background": "light"
          }
        }
      ]
    },
    {
      "cell_type": "code",
      "metadata": {
        "colab": {
          "base_uri": "https://localhost:8080/",
          "height": 296
        },
        "id": "e16sq1yCxewo",
        "outputId": "586e95b3-babe-48ef-d6ff-d68234a2a949"
      },
      "source": [
        "sns.boxplot(x = 'RIAGENDR',\n",
        "            y = 'HEI2015_TOTAL_SCORE',\n",
        "            data = df_demo_saud)"
      ],
      "execution_count": null,
      "outputs": [
        {
          "output_type": "execute_result",
          "data": {
            "text/plain": [
              "<matplotlib.axes._subplots.AxesSubplot at 0x7fd9f64b9210>"
            ]
          },
          "metadata": {},
          "execution_count": 134
        },
        {
          "output_type": "display_data",
          "data": {
            "image/png": "[encoded data removed]",
            "text/plain": [
              "<Figure size 432x288 with 1 Axes>"
            ]
          },
          "metadata": {
            "needs_background": "light"
          }
        }
      ]
    },
    {
      "cell_type": "code",
      "metadata": {
        "colab": {
          "base_uri": "https://localhost:8080/",
          "height": 296
        },
        "id": "xwAg5jhex1jg",
        "outputId": "3a0dbfde-6d0a-480c-d91b-7040c19d9090"
      },
      "source": [
        "sns.scatterplot(x = 'RIDAGEYR',\n",
        "                y = 'HEI2015_TOTAL_SCORE',\n",
        "                data = df_demo_saud)"
      ],
      "execution_count": null,
      "outputs": [
        {
          "output_type": "execute_result",
          "data": {
            "text/plain": [
              "<matplotlib.axes._subplots.AxesSubplot at 0x7fd9f6437ad0>"
            ]
          },
          "metadata": {},
          "execution_count": 135
        },
        {
          "output_type": "display_data",
          "data": {
            "image/png": "[encoded data removed]",
            "text/plain": [
              "<Figure size 432x288 with 1 Axes>"
            ]
          },
          "metadata": {
            "needs_background": "light"
          }
        }
      ]
    },
    {
      "cell_type": "code",
      "metadata": {
        "colab": {
          "base_uri": "https://localhost:8080/",
          "height": 296
        },
        "id": "yNT7vDuRyPaM",
        "outputId": "49e3324a-d9ad-484e-ec94-acefa6d72f71"
      },
      "source": [
        "sns.boxplot(x = 'DMDEDUC',\n",
        "            y = 'HEI2015_TOTAL_SCORE',\n",
        "            data = df_demo_saud)"
      ],
      "execution_count": null,
      "outputs": [
        {
          "output_type": "execute_result",
          "data": {
            "text/plain": [
              "<matplotlib.axes._subplots.AxesSubplot at 0x7fd9f640d210>"
            ]
          },
          "metadata": {},
          "execution_count": 137
        },
        {
          "output_type": "display_data",
          "data": {
            "image/png": "[encoded data removed]",
            "text/plain": [
              "<Figure size 432x288 with 1 Axes>"
            ]
          },
          "metadata": {
            "needs_background": "light"
          }
        }
      ]
    },
    {
      "cell_type": "code",
      "metadata": {
        "colab": {
          "base_uri": "https://localhost:8080/",
          "height": 405
        },
        "id": "ItD4w3L4ylxl",
        "outputId": "dfe499e3-bf4e-4c84-e6aa-5decb67a5db9"
      },
      "source": [
        "plt.figure(figsize = (10, 6))\n",
        "sns.boxplot(x = 'INDFMINC',\n",
        "            y = 'HEI2015_TOTAL_SCORE',\n",
        "            data = df_demo_saud)"
      ],
      "execution_count": null,
      "outputs": [
        {
          "output_type": "execute_result",
          "data": {
            "text/plain": [
              "<matplotlib.axes._subplots.AxesSubplot at 0x7fd9f5f5f8d0>"
            ]
          },
          "metadata": {},
          "execution_count": 139
        },
        {
          "output_type": "display_data",
          "data": {
            "image/png": "[encoded data removed]",
            "text/plain": [
              "<Figure size 720x432 with 1 Axes>"
            ]
          },
          "metadata": {
            "needs_background": "light"
          }
        }
      ]
    },
    {
      "cell_type": "markdown",
      "metadata": {
        "id": "qqDYZzt6y75P"
      },
      "source": [
        "Há pouca correlação entre hábitos saudáveis e as features demográficas.\n",
        "\n",
        "Aparentemente, indicíduos com maiores rendas familiaress anuais, maiores níveis de educação e idades mais avançadas possuem hábitos relativamente mais saudáveis de nutrição."
      ]
    },
    {
      "cell_type": "code",
      "metadata": {
        "id": "uR8_HjSoyxh6"
      },
      "source": [
        "vars_scores = ['ADHERENCE', 'HEI2015_TOTAL_SCORE', 'phq_grp']"
      ],
      "execution_count": null,
      "outputs": []
    },
    {
      "cell_type": "code",
      "metadata": {
        "id": "PJfCjM6Az4QL"
      },
      "source": [
        "df_scores = df_total[vars_scores]"
      ],
      "execution_count": null,
      "outputs": []
    },
    {
      "cell_type": "code",
      "metadata": {
        "colab": {
          "base_uri": "https://localhost:8080/",
          "height": 455
        },
        "id": "YryOVGroz_vt",
        "outputId": "910c0f99-aa17-423e-d291-91e337459679"
      },
      "source": [
        "df_scores"
      ],
      "execution_count": null,
      "outputs": [
        {
          "output_type": "execute_result",
          "data": {
            "text/html": [
              "<div>\n",
              "<style scoped>\n",
              "    .dataframe tbody tr th:only-of-type {\n",
              "        vertical-align: middle;\n",
              "    }\n",
              "\n",
              "    .dataframe tbody tr th {\n",
              "        vertical-align: top;\n",
              "    }\n",
              "\n",
              "    .dataframe thead th {\n",
              "        text-align: right;\n",
              "    }\n",
              "</style>\n",
              "<table border=\"1\" class=\"dataframe\">\n",
              "  <thead>\n",
              "    <tr style=\"text-align: right;\">\n",
              "      <th></th>\n",
              "      <th>ADHERENCE</th>\n",
              "      <th>HEI2015_TOTAL_SCORE</th>\n",
              "      <th>phq_grp</th>\n",
              "    </tr>\n",
              "    <tr>\n",
              "      <th>SEQN</th>\n",
              "      <th></th>\n",
              "      <th></th>\n",
              "      <th></th>\n",
              "    </tr>\n",
              "  </thead>\n",
              "  <tbody>\n",
              "    <tr>\n",
              "      <th>31131</th>\n",
              "      <td>2.0</td>\n",
              "      <td>35.553899</td>\n",
              "      <td>0.0</td>\n",
              "    </tr>\n",
              "    <tr>\n",
              "      <th>31132</th>\n",
              "      <td>3.0</td>\n",
              "      <td>63.551696</td>\n",
              "      <td>0.0</td>\n",
              "    </tr>\n",
              "    <tr>\n",
              "      <th>31134</th>\n",
              "      <td>3.0</td>\n",
              "      <td>42.886826</td>\n",
              "      <td>0.0</td>\n",
              "    </tr>\n",
              "    <tr>\n",
              "      <th>31139</th>\n",
              "      <td>3.0</td>\n",
              "      <td>47.074393</td>\n",
              "      <td>0.0</td>\n",
              "    </tr>\n",
              "    <tr>\n",
              "      <th>31149</th>\n",
              "      <td>1.0</td>\n",
              "      <td>41.001689</td>\n",
              "      <td>0.0</td>\n",
              "    </tr>\n",
              "    <tr>\n",
              "      <th>...</th>\n",
              "      <td>...</td>\n",
              "      <td>...</td>\n",
              "      <td>...</td>\n",
              "    </tr>\n",
              "    <tr>\n",
              "      <th>41466</th>\n",
              "      <td>1.0</td>\n",
              "      <td>59.949915</td>\n",
              "      <td>0.0</td>\n",
              "    </tr>\n",
              "    <tr>\n",
              "      <th>41468</th>\n",
              "      <td>2.0</td>\n",
              "      <td>57.747869</td>\n",
              "      <td>2.0</td>\n",
              "    </tr>\n",
              "    <tr>\n",
              "      <th>41469</th>\n",
              "      <td>2.0</td>\n",
              "      <td>42.993323</td>\n",
              "      <td>0.0</td>\n",
              "    </tr>\n",
              "    <tr>\n",
              "      <th>41472</th>\n",
              "      <td>1.0</td>\n",
              "      <td>46.134467</td>\n",
              "      <td>0.0</td>\n",
              "    </tr>\n",
              "    <tr>\n",
              "      <th>41473</th>\n",
              "      <td>3.0</td>\n",
              "      <td>45.793478</td>\n",
              "      <td>0.0</td>\n",
              "    </tr>\n",
              "  </tbody>\n",
              "</table>\n",
              "<p>4549 rows × 3 columns</p>\n",
              "</div>"
            ],
            "text/plain": [
              "       ADHERENCE  HEI2015_TOTAL_SCORE  phq_grp\n",
              "SEQN                                          \n",
              "31131        2.0            35.553899      0.0\n",
              "31132        3.0            63.551696      0.0\n",
              "31134        3.0            42.886826      0.0\n",
              "31139        3.0            47.074393      0.0\n",
              "31149        1.0            41.001689      0.0\n",
              "...          ...                  ...      ...\n",
              "41466        1.0            59.949915      0.0\n",
              "41468        2.0            57.747869      2.0\n",
              "41469        2.0            42.993323      0.0\n",
              "41472        1.0            46.134467      0.0\n",
              "41473        3.0            45.793478      0.0\n",
              "\n",
              "[4549 rows x 3 columns]"
            ]
          },
          "metadata": {},
          "execution_count": 142
        }
      ]
    },
    {
      "cell_type": "code",
      "metadata": {
        "colab": {
          "base_uri": "https://localhost:8080/",
          "height": 394
        },
        "id": "kpp4Uhbu0AwT",
        "outputId": "4bb471c2-8884-40f6-9a41-8493b575645c"
      },
      "source": [
        "sns.heatmap(df_scores.corr(),\n",
        "            annot = True)"
      ],
      "execution_count": null,
      "outputs": [
        {
          "output_type": "execute_result",
          "data": {
            "text/plain": [
              "<matplotlib.axes._subplots.AxesSubplot at 0x7fd9f69aab10>"
            ]
          },
          "metadata": {},
          "execution_count": 143
        },
        {
          "output_type": "display_data",
          "data": {
            "image/png": "[encoded data removed]",
            "text/plain": [
              "<Figure size 432x288 with 2 Axes>"
            ]
          },
          "metadata": {
            "needs_background": "light"
          }
        }
      ]
    },
    {
      "cell_type": "code",
      "metadata": {
        "colab": {
          "base_uri": "https://localhost:8080/",
          "height": 297
        },
        "id": "uZCX10mq0IOV",
        "outputId": "484a535d-8867-44a8-b0b1-249e0cc0a237"
      },
      "source": [
        "sns.boxplot(x = 'phq_grp',\n",
        "            y = 'HEI2015_TOTAL_SCORE',\n",
        "            data = df_scores)"
      ],
      "execution_count": null,
      "outputs": [
        {
          "output_type": "execute_result",
          "data": {
            "text/plain": [
              "<matplotlib.axes._subplots.AxesSubplot at 0x7fd9f69d9a50>"
            ]
          },
          "metadata": {},
          "execution_count": 144
        },
        {
          "output_type": "display_data",
          "data": {
            "image/png": "[encoded data removed]",
            "text/plain": [
              "<Figure size 432x288 with 1 Axes>"
            ]
          },
          "metadata": {
            "needs_background": "light"
          }
        }
      ]
    },
    {
      "cell_type": "code",
      "metadata": {
        "colab": {
          "base_uri": "https://localhost:8080/",
          "height": 352
        },
        "id": "kh10LH1x0bz9",
        "outputId": "e14da272-ce9e-4af0-9eaa-4480b25ebe83"
      },
      "source": [
        "sns.boxplot(df_scores[df_scores.phq_grp.isin([2,3,4])]['HEI2015_TOTAL_SCORE'])"
      ],
      "execution_count": null,
      "outputs": [
        {
          "output_type": "stream",
          "name": "stderr",
          "text": [
            "/usr/local/lib/python3.7/dist-packages/seaborn/_decorators.py:43: FutureWarning: Pass the following variable as a keyword arg: x. From version 0.12, the only valid positional argument will be `data`, and passing other arguments without an explicit keyword will result in an error or misinterpretation.\n",
            "  FutureWarning\n"
          ]
        },
        {
          "output_type": "execute_result",
          "data": {
            "text/plain": [
              "<matplotlib.axes._subplots.AxesSubplot at 0x7fd9f5bbe150>"
            ]
          },
          "metadata": {},
          "execution_count": 148
        },
        {
          "output_type": "display_data",
          "data": {
            "image/png": "[encoded data removed]",
            "text/plain": [
              "<Figure size 432x288 with 1 Axes>"
            ]
          },
          "metadata": {
            "needs_background": "light"
          }
        }
      ]
    },
    {
      "cell_type": "markdown",
      "metadata": {
        "id": "e7YoSv341QWF"
      },
      "source": [
        "Aparentemente, há uma tendência de pessoas com hábitos alimentares piores, apresentarem maiores sintomas de depressão"
      ]
    },
    {
      "cell_type": "code",
      "metadata": {
        "colab": {
          "base_uri": "https://localhost:8080/",
          "height": 351
        },
        "id": "yBImvs5c0rDp",
        "outputId": "12e3d1cc-fd47-430b-c4a0-8a2fbe0637a9"
      },
      "source": [
        "sns.countplot(df_scores['ADHERENCE'],\n",
        "              hue = df_scores[df_scores.isin([2,3,4])]['phq_grp'])"
      ],
      "execution_count": null,
      "outputs": [
        {
          "output_type": "stream",
          "name": "stderr",
          "text": [
            "/usr/local/lib/python3.7/dist-packages/seaborn/_decorators.py:43: FutureWarning: Pass the following variable as a keyword arg: x. From version 0.12, the only valid positional argument will be `data`, and passing other arguments without an explicit keyword will result in an error or misinterpretation.\n",
            "  FutureWarning\n"
          ]
        },
        {
          "output_type": "execute_result",
          "data": {
            "text/plain": [
              "<matplotlib.axes._subplots.AxesSubplot at 0x7fd9f6a54d90>"
            ]
          },
          "metadata": {},
          "execution_count": 152
        },
        {
          "output_type": "display_data",
          "data": {
            "image/png": "[encoded data removed]",
            "text/plain": [
              "<Figure size 432x288 with 1 Axes>"
            ]
          },
          "metadata": {
            "needs_background": "light"
          }
        }
      ]
    },
    {
      "cell_type": "markdown",
      "metadata": {
        "id": "7LZpxE8Y2nf6"
      },
      "source": [
        "Menores níveis de atividade física parecem estar relacionadas a maiores sintomas de depressão"
      ]
    },
    {
      "cell_type": "code",
      "metadata": {
        "colab": {
          "base_uri": "https://localhost:8080/",
          "height": 1000
        },
        "id": "aG82YXKa18oD",
        "outputId": "05fdc913-facb-4134-efec-3a228ea6d8f9"
      },
      "source": [
        "from scipy import stats\n",
        "\n",
        "X = df_total.drop('phq_grp', axis = 1)\n",
        "y = df_total.phq_grp\n",
        "\n",
        "pd.DataFrame(\n",
        "    [stats.pearsonr(X[col], y) for col in X.columns], \n",
        "    columns=[\"Corr. Pearson\", \"p-value\"], \n",
        "    index=X.columns,\n",
        ").round(4)"
      ],
      "execution_count": null,
      "outputs": [
        {
          "output_type": "execute_result",
          "data": {
            "text/html": [
              "<div>\n",
              "<style scoped>\n",
              "    .dataframe tbody tr th:only-of-type {\n",
              "        vertical-align: middle;\n",
              "    }\n",
              "\n",
              "    .dataframe tbody tr th {\n",
              "        vertical-align: top;\n",
              "    }\n",
              "\n",
              "    .dataframe thead th {\n",
              "        text-align: right;\n",
              "    }\n",
              "</style>\n",
              "<table border=\"1\" class=\"dataframe\">\n",
              "  <thead>\n",
              "    <tr style=\"text-align: right;\">\n",
              "      <th></th>\n",
              "      <th>Corr. Pearson</th>\n",
              "      <th>p-value</th>\n",
              "    </tr>\n",
              "  </thead>\n",
              "  <tbody>\n",
              "    <tr>\n",
              "      <th>PAG_MINW</th>\n",
              "      <td>-0.0898</td>\n",
              "      <td>0.0000</td>\n",
              "    </tr>\n",
              "    <tr>\n",
              "      <th>ADHERENCE</th>\n",
              "      <td>-0.1065</td>\n",
              "      <td>0.0000</td>\n",
              "    </tr>\n",
              "    <tr>\n",
              "      <th>HEI2015C1_TOTALVEG</th>\n",
              "      <td>-0.0337</td>\n",
              "      <td>0.0230</td>\n",
              "    </tr>\n",
              "    <tr>\n",
              "      <th>HEI2015C2_GREEN_AND_BEAN</th>\n",
              "      <td>-0.0227</td>\n",
              "      <td>0.1265</td>\n",
              "    </tr>\n",
              "    <tr>\n",
              "      <th>HEI2015C3_TOTALFRUIT</th>\n",
              "      <td>-0.0461</td>\n",
              "      <td>0.0019</td>\n",
              "    </tr>\n",
              "    <tr>\n",
              "      <th>HEI2015C4_WHOLEFRUIT</th>\n",
              "      <td>-0.0457</td>\n",
              "      <td>0.0020</td>\n",
              "    </tr>\n",
              "    <tr>\n",
              "      <th>HEI2015C5_WHOLEGRAIN</th>\n",
              "      <td>-0.0490</td>\n",
              "      <td>0.0010</td>\n",
              "    </tr>\n",
              "    <tr>\n",
              "      <th>HEI2015C6_TOTALDAIRY</th>\n",
              "      <td>-0.0220</td>\n",
              "      <td>0.1384</td>\n",
              "    </tr>\n",
              "    <tr>\n",
              "      <th>HEI2015C7_TOTPROT</th>\n",
              "      <td>-0.0363</td>\n",
              "      <td>0.0145</td>\n",
              "    </tr>\n",
              "    <tr>\n",
              "      <th>HEI2015C8_SEAPLANT_PROT</th>\n",
              "      <td>-0.0296</td>\n",
              "      <td>0.0459</td>\n",
              "    </tr>\n",
              "    <tr>\n",
              "      <th>HEI2015C9_FATTYACID</th>\n",
              "      <td>-0.0173</td>\n",
              "      <td>0.2434</td>\n",
              "    </tr>\n",
              "    <tr>\n",
              "      <th>HEI2015C10_SODIUM</th>\n",
              "      <td>0.0429</td>\n",
              "      <td>0.0038</td>\n",
              "    </tr>\n",
              "    <tr>\n",
              "      <th>HEI2015C11_REFINEDGRAIN</th>\n",
              "      <td>0.0094</td>\n",
              "      <td>0.5242</td>\n",
              "    </tr>\n",
              "    <tr>\n",
              "      <th>HEI2015C12_SFAT</th>\n",
              "      <td>-0.0111</td>\n",
              "      <td>0.4531</td>\n",
              "    </tr>\n",
              "    <tr>\n",
              "      <th>HEI2015C13_ADDSUG</th>\n",
              "      <td>-0.0691</td>\n",
              "      <td>0.0000</td>\n",
              "    </tr>\n",
              "    <tr>\n",
              "      <th>HEI2015_TOTAL_SCORE</th>\n",
              "      <td>-0.0531</td>\n",
              "      <td>0.0003</td>\n",
              "    </tr>\n",
              "    <tr>\n",
              "      <th>DPQ010</th>\n",
              "      <td>0.6591</td>\n",
              "      <td>0.0000</td>\n",
              "    </tr>\n",
              "    <tr>\n",
              "      <th>DPQ020</th>\n",
              "      <td>0.7106</td>\n",
              "      <td>0.0000</td>\n",
              "    </tr>\n",
              "    <tr>\n",
              "      <th>DPQ030</th>\n",
              "      <td>0.6123</td>\n",
              "      <td>0.0000</td>\n",
              "    </tr>\n",
              "    <tr>\n",
              "      <th>DPQ040</th>\n",
              "      <td>0.6104</td>\n",
              "      <td>0.0000</td>\n",
              "    </tr>\n",
              "    <tr>\n",
              "      <th>DPQ050</th>\n",
              "      <td>0.5983</td>\n",
              "      <td>0.0000</td>\n",
              "    </tr>\n",
              "    <tr>\n",
              "      <th>DPQ060</th>\n",
              "      <td>0.6865</td>\n",
              "      <td>0.0000</td>\n",
              "    </tr>\n",
              "    <tr>\n",
              "      <th>DPQ070</th>\n",
              "      <td>0.6267</td>\n",
              "      <td>0.0000</td>\n",
              "    </tr>\n",
              "    <tr>\n",
              "      <th>DPQ080</th>\n",
              "      <td>0.5268</td>\n",
              "      <td>0.0000</td>\n",
              "    </tr>\n",
              "    <tr>\n",
              "      <th>DPQ090</th>\n",
              "      <td>0.4838</td>\n",
              "      <td>0.0000</td>\n",
              "    </tr>\n",
              "    <tr>\n",
              "      <th>RIAGENDR</th>\n",
              "      <td>0.0778</td>\n",
              "      <td>0.0000</td>\n",
              "    </tr>\n",
              "    <tr>\n",
              "      <th>RIDAGEYR</th>\n",
              "      <td>-0.0262</td>\n",
              "      <td>0.0774</td>\n",
              "    </tr>\n",
              "    <tr>\n",
              "      <th>RIDRETH1</th>\n",
              "      <td>0.0064</td>\n",
              "      <td>0.6671</td>\n",
              "    </tr>\n",
              "    <tr>\n",
              "      <th>DMDEDUC</th>\n",
              "      <td>-0.0941</td>\n",
              "      <td>0.0000</td>\n",
              "    </tr>\n",
              "    <tr>\n",
              "      <th>INDFMINC</th>\n",
              "      <td>-0.1394</td>\n",
              "      <td>0.0000</td>\n",
              "    </tr>\n",
              "    <tr>\n",
              "      <th>phq9</th>\n",
              "      <td>0.9354</td>\n",
              "      <td>0.0000</td>\n",
              "    </tr>\n",
              "  </tbody>\n",
              "</table>\n",
              "</div>"
            ],
            "text/plain": [
              "                          Corr. Pearson  p-value\n",
              "PAG_MINW                        -0.0898   0.0000\n",
              "ADHERENCE                       -0.1065   0.0000\n",
              "HEI2015C1_TOTALVEG              -0.0337   0.0230\n",
              "HEI2015C2_GREEN_AND_BEAN        -0.0227   0.1265\n",
              "HEI2015C3_TOTALFRUIT            -0.0461   0.0019\n",
              "HEI2015C4_WHOLEFRUIT            -0.0457   0.0020\n",
              "HEI2015C5_WHOLEGRAIN            -0.0490   0.0010\n",
              "HEI2015C6_TOTALDAIRY            -0.0220   0.1384\n",
              "HEI2015C7_TOTPROT               -0.0363   0.0145\n",
              "HEI2015C8_SEAPLANT_PROT         -0.0296   0.0459\n",
              "HEI2015C9_FATTYACID             -0.0173   0.2434\n",
              "HEI2015C10_SODIUM                0.0429   0.0038\n",
              "HEI2015C11_REFINEDGRAIN          0.0094   0.5242\n",
              "HEI2015C12_SFAT                 -0.0111   0.4531\n",
              "HEI2015C13_ADDSUG               -0.0691   0.0000\n",
              "HEI2015_TOTAL_SCORE             -0.0531   0.0003\n",
              "DPQ010                           0.6591   0.0000\n",
              "DPQ020                           0.7106   0.0000\n",
              "DPQ030                           0.6123   0.0000\n",
              "DPQ040                           0.6104   0.0000\n",
              "DPQ050                           0.5983   0.0000\n",
              "DPQ060                           0.6865   0.0000\n",
              "DPQ070                           0.6267   0.0000\n",
              "DPQ080                           0.5268   0.0000\n",
              "DPQ090                           0.4838   0.0000\n",
              "RIAGENDR                         0.0778   0.0000\n",
              "RIDAGEYR                        -0.0262   0.0774\n",
              "RIDRETH1                         0.0064   0.6671\n",
              "DMDEDUC                         -0.0941   0.0000\n",
              "INDFMINC                        -0.1394   0.0000\n",
              "phq9                             0.9354   0.0000"
            ]
          },
          "metadata": {},
          "execution_count": 153
        }
      ]
    },
    {
      "cell_type": "markdown",
      "metadata": {
        "id": "YMzyilZA5FbK"
      },
      "source": [
        "Segundo a correlação de Pearson, p-valor acima de 0.05 significam que não podemos afirmar que há correlação entre a variável e o target"
      ]
    },
    {
      "cell_type": "markdown",
      "metadata": {
        "id": "Z2fgy1P15Hsw"
      },
      "source": [
        "Dessa forma, RIDAGEYR e RIDAGEYR, que consideramos nas análises anteriores, devem ficar de fora"
      ]
    },
    {
      "cell_type": "markdown",
      "metadata": {
        "id": "uywbQYYs6Zkz"
      },
      "source": [
        "# Conclusão"
      ]
    },
    {
      "cell_type": "markdown",
      "metadata": {
        "id": "m0AVo4Ff6der"
      },
      "source": [
        "O estudo empregado é o observacional\n",
        "\n",
        "Uma possível fonte de viés é da escolha de um só grupo para a pesquisa. Como a renda de maior que 75000 por ano é discrepante em relação às demais, pode ser que haja um viés.\n",
        "\n",
        "Apesar da correlação é baixa, acredito que podemos afirmar que hábitos saudáveis possuem um efeito causal na prevenção de depressão.\n",
        "\n",
        "Uma das fraquezas da análise é a regionalização da amostra. \n",
        "\n",
        "Poderia ter sido coletada informação sobre medicamentos utilizados para depressão, relação com a família e amigos."
      ]
    },
    {
      "cell_type": "code",
      "metadata": {
        "id": "2tFiBxLB6bjl"
      },
      "source": [
        ""
      ],
      "execution_count": null,
      "outputs": []
    }
  ]
}